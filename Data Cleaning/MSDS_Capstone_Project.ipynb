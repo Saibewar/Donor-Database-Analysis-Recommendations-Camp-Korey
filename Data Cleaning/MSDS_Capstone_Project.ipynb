{
 "cells": [
  {
   "cell_type": "markdown",
   "id": "daaed47b",
   "metadata": {},
   "source": [
    "## CAMP KOREY | Capstone Project |  Last Modified: 9/1/2023"
   ]
  },
  {
   "cell_type": "code",
   "execution_count": null,
   "id": "2e3edfa1",
   "metadata": {
    "scrolled": true
   },
   "outputs": [],
   "source": [
    "#import necessary libraries\n",
    "import pandas as pd\n",
    "import numpy as np\n",
    "import altair as alt\n",
    "import datetime\n",
    "import re"
   ]
  },
  {
   "cell_type": "code",
   "execution_count": null,
   "id": "3390aec7",
   "metadata": {
    "scrolled": true
   },
   "outputs": [],
   "source": [
    "alt.data_transformers.disable_max_rows()"
   ]
  },
  {
   "cell_type": "markdown",
   "id": "72f657b4",
   "metadata": {},
   "source": [
    "### Naming convention for dataframes:\n",
    "\n",
    "\n",
    "Donor biographical df = dnr_bio_df\n",
    "\n",
    "Individual Donor biographical = InDnr_bio_df\n",
    "\n",
    "Gifts dataset = gft_df\n",
    "\n",
    "Individual gifts dataset = InDnr_Gft_df\n",
    "\n",
    "Volunteer activity dataset = VA_df\n"
   ]
  },
  {
   "cell_type": "markdown",
   "id": "9b1242d9",
   "metadata": {},
   "source": [
    "## Data Cleaning - Donor Biographical data"
   ]
  },
  {
   "cell_type": "code",
   "execution_count": null,
   "id": "08cdc34c",
   "metadata": {
    "scrolled": false
   },
   "outputs": [],
   "source": [
    "dnr_bio_df = pd.read_csv('Camp Korey Donor Biographical Data with Const ID.CSV',\n",
    "                        encoding = 'unicode_escape',\n",
    "                        low_memory = False)\n",
    "dnr_bio_df.head()\n",
    "# 22309 rows"
   ]
  },
  {
   "cell_type": "markdown",
   "id": "de8541a4",
   "metadata": {},
   "source": [
    "* Deleting columns CnBio_Sort_name, CnCnstncy_1_01_CodeLong from dnr_bio_df() dataframe as they are duplicates\n",
    "\n",
    "Note: \n",
    "* CnBio_Sort_name is same as CnBio_Name\n",
    "* CnCnstncy_1_01_CodeLong is same as CnBio_Constit_Code\n"
   ]
  },
  {
   "cell_type": "code",
   "execution_count": null,
   "id": "3d3e6ca9",
   "metadata": {
    "scrolled": true
   },
   "outputs": [],
   "source": [
    "dnr_bio_df = dnr_bio_df.drop(['CnBio_Sort_name','CnCnstncy_1_01_CodeLong'], axis=1)"
   ]
  },
  {
   "cell_type": "code",
   "execution_count": null,
   "id": "9f49bcf1",
   "metadata": {
    "scrolled": true
   },
   "outputs": [],
   "source": [
    "dnr_bio_df.info()"
   ]
  },
  {
   "cell_type": "markdown",
   "id": "e9877f34",
   "metadata": {},
   "source": [
    "#### Transforming the Solicit code:"
   ]
  },
  {
   "cell_type": "markdown",
   "id": "0586e30c",
   "metadata": {},
   "source": [
    "Went through and looked at unique codes for all solicit code fields 1-5. Then organized these codes by their meaning. \n",
    "\n",
    "*Not sure what Opt-In and Opt-Out mean at this point... Or Opt-In Cabin Chat, Opt-In Experience Camp Korey (are these newsletters?"
   ]
  },
  {
   "cell_type": "code",
   "execution_count": null,
   "id": "1ceee19f",
   "metadata": {
    "scrolled": true
   },
   "outputs": [],
   "source": [
    "#looked at all unique values across the 5 solicit columns and created a full list\n",
    "#used: dn_bio_df.CnSolCd_1_05_Solicit_Code.unique()\n",
    "list_of_codes = ['Invalid Email', 'Do Not Solicit', 'Do Not Email',\n",
    "       'No Contact At All', 'Do Not Mail', 'Do Not Contact',\n",
    "       'Agreed to receive postal mail', 'Opt-In', 'Opt-Out',\n",
    "       'Do Not Email, Do Not Call', 'DO NOT CALL. DO NOT CALL',\n",
    "       'Opt-in Cabin Chat', 'Do Not Call', 'Send info on / invitations to events',\n",
    "        'Opt-in Experience Camp Korey', 'Do not send info on events', \n",
    "        'Agreed to receive postal mail', 'Agreed to reach by phone']\n",
    "\n",
    "#sorting by functional meaning:\n",
    "\n",
    "dont_email = ['Do Not Solicit', 'No Contact At All', 'Do Not Contact', 'Invalid Email', 'Do Not Email', \n",
    "             'Do Not Email, Do Not Call', ]\n",
    "\n",
    "invalid_email = ['Invalid Email']\n",
    "\n",
    "dont_call = ['Do Not Solicit', 'No Contact At All', 'Do Not Contact', 'Do Not Email, Do Not Call', \n",
    "             'DO NOT CALL. DO NOT CALL', 'Do Not Call']\n",
    "\n",
    "dont_mail = ['Do Not Solicit', 'No Contact At All', 'Do Not Contact', 'Do Not Mail', ]\n"
   ]
  },
  {
   "cell_type": "markdown",
   "id": "57e6033e",
   "metadata": {},
   "source": [
    "Now I'm calculating three new fields which tell us if any of the 5 solicit columns contains an instruction that means they shouldn't be emailed/called/mailed. \n",
    "- dne = do not email\n",
    "- dnc = do not call\n",
    "- dnm = do not mail\n",
    "- invalid_email"
   ]
  },
  {
   "cell_type": "code",
   "execution_count": null,
   "id": "beb5dc6e",
   "metadata": {
    "scrolled": true
   },
   "outputs": [],
   "source": [
    "#isin() function returns True if the row has a code in the \"dont_email\" list above\n",
    "#then adding all of the boolean values:\n",
    "#each row will have 'True' if they had a \"dont email\" code in ANY of the solicit columns\n",
    "dnr_bio_df['dne'] = (\n",
    "    np.isin(dnr_bio_df['CnSolCd_1_01_Solicit_Code'], dont_email)\n",
    "    + np.isin(dnr_bio_df['CnSolCd_1_02_Solicit_Code'], dont_email)\n",
    "    + np.isin(dnr_bio_df['CnSolCd_1_03_Solicit_Code'], dont_email)\n",
    "    + np.isin(dnr_bio_df['CnSolCd_1_04_Solicit_Code'], dont_email)\n",
    "    + np.isin(dnr_bio_df['CnSolCd_1_05_Solicit_Code'], dont_email)\n",
    ") \n",
    "\n",
    "#same idea but for call and mail fields\n",
    "dnr_bio_df['dnc'] = (\n",
    "    np.isin(dnr_bio_df['CnSolCd_1_01_Solicit_Code'], dont_call)\n",
    "    + np.isin(dnr_bio_df['CnSolCd_1_02_Solicit_Code'], dont_call)\n",
    "    + np.isin(dnr_bio_df['CnSolCd_1_03_Solicit_Code'], dont_call)\n",
    "    + np.isin(dnr_bio_df['CnSolCd_1_04_Solicit_Code'], dont_call)\n",
    "    + np.isin(dnr_bio_df['CnSolCd_1_05_Solicit_Code'], dont_call)\n",
    ") \n",
    "\n",
    "dnr_bio_df['dnm'] = (\n",
    "    np.isin(dnr_bio_df['CnSolCd_1_01_Solicit_Code'], dont_mail)\n",
    "    + np.isin(dnr_bio_df['CnSolCd_1_02_Solicit_Code'], dont_mail)\n",
    "    + np.isin(dnr_bio_df['CnSolCd_1_03_Solicit_Code'], dont_mail)\n",
    "    + np.isin(dnr_bio_df['CnSolCd_1_04_Solicit_Code'], dont_mail)\n",
    "    + np.isin(dnr_bio_df['CnSolCd_1_05_Solicit_Code'], dont_mail)\n",
    ") \n",
    "\n",
    "dnr_bio_df['invalid_email'] = (\n",
    "    np.isin(dnr_bio_df['CnSolCd_1_01_Solicit_Code'], invalid_email)\n",
    "    + np.isin(dnr_bio_df['CnSolCd_1_02_Solicit_Code'], invalid_email)\n",
    "    + np.isin(dnr_bio_df['CnSolCd_1_03_Solicit_Code'], invalid_email)\n",
    "    + np.isin(dnr_bio_df['CnSolCd_1_04_Solicit_Code'], invalid_email)\n",
    "    + np.isin(dnr_bio_df['CnSolCd_1_05_Solicit_Code'], invalid_email)\n",
    ") "
   ]
  },
  {
   "cell_type": "markdown",
   "id": "c542c2ef",
   "metadata": {},
   "source": [
    "#### Normalizing the primary email id"
   ]
  },
  {
   "cell_type": "code",
   "execution_count": null,
   "id": "637a861e",
   "metadata": {},
   "outputs": [],
   "source": [
    "#Checking the list for Is_Primary columns and replacing Yes with True, and No with False\n",
    "\n",
    "for is_primary_col in [ 'CnPh_1_01_Is_Primary', 'CnPh_1_02_Is_Primary','CnPh_1_03_Is_Primary', 'CnPh_1_04_Is_Primary','CnPh_1_05_Is_Primary', 'CnPh_1_06_Is_Primary']:\n",
    "    \n",
    "    dnr_bio_df[is_primary_col]= dnr_bio_df[is_primary_col].replace({'Yes': True, 'No': False})\n",
    "\n"
   ]
  },
  {
   "cell_type": "code",
   "execution_count": null,
   "id": "998f58a8",
   "metadata": {},
   "outputs": [],
   "source": [
    "#creating a new primary email column\n",
    "\n",
    "dnr_bio_df['prim_email'] = dnr_bio_df.apply(\n",
    "    \n",
    "    lambda row: next((row[phon_col] for phon_col in ['CnPh_1_01_Phone_type','CnPh_1_02_Phone_type','CnPh_1_03_Phone_type',  'CnPh_1_04_Phone_type', 'CnPh_1_05_Phone_type',  'CnPh_1_06_Phone_type'] \n",
    "                      \n",
    "                      if phon_col.replace('Phone_type', 'Is_Primary') in row.index \n",
    "                      and row[ phon_col.replace('Phone_type', 'Is_Primary') ]), None),\n",
    "    axis=1)\n",
    "    "
   ]
  },
  {
   "cell_type": "code",
   "execution_count": null,
   "id": "43681648",
   "metadata": {},
   "outputs": [],
   "source": [
    "#Drop all the phone_type columns and Is_Primary columns\n",
    "dnr_bio_df =  dnr_bio_df.drop(['CnPh_1_01_Phone_type','CnPh_1_02_Phone_type','CnPh_1_03_Phone_type','CnPh_1_04_Phone_type','CnPh_1_05_Phone_type','CnPh_1_06_Phone_type','CnPh_1_01_Is_Primary','CnPh_1_02_Is_Primary','CnPh_1_03_Is_Primary','CnPh_1_04_Is_Primary','CnPh_1_05_Is_Primary','CnPh_1_06_Is_Primary'], axis=1)\n"
   ]
  },
  {
   "cell_type": "code",
   "execution_count": null,
   "id": "497e5d92",
   "metadata": {
    "scrolled": true
   },
   "outputs": [],
   "source": [
    "dnr_bio_df.head()\n",
    "\n",
    "#1798 rows with primary email"
   ]
  },
  {
   "cell_type": "markdown",
   "id": "8e1a2ee4",
   "metadata": {},
   "source": [
    "#### Check for empty first and last names, with constituent code as \"Individual,\" and update them to \"Corporate.\"\n"
   ]
  },
  {
   "cell_type": "code",
   "execution_count": null,
   "id": "dcca7bce",
   "metadata": {
    "scrolled": true
   },
   "outputs": [],
   "source": [
    "dnr_bio_df.CnBio_Constit_Code.unique()"
   ]
  },
  {
   "cell_type": "code",
   "execution_count": null,
   "id": "fa4e6065",
   "metadata": {
    "scrolled": true
   },
   "outputs": [],
   "source": [
    "# Find the rows with empty first and last names and constituent code as \"Individual\"\n",
    "condition_rows = ((dnr_bio_df['CnBio_First_Name'].isnull()) \n",
    "                 & (dnr_bio_df['CnBio_Last_Name'].isnull())  \n",
    "                 & (dnr_bio_df['CnBio_Constit_Code'] == 'Individual'))\n",
    "\n",
    "# Modify the constituent code for the matching rows to \"Corporate\"\n",
    "dnr_bio_df.loc[condition_rows, 'CnBio_Constit_Code'] = 'Corporate'\n"
   ]
  },
  {
   "cell_type": "code",
   "execution_count": null,
   "id": "c0e7a166",
   "metadata": {},
   "outputs": [],
   "source": [
    "dnr_bio_df.head()"
   ]
  },
  {
   "cell_type": "markdown",
   "id": "ccfec8fb",
   "metadata": {},
   "source": [
    "#### Generating a unique identifier value for all the blank fields in 'CnBio_ID' "
   ]
  },
  {
   "cell_type": "markdown",
   "id": "9a377d54",
   "metadata": {},
   "source": [
    "* Fetch the rows where CnBio_ID is empty and update those rows with a unique identifier value"
   ]
  },
  {
   "cell_type": "code",
   "execution_count": null,
   "id": "d53effb6",
   "metadata": {
    "scrolled": true
   },
   "outputs": [],
   "source": [
    "null_Bio_Id_records = dnr_bio_df[dnr_bio_df['CnBio_ID'].isnull()]\n",
    "null_Bio_Id_records"
   ]
  },
  {
   "cell_type": "markdown",
   "id": "627df93f",
   "metadata": {
    "scrolled": true
   },
   "source": [
    "* Drop the duplicate rows in the dataframe"
   ]
  },
  {
   "cell_type": "code",
   "execution_count": null,
   "id": "b5ff143f",
   "metadata": {},
   "outputs": [],
   "source": [
    "null_Bio_Id_records = null_Bio_Id_records.drop_duplicates(subset=['CnBio_Name'])"
   ]
  },
  {
   "cell_type": "code",
   "execution_count": null,
   "id": "8bc71018",
   "metadata": {},
   "outputs": [],
   "source": [
    "null_Bio_Id_records"
   ]
  },
  {
   "cell_type": "markdown",
   "id": "94ea34b2",
   "metadata": {},
   "source": [
    "* Row with CnBio_Name as 'Traci Trocano' has CnBio_ID as '12/21/1959'. Therefore, update the CnBio_ID with a unique value"
   ]
  },
  {
   "cell_type": "code",
   "execution_count": null,
   "id": "f5bfe6a4",
   "metadata": {},
   "outputs": [],
   "source": [
    "#fetch the row where id is incorrect\n",
    "trocano_modify = dnr_bio_df[dnr_bio_df['CnBio_Name']== 'Traci Trocano']\n",
    "\n",
    "#Append the trocano_modify to the null_Bio_Id_records dataframe\n",
    "null_Bio_Id_records = null_Bio_Id_records.append(trocano_modify, ignore_index = True)\n",
    "null_Bio_Id_records\n"
   ]
  },
  {
   "cell_type": "markdown",
   "id": "1c8c272c",
   "metadata": {},
   "source": [
    "* Generate a unique identifier with 9 digits"
   ]
  },
  {
   "cell_type": "code",
   "execution_count": null,
   "id": "43d61a3f",
   "metadata": {},
   "outputs": [],
   "source": [
    "unq_ids = np.arange(10000, 10000+len(dnr_bio_df))\n",
    "\n",
    "#set the seed in order to get same CnBio_ID even if we run multiple times\n",
    "np.random.seed(37)\n",
    "np.random.shuffle(unq_ids)\n",
    "\n",
    "#appending unique id to 0000\n",
    "unq_ids = ['0000' + str(unq_id) for unq_id in unq_ids]\n",
    "\n",
    "#Updating all empty records with unique id\n",
    "null_Bio_Id_records['CnBio_ID'] = unq_ids[:len(null_Bio_Id_records)]"
   ]
  },
  {
   "cell_type": "code",
   "execution_count": null,
   "id": "0b8a2e6a",
   "metadata": {},
   "outputs": [],
   "source": [
    "null_Bio_Id_records"
   ]
  },
  {
   "cell_type": "code",
   "execution_count": null,
   "id": "27a55e1f",
   "metadata": {},
   "outputs": [],
   "source": [
    "#saving the newly generated id's information\n",
    "null_Bio_Id_records.to_csv('Records_With_NewIDs.csv',encoding='utf-8')"
   ]
  },
  {
   "cell_type": "code",
   "execution_count": null,
   "id": "16ca7bec",
   "metadata": {},
   "outputs": [],
   "source": [
    "dnr_bio_df"
   ]
  },
  {
   "cell_type": "code",
   "execution_count": null,
   "id": "2ca279f8",
   "metadata": {},
   "outputs": [],
   "source": [
    "# Update the dnr_bio_df with the values in null_Bio_Id_records\n",
    "#dnr_bio_df.update(null_Bio_Id_records,overwrite=True)"
   ]
  },
  {
   "cell_type": "code",
   "execution_count": null,
   "id": "5b6d331e",
   "metadata": {},
   "outputs": [],
   "source": [
    "# Merge the CnBio_ID_x column based on the CnBio_ID_y column.\n",
    "\n",
    "dn_merged_null = pd.merge(dnr_bio_df, null_Bio_Id_records[['CnBio_Name', 'CnBio_ID']], on='CnBio_Name', how='left')\n"
   ]
  },
  {
   "cell_type": "code",
   "execution_count": null,
   "id": "82f05653",
   "metadata": {},
   "outputs": [],
   "source": [
    "dn_merged_null.info()"
   ]
  },
  {
   "cell_type": "code",
   "execution_count": null,
   "id": "3200e049",
   "metadata": {},
   "outputs": [],
   "source": [
    "dn_merged_null['CnBio_ID_x'].update(dn_merged_null['CnBio_ID_y'])"
   ]
  },
  {
   "cell_type": "code",
   "execution_count": null,
   "id": "c896be3d",
   "metadata": {},
   "outputs": [],
   "source": [
    "#check if the merging is done correctly for these donors\n",
    "verify_users = dn_merged_null[dn_merged_null['CnBio_Name'].isin(['Lisa Eskenazy', 'Traci Trocano','David Boland'])]\n",
    "verify_users"
   ]
  },
  {
   "cell_type": "code",
   "execution_count": null,
   "id": "31146c27",
   "metadata": {},
   "outputs": [],
   "source": [
    "# merge the CnBio_ID column with the actual dataset\n",
    "dnr_bio_df['CnBio_ID'].update(dn_merged_null['CnBio_ID_x'])"
   ]
  },
  {
   "cell_type": "code",
   "execution_count": null,
   "id": "2246c33c",
   "metadata": {},
   "outputs": [],
   "source": [
    "#verify these users again\n",
    "verify_users = dnr_bio_df[dnr_bio_df['CnBio_Name'].isin(['Lisa Eskenazy', 'Traci Trocano',])]\n",
    "verify_users"
   ]
  },
  {
   "cell_type": "code",
   "execution_count": null,
   "id": "293b7b80",
   "metadata": {},
   "outputs": [],
   "source": [
    "dnr_bio_df"
   ]
  },
  {
   "cell_type": "markdown",
   "id": "374dab4a",
   "metadata": {},
   "source": [
    "#### Saving the cleaned donor file"
   ]
  },
  {
   "cell_type": "code",
   "execution_count": null,
   "id": "79b5eccd",
   "metadata": {
    "scrolled": true
   },
   "outputs": [],
   "source": [
    "dnr_bio_df.to_csv('Cleaned_Donor_bio.csv',encoding='utf-8')"
   ]
  },
  {
   "cell_type": "markdown",
   "id": "4082d6f6",
   "metadata": {},
   "source": [
    "*************************************************************"
   ]
  },
  {
   "cell_type": "markdown",
   "id": "b1a12066",
   "metadata": {},
   "source": [
    "## Data Cleaning - Gifts Dataset"
   ]
  },
  {
   "cell_type": "code",
   "execution_count": null,
   "id": "4ac1a4c4",
   "metadata": {
    "scrolled": true
   },
   "outputs": [],
   "source": [
    "#df_da : donor analysis\n",
    "df_da = pd.read_csv('All Gifts for Donor Analysis.csv',encoding= 'unicode_escape')"
   ]
  },
  {
   "cell_type": "markdown",
   "id": "f50df0fd",
   "metadata": {},
   "source": [
    "* Filter to only 2020,2021,2022"
   ]
  },
  {
   "cell_type": "code",
   "execution_count": null,
   "id": "f6b4b3f0",
   "metadata": {
    "scrolled": true
   },
   "outputs": [],
   "source": [
    "#Make a copy of donor analysis df first\n",
    "gft_df = df_da.copy()"
   ]
  },
  {
   "cell_type": "code",
   "execution_count": null,
   "id": "d4ddfdbe",
   "metadata": {
    "scrolled": true
   },
   "outputs": [],
   "source": [
    "# years we are interested in\n",
    "yearlist = [2020,2021,2022]"
   ]
  },
  {
   "cell_type": "code",
   "execution_count": null,
   "id": "77398b65",
   "metadata": {
    "scrolled": true
   },
   "outputs": [],
   "source": [
    "#Change Gf_Date to date datatype and extract year and month\n",
    "gft_df['Gf_Date']= pd.to_datetime(df_da['Gf_Date'])\n",
    "gft_df['year_donated'] = gft_df['Gf_Date'].dt.year\n",
    "gft_df['month_donated'] = gft_df['Gf_Date'].dt.month"
   ]
  },
  {
   "cell_type": "code",
   "execution_count": null,
   "id": "46fac26d",
   "metadata": {
    "scrolled": true
   },
   "outputs": [],
   "source": [
    "gft_df.year_donated.unique()"
   ]
  },
  {
   "cell_type": "code",
   "execution_count": null,
   "id": "59eb69f7",
   "metadata": {
    "scrolled": true
   },
   "outputs": [],
   "source": [
    "gft_df = gft_df[gft_df['year_donated'].isin(yearlist)]"
   ]
  },
  {
   "cell_type": "code",
   "execution_count": null,
   "id": "7a815676",
   "metadata": {
    "scrolled": true
   },
   "outputs": [],
   "source": [
    "gft_df.year_donated.unique()"
   ]
  },
  {
   "cell_type": "code",
   "execution_count": null,
   "id": "93866af1",
   "metadata": {
    "scrolled": true
   },
   "outputs": [],
   "source": [
    "gft_df.info()"
   ]
  },
  {
   "cell_type": "markdown",
   "id": "2d85e3d6",
   "metadata": {},
   "source": [
    "* Filtering resulted in  6639 entries"
   ]
  },
  {
   "cell_type": "markdown",
   "id": "1eb4706b",
   "metadata": {},
   "source": [
    "* Clean up 'Gf_Amount' columns to hold numeric data only, "
   ]
  },
  {
   "cell_type": "code",
   "execution_count": null,
   "id": "2e41dd51",
   "metadata": {
    "scrolled": true
   },
   "outputs": [],
   "source": [
    "#Replace '$' symbol, replace ',' and change datatype to float for Gf_Amount\n",
    "gft_df[\"Gf_Amount\"]=gft_df[\"Gf_Amount\"].str.replace(\"$\",\"\")\n",
    "gft_df[\"Gf_Amount\"]=gft_df[\"Gf_Amount\"].str.replace(\",\",\"\")\n",
    "\n",
    "# change to datatype float\n",
    "gft_df[\"Gf_Amount\"] = gft_df[\"Gf_Amount\"].astype(str).astype(float)\n",
    "gft_df[\"Gf_Amount\"]"
   ]
  },
  {
   "cell_type": "markdown",
   "id": "dd1b0ca5",
   "metadata": {},
   "source": [
    "* Delete 'Gf_Receipt_amount' and 'Gf_Gift_code' as requested by CK(2/14)"
   ]
  },
  {
   "cell_type": "code",
   "execution_count": null,
   "id": "3bd716d3",
   "metadata": {
    "scrolled": true
   },
   "outputs": [],
   "source": [
    "#Delete Gf_Receipt_amount \n",
    "gft_df.drop('Gf_Receipt_amount', inplace=True, axis=1)\n",
    "gft_df.drop('Gf_Gift_code', inplace=True, axis=1)"
   ]
  },
  {
   "cell_type": "markdown",
   "id": "f270a56a",
   "metadata": {},
   "source": [
    "* Creating a new column Gf_Fund and renaming it to Gf_Fund_Old"
   ]
  },
  {
   "cell_type": "code",
   "execution_count": null,
   "id": "2cd9b704",
   "metadata": {
    "scrolled": true
   },
   "outputs": [],
   "source": [
    "gft_df['Gf_Fund_Old'] = gft_df['Gf_Fund'].copy().rename('Gf_Fund_Old')\n"
   ]
  },
  {
   "cell_type": "code",
   "execution_count": null,
   "id": "b0875ce1",
   "metadata": {
    "scrolled": true
   },
   "outputs": [],
   "source": [
    "gft_df.info()"
   ]
  },
  {
   "cell_type": "markdown",
   "id": "e7dd6220",
   "metadata": {},
   "source": [
    "#### Gf_Fund categories"
   ]
  },
  {
   "cell_type": "code",
   "execution_count": null,
   "id": "dde3022e",
   "metadata": {
    "scrolled": true
   },
   "outputs": [],
   "source": [
    "gft_df.Gf_Fund.unique()"
   ]
  },
  {
   "cell_type": "code",
   "execution_count": null,
   "id": "9c019c74",
   "metadata": {},
   "outputs": [],
   "source": [
    "# Replacing all the categories that starts with 100 and EOY2020 to a new category \"100: Fundraising\"\n",
    "gft_df.loc[gft_df['Gf_Fund'].str.startswith(('100','EOY2020')), 'Gf_Fund'] = '100:Fundraising'\n",
    "\n",
    "gft_df.Gf_Fund.unique()"
   ]
  },
  {
   "cell_type": "markdown",
   "id": "ab71fc43",
   "metadata": {},
   "source": [
    "* Deleting columns Gf_CnAdrPrf_City2, Gf_CnAdrPrf_State2, Gf_CnAdrPrf_ZIP2 from df_gifts dataframe as they are duplicates\n",
    "\n",
    "Note: \n",
    "* Gf_CnAdrPrf_City2 is the same as Gf_CnAdrPrf_City.\n",
    "* Gf_CnAdrPrf_State2 is the same as Gf_CnAdrPrf_State. \n",
    "* Gf_CnAdrPrf_ZIP2 is the same as Gf_CnAdrPrf_ZIP. "
   ]
  },
  {
   "cell_type": "code",
   "execution_count": null,
   "id": "b2ce9f61",
   "metadata": {
    "scrolled": true
   },
   "outputs": [],
   "source": [
    "gft_df = gft_df.drop(['Gf_CnAdrPrf_City2','Gf_CnAdrPrf_State2', 'Gf_CnAdrPrf_ZIP2'], axis=1)\n"
   ]
  },
  {
   "cell_type": "markdown",
   "id": "868f0abe",
   "metadata": {},
   "source": [
    "#### Update the Gifts dataset with the unique identification number generated for empty_id_rows in Donor dataset."
   ]
  },
  {
   "cell_type": "markdown",
   "id": "b5617333",
   "metadata": {},
   "source": [
    "* Update values of 'Gf_CnBio_ID' in Gifts dataset based on the generated unique id of Donor dataset"
   ]
  },
  {
   "cell_type": "code",
   "execution_count": null,
   "id": "19143bb7",
   "metadata": {},
   "outputs": [],
   "source": [
    "for indexNo, rowdetails in null_Bio_Id_records.iterrows():\n",
    "    donor_name = rowdetails['CnBio_Name']\n",
    "    new_unique_id = rowdetails['CnBio_ID']\n",
    "    gft_df.loc[gft_df['Gf_CnBio_Name'] == donor_name, 'Gf_CnBio_ID'] = new_unique_id\n"
   ]
  },
  {
   "cell_type": "code",
   "execution_count": null,
   "id": "95630aa3",
   "metadata": {},
   "outputs": [],
   "source": [
    "#verify it for one donor\n",
    "sam_moyda_row = gft_df[gft_df['Gf_CnBio_Name']== 'Sam Myoda']\n",
    "sam_moyda_row"
   ]
  },
  {
   "cell_type": "markdown",
   "id": "bde6e7b8",
   "metadata": {},
   "source": [
    "#### Saving the cleaned gifts file"
   ]
  },
  {
   "cell_type": "code",
   "execution_count": null,
   "id": "5aa0f03b",
   "metadata": {
    "scrolled": true
   },
   "outputs": [],
   "source": [
    "gft_df.to_csv('Cleaned_Gifts.csv',encoding='utf-8')"
   ]
  },
  {
   "cell_type": "markdown",
   "id": "9f83ec2f",
   "metadata": {},
   "source": [
    "**********"
   ]
  },
  {
   "cell_type": "markdown",
   "id": "753e2db7",
   "metadata": {},
   "source": [
    "## Exporting the missing donor data"
   ]
  },
  {
   "cell_type": "markdown",
   "id": "0df20811",
   "metadata": {},
   "source": [
    "#### Missing address information"
   ]
  },
  {
   "cell_type": "code",
   "execution_count": null,
   "id": "bdba6521",
   "metadata": {
    "scrolled": true
   },
   "outputs": [],
   "source": [
    "#Select the rows where there is no valid address\n",
    "invalid_address = dnr_bio_df[dnr_bio_df['CnBio_No_Valid_Addresses'] == 'Yes']\n",
    "\n",
    "#invalid_address.sort_values(by='col1', ascending=False)\n",
    "\n",
    "#saving the missing donor address information\n",
    "invalid_address.to_csv('missing_donor_address.csv',encoding='utf-8')\n",
    "\n",
    "#Fetch top 5 rows\n",
    "invalid_address.head(5)"
   ]
  },
  {
   "cell_type": "markdown",
   "id": "9033bc87",
   "metadata": {},
   "source": [
    "#### Missing email information"
   ]
  },
  {
   "cell_type": "code",
   "execution_count": null,
   "id": "988ea539",
   "metadata": {},
   "outputs": [],
   "source": [
    "#Select the rows where there is an invalid email\n",
    "invalid_email = dnr_bio_df[dnr_bio_df['invalid_email'] == True]\n",
    "\n",
    "#saving the missing donor email information\n",
    "invalid_email.to_csv('missing_donor_email.csv',encoding='utf-8')\n",
    "\n",
    "\n",
    "# Fetch top 5 rows\n",
    "invalid_email.head(5)"
   ]
  },
  {
   "cell_type": "markdown",
   "id": "73cb0ead",
   "metadata": {},
   "source": [
    "********"
   ]
  },
  {
   "cell_type": "markdown",
   "id": "a212ba47",
   "metadata": {},
   "source": [
    "## Analysing Data"
   ]
  },
  {
   "cell_type": "markdown",
   "id": "7f881f5f",
   "metadata": {},
   "source": [
    " * Sum of donations for each type of fund"
   ]
  },
  {
   "cell_type": "code",
   "execution_count": null,
   "id": "cbd48461",
   "metadata": {
    "scrolled": true
   },
   "outputs": [],
   "source": [
    "dnr_sum_by_fnd_typ = gft_df.groupby('Gf_Fund')['Gf_Amount'].sum()\n",
    "dnr_sum_by_fnd_typ"
   ]
  },
  {
   "cell_type": "markdown",
   "id": "facfb5c6",
   "metadata": {},
   "source": [
    "* Sum of donations for each type of fund on yearly basis"
   ]
  },
  {
   "cell_type": "code",
   "execution_count": null,
   "id": "1d1a36bd",
   "metadata": {
    "scrolled": true
   },
   "outputs": [],
   "source": [
    "dnr_sum_by_fnd_typ_and_year = gft_df.groupby(['Gf_Fund','year_donated'])['Gf_Amount'].sum()\n",
    "dnr_sum_by_fnd_typ_and_year"
   ]
  },
  {
   "cell_type": "markdown",
   "id": "44ac6f5e",
   "metadata": {},
   "source": [
    "*****************"
   ]
  },
  {
   "cell_type": "markdown",
   "id": "fba9ec1e",
   "metadata": {},
   "source": [
    "## Exploratory Analysis"
   ]
  },
  {
   "cell_type": "code",
   "execution_count": null,
   "id": "c87a6fd8",
   "metadata": {
    "scrolled": true
   },
   "outputs": [],
   "source": [
    "alt.Chart(gft_df).mark_bar().encode(\n",
    "    alt.Y('count():Q'),\n",
    "    alt.X('Gf_CnBio_Gender:N'),\n",
    "    #alt.Color('year_donated:Q'),\n",
    "    alt.Tooltip('count():Q')\n",
    ").properties(\n",
    "    width=400,\n",
    "    height=250\n",
    ")"
   ]
  },
  {
   "cell_type": "code",
   "execution_count": null,
   "id": "c92831eb",
   "metadata": {
    "scrolled": true
   },
   "outputs": [],
   "source": [
    "#df_da.Gf_Appeal.unique()"
   ]
  },
  {
   "cell_type": "code",
   "execution_count": null,
   "id": "8fde76b7",
   "metadata": {
    "scrolled": true
   },
   "outputs": [],
   "source": [
    "bar = alt.Chart(gft_df).mark_bar().transform_filter(\n",
    "    'datum.year_donated == 2021'\n",
    ").encode(\n",
    "    alt.X('count():Q'),\n",
    "    alt.Y('Gf_Appeal:N',sort=alt.EncodingSortField(\n",
    "        op='count', field='Gf_Appeal', order='descending')),\n",
    "    #alt.Color('year_donated:Q'),\n",
    "    alt.Tooltip('count():Q')\n",
    ").properties(\n",
    "    width=300,\n",
    "    height=600,\n",
    "    title = 'Gift Appeal count| Year 2021'\n",
    ")\n",
    "\n",
    "text = bar.mark_text(\n",
    "    align='left',\n",
    "    baseline='middle',\n",
    "    dy=3  # Nudges text to right so it doesn't appear on top of the bar\n",
    ").encode(\n",
    "    text='count():Q'\n",
    ")\n",
    "\n",
    "(bar + text).properties(\n",
    "    width=300,\n",
    "    height=600,\n",
    ").configure_axis(\n",
    "  labelAngle=0\n",
    ")\n"
   ]
  },
  {
   "cell_type": "code",
   "execution_count": null,
   "id": "2f943b75",
   "metadata": {
    "scrolled": true
   },
   "outputs": [],
   "source": [
    "cumulative_amount_year = gft_df.groupby(['year_donated'])['Gf_Amount'].sum()\n",
    "cumulative_amount_year"
   ]
  },
  {
   "cell_type": "code",
   "execution_count": null,
   "id": "5fbe54bf",
   "metadata": {
    "scrolled": true
   },
   "outputs": [],
   "source": [
    "alt.Chart(gft_df).mark_bar().encode(\n",
    "    alt.X('year_donated:N', title='Year'),\n",
    "    alt.Y('sum(Gf_Amount):Q', title='Total Donation Amount'),\n",
    "    #alt.Color('year_donated:Q'),\n",
    "    alt.Tooltip('sum(Gf_Amount):Q')\n",
    ").properties(\n",
    "    width=650,\n",
    "    height=250,\n",
    "    title=('Total amount donations by year')\n",
    ").configure_axis(\n",
    "  labelAngle=0\n",
    ")"
   ]
  },
  {
   "cell_type": "code",
   "execution_count": null,
   "id": "a78c9079",
   "metadata": {
    "scrolled": true
   },
   "outputs": [],
   "source": [
    "alt.Chart(gft_df).mark_bar().encode(\n",
    "    alt.Y('count():Q'),\n",
    "    alt.X('Gf_Type:N'),\n",
    "    alt.Tooltip('count():Q')\n",
    ").properties(\n",
    "    width=400,\n",
    "    height=250\n",
    ")"
   ]
  },
  {
   "cell_type": "markdown",
   "id": "6e8fdd21",
   "metadata": {},
   "source": [
    "Most gifts are donated in 'Cash'. The varibles sound very similar. Have to filter by year"
   ]
  },
  {
   "cell_type": "code",
   "execution_count": null,
   "id": "a0e21059",
   "metadata": {
    "scrolled": true
   },
   "outputs": [],
   "source": []
  },
  {
   "cell_type": "code",
   "execution_count": null,
   "id": "2acf6bc9",
   "metadata": {
    "scrolled": true
   },
   "outputs": [],
   "source": []
  },
  {
   "cell_type": "code",
   "execution_count": null,
   "id": "3dc741a6",
   "metadata": {
    "scrolled": true
   },
   "outputs": [],
   "source": []
  },
  {
   "cell_type": "code",
   "execution_count": null,
   "id": "d8945739",
   "metadata": {
    "scrolled": true
   },
   "outputs": [],
   "source": []
  },
  {
   "cell_type": "code",
   "execution_count": null,
   "id": "57e2f4c3",
   "metadata": {},
   "outputs": [],
   "source": []
  }
 ],
 "metadata": {
  "kernelspec": {
   "display_name": "Python 3",
   "language": "python",
   "name": "python3"
  },
  "language_info": {
   "codemirror_mode": {
    "name": "ipython",
    "version": 3
   },
   "file_extension": ".py",
   "mimetype": "text/x-python",
   "name": "python",
   "nbconvert_exporter": "python",
   "pygments_lexer": "ipython3",
   "version": "3.8.8"
  }
 },
 "nbformat": 4,
 "nbformat_minor": 5
}
