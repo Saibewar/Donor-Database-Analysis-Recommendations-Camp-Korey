{
  "cells": [
    {
      "cell_type": "markdown",
      "id": "256161ad",
      "metadata": {
        "id": "256161ad"
      },
      "source": [
        "# ES Predictive Model | Camp Korey "
      ]
    },
    {
      "cell_type": "code",
      "execution_count": 48,
      "id": "6fcb3e55",
      "metadata": {
        "id": "6fcb3e55"
      },
      "outputs": [],
      "source": [
        "# Import necessary libraries\n",
        "import pandas as pd\n",
        "import numpy as np\n",
        "import matplotlib.pyplot as plt\n",
        "import seaborn as sns\n",
        "from sklearn import metrics\n",
        "from sklearn.ensemble import RandomForestRegressor\n",
        "from sklearn.model_selection import train_test_split\n",
        "from sklearn.metrics import mean_squared_error,accuracy_score, confusion_matrix, classification_report, r2_score\n",
        "from sklearn.model_selection import train_test_split\n",
        "from sklearn.linear_model import LinearRegression, LassoCV\n",
        "from sklearn.preprocessing import LabelBinarizer, StandardScaler\n",
        "from sklearn.metrics import mean_absolute_error\n",
        "\n",
        "from keras.models import Sequential\n",
        "from keras.layers import Dense, Dropout, Conv2D, MaxPooling2D, Flatten\n",
        "from keras.datasets import mnist, cifar10\n",
        "from keras.utils import to_categorical\n",
        "\n"
      ]
    },
    {
      "cell_type": "code",
      "source": [
        "from google.colab import drive\n",
        "drive.mount('/content/drive')"
      ],
      "metadata": {
        "id": "qn1I9qtwV6mL",
        "colab": {
          "base_uri": "https://localhost:8080/"
        },
        "outputId": "2b4b3456-d6bb-4205-ea87-7c4633df5dad"
      },
      "id": "qn1I9qtwV6mL",
      "execution_count": 49,
      "outputs": [
        {
          "output_type": "stream",
          "name": "stdout",
          "text": [
            "Drive already mounted at /content/drive; to attempt to forcibly remount, call drive.mount(\"/content/drive\", force_remount=True).\n"
          ]
        }
      ]
    },
    {
      "cell_type": "code",
      "execution_count": 50,
      "id": "b1bf6ad2",
      "metadata": {
        "id": "b1bf6ad2"
      },
      "outputs": [],
      "source": [
        "donation_history = pd.read_csv('/content/drive/MyDrive/Individual_1819_KPI.csv')\n"
      ]
    },
    {
      "cell_type": "code",
      "execution_count": 51,
      "id": "8bde272d",
      "metadata": {
        "id": "8bde272d"
      },
      "outputs": [],
      "source": [
        "es_df = pd.read_csv('/content/drive/MyDrive/EngagementScoreV2.csv', index_col=False)"
      ]
    },
    {
      "cell_type": "code",
      "execution_count": 52,
      "id": "405a650f",
      "metadata": {
        "id": "405a650f",
        "colab": {
          "base_uri": "https://localhost:8080/"
        },
        "outputId": "d716038d-f648-43d3-929f-58341a0c4fd5"
      },
      "outputs": [
        {
          "output_type": "stream",
          "name": "stdout",
          "text": [
            "<class 'pandas.core.frame.DataFrame'>\n",
            "RangeIndex: 16658 entries, 0 to 16657\n",
            "Data columns (total 5 columns):\n",
            " #   Column              Non-Null Count  Dtype  \n",
            "---  ------              --------------  -----  \n",
            " 0   Unnamed: 0          16658 non-null  int64  \n",
            " 1   CnBio_ID            16658 non-null  int64  \n",
            " 2   Donation_Score      16658 non-null  float64\n",
            " 3   Volunteering_Score  16658 non-null  float64\n",
            " 4   Engagement_Score    16658 non-null  float64\n",
            "dtypes: float64(3), int64(2)\n",
            "memory usage: 650.8 KB\n"
          ]
        }
      ],
      "source": [
        "es_df.info()"
      ]
    },
    {
      "cell_type": "code",
      "execution_count": 53,
      "id": "16838dd2",
      "metadata": {
        "id": "16838dd2"
      },
      "outputs": [],
      "source": [
        "es_df = es_df.reset_index()\n",
        "es_df = es_df.drop(columns = ['Unnamed: 0','index'])"
      ]
    },
    {
      "cell_type": "code",
      "execution_count": 54,
      "id": "MHNzHkwdmYzG",
      "metadata": {
        "id": "MHNzHkwdmYzG"
      },
      "outputs": [],
      "source": [
        "es_df = es_df.rename(columns={'CnBio_ID':'Gf_CnBio_ID'})"
      ]
    },
    {
      "cell_type": "code",
      "execution_count": 55,
      "id": "l6NilUNCmrb7",
      "metadata": {
        "id": "l6NilUNCmrb7",
        "colab": {
          "base_uri": "https://localhost:8080/"
        },
        "outputId": "49e41e61-3093-47a9-95d2-61bb252bfbca"
      },
      "outputs": [
        {
          "output_type": "stream",
          "name": "stdout",
          "text": [
            "<class 'pandas.core.frame.DataFrame'>\n",
            "RangeIndex: 16658 entries, 0 to 16657\n",
            "Data columns (total 4 columns):\n",
            " #   Column              Non-Null Count  Dtype  \n",
            "---  ------              --------------  -----  \n",
            " 0   Gf_CnBio_ID         16658 non-null  int64  \n",
            " 1   Donation_Score      16658 non-null  float64\n",
            " 2   Volunteering_Score  16658 non-null  float64\n",
            " 3   Engagement_Score    16658 non-null  float64\n",
            "dtypes: float64(3), int64(1)\n",
            "memory usage: 520.7 KB\n"
          ]
        }
      ],
      "source": [
        "es_df.info()"
      ]
    },
    {
      "cell_type": "code",
      "execution_count": 56,
      "id": "22490cb3",
      "metadata": {
        "id": "22490cb3",
        "colab": {
          "base_uri": "https://localhost:8080/"
        },
        "outputId": "7970ca0c-c3dc-429b-a694-28aad211ad72"
      },
      "outputs": [
        {
          "output_type": "stream",
          "name": "stdout",
          "text": [
            "<class 'pandas.core.frame.DataFrame'>\n",
            "RangeIndex: 1804 entries, 0 to 1803\n",
            "Data columns (total 10 columns):\n",
            " #   Column               Non-Null Count  Dtype  \n",
            "---  ------               --------------  -----  \n",
            " 0   Gf_CnBio_ID          1804 non-null   int64  \n",
            " 1   Special_Events       1804 non-null   int64  \n",
            " 2   Total_Donation       1804 non-null   int64  \n",
            " 3   Frequency_Donation   1804 non-null   int64  \n",
            " 4   Recent_Donated_Date  1804 non-null   object \n",
            " 5   Recency              1804 non-null   int64  \n",
            " 6   Last_2_Years         1804 non-null   object \n",
            " 7   Total_Donation.1     1804 non-null   float64\n",
            " 8   CnAdrPrf_City        1430 non-null   object \n",
            " 9   CnAdrPrf_State       1432 non-null   object \n",
            "dtypes: float64(1), int64(5), object(4)\n",
            "memory usage: 141.1+ KB\n"
          ]
        }
      ],
      "source": [
        "donation_history.info()"
      ]
    },
    {
      "cell_type": "markdown",
      "id": "3c475ff3",
      "metadata": {
        "id": "3c475ff3"
      },
      "source": [
        "# Merging ES with Historical KPI table"
      ]
    },
    {
      "cell_type": "code",
      "execution_count": 57,
      "id": "06336fad",
      "metadata": {
        "id": "06336fad",
        "colab": {
          "base_uri": "https://localhost:8080/",
          "height": 270
        },
        "outputId": "4fa71afe-b6c1-420c-f2f7-71abc07fd70f"
      },
      "outputs": [
        {
          "output_type": "execute_result",
          "data": {
            "text/plain": [
              "   Gf_CnBio_ID  Special_Events  Total_Donation  Frequency_Donation  \\\n",
              "0    201822873               0              40                   1   \n",
              "1    201721542               0             300                   3   \n",
              "2    201823300               1            3750                   2   \n",
              "3    201925782               1             100                   2   \n",
              "4    201925799               1             100                   2   \n",
              "\n",
              "  Recent_Donated_Date  Recency Last_2_Years  Total_Donation.1  CnAdrPrf_City  \\\n",
              "0              9/7/18     1695           No              40.0         Helena   \n",
              "1            12/26/18     1585           No             300.0      Anacortes   \n",
              "2              7/8/19     1391          Yes            3750.0  Newport Beach   \n",
              "3             8/26/19     1342           No             100.0            NaN   \n",
              "4             8/26/19     1342           No             100.0            NaN   \n",
              "\n",
              "  CnAdrPrf_State  Donation_Score  Volunteering_Score  Engagement_Score  \n",
              "0             MT             0.0                 0.0               0.0  \n",
              "1             WA             2.4                 0.0               1.2  \n",
              "2             CA             0.0                 0.0               0.0  \n",
              "3            NaN             0.0                 0.0               0.0  \n",
              "4            NaN             0.0                 0.0               0.0  "
            ],
            "text/html": [
              "\n",
              "  <div id=\"df-8c4784cc-3534-4360-9b22-6dac140aa885\">\n",
              "    <div class=\"colab-df-container\">\n",
              "      <div>\n",
              "<style scoped>\n",
              "    .dataframe tbody tr th:only-of-type {\n",
              "        vertical-align: middle;\n",
              "    }\n",
              "\n",
              "    .dataframe tbody tr th {\n",
              "        vertical-align: top;\n",
              "    }\n",
              "\n",
              "    .dataframe thead th {\n",
              "        text-align: right;\n",
              "    }\n",
              "</style>\n",
              "<table border=\"1\" class=\"dataframe\">\n",
              "  <thead>\n",
              "    <tr style=\"text-align: right;\">\n",
              "      <th></th>\n",
              "      <th>Gf_CnBio_ID</th>\n",
              "      <th>Special_Events</th>\n",
              "      <th>Total_Donation</th>\n",
              "      <th>Frequency_Donation</th>\n",
              "      <th>Recent_Donated_Date</th>\n",
              "      <th>Recency</th>\n",
              "      <th>Last_2_Years</th>\n",
              "      <th>Total_Donation.1</th>\n",
              "      <th>CnAdrPrf_City</th>\n",
              "      <th>CnAdrPrf_State</th>\n",
              "      <th>Donation_Score</th>\n",
              "      <th>Volunteering_Score</th>\n",
              "      <th>Engagement_Score</th>\n",
              "    </tr>\n",
              "  </thead>\n",
              "  <tbody>\n",
              "    <tr>\n",
              "      <th>0</th>\n",
              "      <td>201822873</td>\n",
              "      <td>0</td>\n",
              "      <td>40</td>\n",
              "      <td>1</td>\n",
              "      <td>9/7/18</td>\n",
              "      <td>1695</td>\n",
              "      <td>No</td>\n",
              "      <td>40.0</td>\n",
              "      <td>Helena</td>\n",
              "      <td>MT</td>\n",
              "      <td>0.0</td>\n",
              "      <td>0.0</td>\n",
              "      <td>0.0</td>\n",
              "    </tr>\n",
              "    <tr>\n",
              "      <th>1</th>\n",
              "      <td>201721542</td>\n",
              "      <td>0</td>\n",
              "      <td>300</td>\n",
              "      <td>3</td>\n",
              "      <td>12/26/18</td>\n",
              "      <td>1585</td>\n",
              "      <td>No</td>\n",
              "      <td>300.0</td>\n",
              "      <td>Anacortes</td>\n",
              "      <td>WA</td>\n",
              "      <td>2.4</td>\n",
              "      <td>0.0</td>\n",
              "      <td>1.2</td>\n",
              "    </tr>\n",
              "    <tr>\n",
              "      <th>2</th>\n",
              "      <td>201823300</td>\n",
              "      <td>1</td>\n",
              "      <td>3750</td>\n",
              "      <td>2</td>\n",
              "      <td>7/8/19</td>\n",
              "      <td>1391</td>\n",
              "      <td>Yes</td>\n",
              "      <td>3750.0</td>\n",
              "      <td>Newport Beach</td>\n",
              "      <td>CA</td>\n",
              "      <td>0.0</td>\n",
              "      <td>0.0</td>\n",
              "      <td>0.0</td>\n",
              "    </tr>\n",
              "    <tr>\n",
              "      <th>3</th>\n",
              "      <td>201925782</td>\n",
              "      <td>1</td>\n",
              "      <td>100</td>\n",
              "      <td>2</td>\n",
              "      <td>8/26/19</td>\n",
              "      <td>1342</td>\n",
              "      <td>No</td>\n",
              "      <td>100.0</td>\n",
              "      <td>NaN</td>\n",
              "      <td>NaN</td>\n",
              "      <td>0.0</td>\n",
              "      <td>0.0</td>\n",
              "      <td>0.0</td>\n",
              "    </tr>\n",
              "    <tr>\n",
              "      <th>4</th>\n",
              "      <td>201925799</td>\n",
              "      <td>1</td>\n",
              "      <td>100</td>\n",
              "      <td>2</td>\n",
              "      <td>8/26/19</td>\n",
              "      <td>1342</td>\n",
              "      <td>No</td>\n",
              "      <td>100.0</td>\n",
              "      <td>NaN</td>\n",
              "      <td>NaN</td>\n",
              "      <td>0.0</td>\n",
              "      <td>0.0</td>\n",
              "      <td>0.0</td>\n",
              "    </tr>\n",
              "  </tbody>\n",
              "</table>\n",
              "</div>\n",
              "      <button class=\"colab-df-convert\" onclick=\"convertToInteractive('df-8c4784cc-3534-4360-9b22-6dac140aa885')\"\n",
              "              title=\"Convert this dataframe to an interactive table.\"\n",
              "              style=\"display:none;\">\n",
              "        \n",
              "  <svg xmlns=\"http://www.w3.org/2000/svg\" height=\"24px\"viewBox=\"0 0 24 24\"\n",
              "       width=\"24px\">\n",
              "    <path d=\"M0 0h24v24H0V0z\" fill=\"none\"/>\n",
              "    <path d=\"M18.56 5.44l.94 2.06.94-2.06 2.06-.94-2.06-.94-.94-2.06-.94 2.06-2.06.94zm-11 1L8.5 8.5l.94-2.06 2.06-.94-2.06-.94L8.5 2.5l-.94 2.06-2.06.94zm10 10l.94 2.06.94-2.06 2.06-.94-2.06-.94-.94-2.06-.94 2.06-2.06.94z\"/><path d=\"M17.41 7.96l-1.37-1.37c-.4-.4-.92-.59-1.43-.59-.52 0-1.04.2-1.43.59L10.3 9.45l-7.72 7.72c-.78.78-.78 2.05 0 2.83L4 21.41c.39.39.9.59 1.41.59.51 0 1.02-.2 1.41-.59l7.78-7.78 2.81-2.81c.8-.78.8-2.07 0-2.86zM5.41 20L4 18.59l7.72-7.72 1.47 1.35L5.41 20z\"/>\n",
              "  </svg>\n",
              "      </button>\n",
              "      \n",
              "  <style>\n",
              "    .colab-df-container {\n",
              "      display:flex;\n",
              "      flex-wrap:wrap;\n",
              "      gap: 12px;\n",
              "    }\n",
              "\n",
              "    .colab-df-convert {\n",
              "      background-color: #E8F0FE;\n",
              "      border: none;\n",
              "      border-radius: 50%;\n",
              "      cursor: pointer;\n",
              "      display: none;\n",
              "      fill: #1967D2;\n",
              "      height: 32px;\n",
              "      padding: 0 0 0 0;\n",
              "      width: 32px;\n",
              "    }\n",
              "\n",
              "    .colab-df-convert:hover {\n",
              "      background-color: #E2EBFA;\n",
              "      box-shadow: 0px 1px 2px rgba(60, 64, 67, 0.3), 0px 1px 3px 1px rgba(60, 64, 67, 0.15);\n",
              "      fill: #174EA6;\n",
              "    }\n",
              "\n",
              "    [theme=dark] .colab-df-convert {\n",
              "      background-color: #3B4455;\n",
              "      fill: #D2E3FC;\n",
              "    }\n",
              "\n",
              "    [theme=dark] .colab-df-convert:hover {\n",
              "      background-color: #434B5C;\n",
              "      box-shadow: 0px 1px 3px 1px rgba(0, 0, 0, 0.15);\n",
              "      filter: drop-shadow(0px 1px 2px rgba(0, 0, 0, 0.3));\n",
              "      fill: #FFFFFF;\n",
              "    }\n",
              "  </style>\n",
              "\n",
              "      <script>\n",
              "        const buttonEl =\n",
              "          document.querySelector('#df-8c4784cc-3534-4360-9b22-6dac140aa885 button.colab-df-convert');\n",
              "        buttonEl.style.display =\n",
              "          google.colab.kernel.accessAllowed ? 'block' : 'none';\n",
              "\n",
              "        async function convertToInteractive(key) {\n",
              "          const element = document.querySelector('#df-8c4784cc-3534-4360-9b22-6dac140aa885');\n",
              "          const dataTable =\n",
              "            await google.colab.kernel.invokeFunction('convertToInteractive',\n",
              "                                                     [key], {});\n",
              "          if (!dataTable) return;\n",
              "\n",
              "          const docLinkHtml = 'Like what you see? Visit the ' +\n",
              "            '<a target=\"_blank\" href=https://colab.research.google.com/notebooks/data_table.ipynb>data table notebook</a>'\n",
              "            + ' to learn more about interactive tables.';\n",
              "          element.innerHTML = '';\n",
              "          dataTable['output_type'] = 'display_data';\n",
              "          await google.colab.output.renderOutput(dataTable, element);\n",
              "          const docLink = document.createElement('div');\n",
              "          docLink.innerHTML = docLinkHtml;\n",
              "          element.appendChild(docLink);\n",
              "        }\n",
              "      </script>\n",
              "    </div>\n",
              "  </div>\n",
              "  "
            ]
          },
          "metadata": {},
          "execution_count": 57
        }
      ],
      "source": [
        "df = pd.merge(donation_history,es_df, on='Gf_CnBio_ID')\n",
        "df.head()"
      ]
    },
    {
      "cell_type": "code",
      "execution_count": 58,
      "id": "ef698b34",
      "metadata": {
        "id": "ef698b34"
      },
      "outputs": [],
      "source": [
        "df['donated_year'] = pd.DatetimeIndex(df['Recent_Donated_Date']).year"
      ]
    },
    {
      "cell_type": "code",
      "execution_count": 59,
      "id": "53ad7d1c",
      "metadata": {
        "id": "53ad7d1c",
        "colab": {
          "base_uri": "https://localhost:8080/"
        },
        "outputId": "66e59ea4-4f37-4fcf-e4d0-569a119f932e"
      },
      "outputs": [
        {
          "output_type": "stream",
          "name": "stdout",
          "text": [
            "<class 'pandas.core.frame.DataFrame'>\n",
            "Int64Index: 1804 entries, 0 to 1803\n",
            "Data columns (total 14 columns):\n",
            " #   Column               Non-Null Count  Dtype  \n",
            "---  ------               --------------  -----  \n",
            " 0   Gf_CnBio_ID          1804 non-null   int64  \n",
            " 1   Special_Events       1804 non-null   int64  \n",
            " 2   Total_Donation       1804 non-null   int64  \n",
            " 3   Frequency_Donation   1804 non-null   int64  \n",
            " 4   Recent_Donated_Date  1804 non-null   object \n",
            " 5   Recency              1804 non-null   int64  \n",
            " 6   Last_2_Years         1804 non-null   object \n",
            " 7   Total_Donation.1     1804 non-null   float64\n",
            " 8   CnAdrPrf_City        1430 non-null   object \n",
            " 9   CnAdrPrf_State       1432 non-null   object \n",
            " 10  Donation_Score       1804 non-null   float64\n",
            " 11  Volunteering_Score   1804 non-null   float64\n",
            " 12  Engagement_Score     1804 non-null   float64\n",
            " 13  donated_year         1804 non-null   int64  \n",
            "dtypes: float64(4), int64(6), object(4)\n",
            "memory usage: 211.4+ KB\n"
          ]
        }
      ],
      "source": [
        "df.info()"
      ]
    },
    {
      "cell_type": "code",
      "execution_count": 60,
      "id": "d6727f5f",
      "metadata": {
        "id": "d6727f5f",
        "colab": {
          "base_uri": "https://localhost:8080/",
          "height": 364
        },
        "outputId": "b637320a-e430-4443-bd26-e10b10f25f29"
      },
      "outputs": [
        {
          "output_type": "execute_result",
          "data": {
            "text/plain": [
              "        Gf_CnBio_ID  Special_Events  Total_Donation  Frequency_Donation  \\\n",
              "count  1.804000e+03     1804.000000     1804.000000         1804.000000   \n",
              "mean   1.722593e+08        0.381375     1745.536031            2.095344   \n",
              "std    7.133994e+07        0.485859    12498.047273            3.540715   \n",
              "min    9.800000e+01        0.000000        0.000000            1.000000   \n",
              "25%    2.015158e+08        0.000000       58.500000            1.000000   \n",
              "50%    2.018227e+08        0.000000      158.000000            1.000000   \n",
              "75%    2.019244e+08        1.000000      500.000000            2.000000   \n",
              "max    2.022311e+08        1.000000   345550.000000           83.000000   \n",
              "\n",
              "           Recency  Total_Donation.1  Donation_Score  Volunteering_Score  \\\n",
              "count  1804.000000       1804.000000     1804.000000         1804.000000   \n",
              "mean   1511.576497       1745.537079        1.217184            0.073947   \n",
              "std     217.909330      12498.047217        2.417895            0.599767   \n",
              "min    1215.000000          0.010000        0.000000            0.000000   \n",
              "25%    1307.750000         58.562500        0.000000            0.000000   \n",
              "50%    1485.000000        158.200000        0.000000            0.000000   \n",
              "75%    1668.000000        500.000000        0.000000            0.000000   \n",
              "max    1944.000000     345550.000000        9.200000            7.200000   \n",
              "\n",
              "       Engagement_Score  donated_year  \n",
              "count       1804.000000   1804.000000  \n",
              "mean           0.645565   2018.666851  \n",
              "std            1.321699      0.471470  \n",
              "min            0.000000   2018.000000  \n",
              "25%            0.000000   2018.000000  \n",
              "50%            0.000000   2019.000000  \n",
              "75%            0.000000   2019.000000  \n",
              "max            7.900000   2019.000000  "
            ],
            "text/html": [
              "\n",
              "  <div id=\"df-9856c263-9885-4dac-869e-0316e07f9350\">\n",
              "    <div class=\"colab-df-container\">\n",
              "      <div>\n",
              "<style scoped>\n",
              "    .dataframe tbody tr th:only-of-type {\n",
              "        vertical-align: middle;\n",
              "    }\n",
              "\n",
              "    .dataframe tbody tr th {\n",
              "        vertical-align: top;\n",
              "    }\n",
              "\n",
              "    .dataframe thead th {\n",
              "        text-align: right;\n",
              "    }\n",
              "</style>\n",
              "<table border=\"1\" class=\"dataframe\">\n",
              "  <thead>\n",
              "    <tr style=\"text-align: right;\">\n",
              "      <th></th>\n",
              "      <th>Gf_CnBio_ID</th>\n",
              "      <th>Special_Events</th>\n",
              "      <th>Total_Donation</th>\n",
              "      <th>Frequency_Donation</th>\n",
              "      <th>Recency</th>\n",
              "      <th>Total_Donation.1</th>\n",
              "      <th>Donation_Score</th>\n",
              "      <th>Volunteering_Score</th>\n",
              "      <th>Engagement_Score</th>\n",
              "      <th>donated_year</th>\n",
              "    </tr>\n",
              "  </thead>\n",
              "  <tbody>\n",
              "    <tr>\n",
              "      <th>count</th>\n",
              "      <td>1.804000e+03</td>\n",
              "      <td>1804.000000</td>\n",
              "      <td>1804.000000</td>\n",
              "      <td>1804.000000</td>\n",
              "      <td>1804.000000</td>\n",
              "      <td>1804.000000</td>\n",
              "      <td>1804.000000</td>\n",
              "      <td>1804.000000</td>\n",
              "      <td>1804.000000</td>\n",
              "      <td>1804.000000</td>\n",
              "    </tr>\n",
              "    <tr>\n",
              "      <th>mean</th>\n",
              "      <td>1.722593e+08</td>\n",
              "      <td>0.381375</td>\n",
              "      <td>1745.536031</td>\n",
              "      <td>2.095344</td>\n",
              "      <td>1511.576497</td>\n",
              "      <td>1745.537079</td>\n",
              "      <td>1.217184</td>\n",
              "      <td>0.073947</td>\n",
              "      <td>0.645565</td>\n",
              "      <td>2018.666851</td>\n",
              "    </tr>\n",
              "    <tr>\n",
              "      <th>std</th>\n",
              "      <td>7.133994e+07</td>\n",
              "      <td>0.485859</td>\n",
              "      <td>12498.047273</td>\n",
              "      <td>3.540715</td>\n",
              "      <td>217.909330</td>\n",
              "      <td>12498.047217</td>\n",
              "      <td>2.417895</td>\n",
              "      <td>0.599767</td>\n",
              "      <td>1.321699</td>\n",
              "      <td>0.471470</td>\n",
              "    </tr>\n",
              "    <tr>\n",
              "      <th>min</th>\n",
              "      <td>9.800000e+01</td>\n",
              "      <td>0.000000</td>\n",
              "      <td>0.000000</td>\n",
              "      <td>1.000000</td>\n",
              "      <td>1215.000000</td>\n",
              "      <td>0.010000</td>\n",
              "      <td>0.000000</td>\n",
              "      <td>0.000000</td>\n",
              "      <td>0.000000</td>\n",
              "      <td>2018.000000</td>\n",
              "    </tr>\n",
              "    <tr>\n",
              "      <th>25%</th>\n",
              "      <td>2.015158e+08</td>\n",
              "      <td>0.000000</td>\n",
              "      <td>58.500000</td>\n",
              "      <td>1.000000</td>\n",
              "      <td>1307.750000</td>\n",
              "      <td>58.562500</td>\n",
              "      <td>0.000000</td>\n",
              "      <td>0.000000</td>\n",
              "      <td>0.000000</td>\n",
              "      <td>2018.000000</td>\n",
              "    </tr>\n",
              "    <tr>\n",
              "      <th>50%</th>\n",
              "      <td>2.018227e+08</td>\n",
              "      <td>0.000000</td>\n",
              "      <td>158.000000</td>\n",
              "      <td>1.000000</td>\n",
              "      <td>1485.000000</td>\n",
              "      <td>158.200000</td>\n",
              "      <td>0.000000</td>\n",
              "      <td>0.000000</td>\n",
              "      <td>0.000000</td>\n",
              "      <td>2019.000000</td>\n",
              "    </tr>\n",
              "    <tr>\n",
              "      <th>75%</th>\n",
              "      <td>2.019244e+08</td>\n",
              "      <td>1.000000</td>\n",
              "      <td>500.000000</td>\n",
              "      <td>2.000000</td>\n",
              "      <td>1668.000000</td>\n",
              "      <td>500.000000</td>\n",
              "      <td>0.000000</td>\n",
              "      <td>0.000000</td>\n",
              "      <td>0.000000</td>\n",
              "      <td>2019.000000</td>\n",
              "    </tr>\n",
              "    <tr>\n",
              "      <th>max</th>\n",
              "      <td>2.022311e+08</td>\n",
              "      <td>1.000000</td>\n",
              "      <td>345550.000000</td>\n",
              "      <td>83.000000</td>\n",
              "      <td>1944.000000</td>\n",
              "      <td>345550.000000</td>\n",
              "      <td>9.200000</td>\n",
              "      <td>7.200000</td>\n",
              "      <td>7.900000</td>\n",
              "      <td>2019.000000</td>\n",
              "    </tr>\n",
              "  </tbody>\n",
              "</table>\n",
              "</div>\n",
              "      <button class=\"colab-df-convert\" onclick=\"convertToInteractive('df-9856c263-9885-4dac-869e-0316e07f9350')\"\n",
              "              title=\"Convert this dataframe to an interactive table.\"\n",
              "              style=\"display:none;\">\n",
              "        \n",
              "  <svg xmlns=\"http://www.w3.org/2000/svg\" height=\"24px\"viewBox=\"0 0 24 24\"\n",
              "       width=\"24px\">\n",
              "    <path d=\"M0 0h24v24H0V0z\" fill=\"none\"/>\n",
              "    <path d=\"M18.56 5.44l.94 2.06.94-2.06 2.06-.94-2.06-.94-.94-2.06-.94 2.06-2.06.94zm-11 1L8.5 8.5l.94-2.06 2.06-.94-2.06-.94L8.5 2.5l-.94 2.06-2.06.94zm10 10l.94 2.06.94-2.06 2.06-.94-2.06-.94-.94-2.06-.94 2.06-2.06.94z\"/><path d=\"M17.41 7.96l-1.37-1.37c-.4-.4-.92-.59-1.43-.59-.52 0-1.04.2-1.43.59L10.3 9.45l-7.72 7.72c-.78.78-.78 2.05 0 2.83L4 21.41c.39.39.9.59 1.41.59.51 0 1.02-.2 1.41-.59l7.78-7.78 2.81-2.81c.8-.78.8-2.07 0-2.86zM5.41 20L4 18.59l7.72-7.72 1.47 1.35L5.41 20z\"/>\n",
              "  </svg>\n",
              "      </button>\n",
              "      \n",
              "  <style>\n",
              "    .colab-df-container {\n",
              "      display:flex;\n",
              "      flex-wrap:wrap;\n",
              "      gap: 12px;\n",
              "    }\n",
              "\n",
              "    .colab-df-convert {\n",
              "      background-color: #E8F0FE;\n",
              "      border: none;\n",
              "      border-radius: 50%;\n",
              "      cursor: pointer;\n",
              "      display: none;\n",
              "      fill: #1967D2;\n",
              "      height: 32px;\n",
              "      padding: 0 0 0 0;\n",
              "      width: 32px;\n",
              "    }\n",
              "\n",
              "    .colab-df-convert:hover {\n",
              "      background-color: #E2EBFA;\n",
              "      box-shadow: 0px 1px 2px rgba(60, 64, 67, 0.3), 0px 1px 3px 1px rgba(60, 64, 67, 0.15);\n",
              "      fill: #174EA6;\n",
              "    }\n",
              "\n",
              "    [theme=dark] .colab-df-convert {\n",
              "      background-color: #3B4455;\n",
              "      fill: #D2E3FC;\n",
              "    }\n",
              "\n",
              "    [theme=dark] .colab-df-convert:hover {\n",
              "      background-color: #434B5C;\n",
              "      box-shadow: 0px 1px 3px 1px rgba(0, 0, 0, 0.15);\n",
              "      filter: drop-shadow(0px 1px 2px rgba(0, 0, 0, 0.3));\n",
              "      fill: #FFFFFF;\n",
              "    }\n",
              "  </style>\n",
              "\n",
              "      <script>\n",
              "        const buttonEl =\n",
              "          document.querySelector('#df-9856c263-9885-4dac-869e-0316e07f9350 button.colab-df-convert');\n",
              "        buttonEl.style.display =\n",
              "          google.colab.kernel.accessAllowed ? 'block' : 'none';\n",
              "\n",
              "        async function convertToInteractive(key) {\n",
              "          const element = document.querySelector('#df-9856c263-9885-4dac-869e-0316e07f9350');\n",
              "          const dataTable =\n",
              "            await google.colab.kernel.invokeFunction('convertToInteractive',\n",
              "                                                     [key], {});\n",
              "          if (!dataTable) return;\n",
              "\n",
              "          const docLinkHtml = 'Like what you see? Visit the ' +\n",
              "            '<a target=\"_blank\" href=https://colab.research.google.com/notebooks/data_table.ipynb>data table notebook</a>'\n",
              "            + ' to learn more about interactive tables.';\n",
              "          element.innerHTML = '';\n",
              "          dataTable['output_type'] = 'display_data';\n",
              "          await google.colab.output.renderOutput(dataTable, element);\n",
              "          const docLink = document.createElement('div');\n",
              "          docLink.innerHTML = docLinkHtml;\n",
              "          element.appendChild(docLink);\n",
              "        }\n",
              "      </script>\n",
              "    </div>\n",
              "  </div>\n",
              "  "
            ]
          },
          "metadata": {},
          "execution_count": 60
        }
      ],
      "source": [
        "df.describe()"
      ]
    },
    {
      "cell_type": "code",
      "execution_count": 61,
      "id": "dc33423b",
      "metadata": {
        "id": "dc33423b",
        "colab": {
          "base_uri": "https://localhost:8080/"
        },
        "outputId": "c279605d-e9b6-4fbc-d2c3-108a7cb4aab1"
      },
      "outputs": [
        {
          "output_type": "execute_result",
          "data": {
            "text/plain": [
              "Gf_CnBio_ID              0\n",
              "Special_Events           0\n",
              "Total_Donation           0\n",
              "Frequency_Donation       0\n",
              "Recent_Donated_Date      0\n",
              "Recency                  0\n",
              "Last_2_Years             0\n",
              "Total_Donation.1         0\n",
              "CnAdrPrf_City          374\n",
              "CnAdrPrf_State         372\n",
              "Donation_Score           0\n",
              "Volunteering_Score       0\n",
              "Engagement_Score         0\n",
              "donated_year             0\n",
              "dtype: int64"
            ]
          },
          "metadata": {},
          "execution_count": 61
        }
      ],
      "source": [
        "#Missing values\n",
        "df.isnull().sum()"
      ]
    },
    {
      "cell_type": "code",
      "execution_count": 62,
      "id": "2ef269b9",
      "metadata": {
        "id": "2ef269b9",
        "colab": {
          "base_uri": "https://localhost:8080/"
        },
        "outputId": "d03e2dd8-7a35-4c72-feaf-92dff7cba08f"
      },
      "outputs": [
        {
          "output_type": "execute_result",
          "data": {
            "text/plain": [
              "746"
            ]
          },
          "metadata": {},
          "execution_count": 62
        }
      ],
      "source": [
        "#Overall missing values\n",
        "df.isnull().sum().sum()"
      ]
    },
    {
      "cell_type": "code",
      "execution_count": 63,
      "id": "93836d50",
      "metadata": {
        "id": "93836d50"
      },
      "outputs": [],
      "source": [
        "#Dropping the engagement score = 0\n",
        "df = df[df['Engagement_Score'] != 0]"
      ]
    },
    {
      "cell_type": "code",
      "execution_count": 64,
      "id": "cad09c5a",
      "metadata": {
        "id": "cad09c5a",
        "colab": {
          "base_uri": "https://localhost:8080/"
        },
        "outputId": "de454e53-effb-4851-de00-6cfc33c28665"
      },
      "outputs": [
        {
          "output_type": "stream",
          "name": "stderr",
          "text": [
            "<ipython-input-64-d1e6a7d950b7>:2: SettingWithCopyWarning: \n",
            "A value is trying to be set on a copy of a slice from a DataFrame.\n",
            "Try using .loc[row_indexer,col_indexer] = value instead\n",
            "\n",
            "See the caveats in the documentation: https://pandas.pydata.org/pandas-docs/stable/user_guide/indexing.html#returning-a-view-versus-a-copy\n",
            "  df['Last_2_Years'] = df['Last_2_Years'].map({'Yes': 1, 'No': 0})\n"
          ]
        }
      ],
      "source": [
        "# Random Forest can take only 1 and 0 as input \n",
        "df['Last_2_Years'] = df['Last_2_Years'].map({'Yes': 1, 'No': 0})"
      ]
    },
    {
      "cell_type": "code",
      "execution_count": 65,
      "id": "75bba977",
      "metadata": {
        "id": "75bba977",
        "colab": {
          "base_uri": "https://localhost:8080/",
          "height": 487
        },
        "outputId": "f05dd4de-7b11-46d2-93a3-6d792ffe4f69"
      },
      "outputs": [
        {
          "output_type": "display_data",
          "data": {
            "text/plain": [
              "<Figure size 1000x500 with 1 Axes>"
            ],
            "image/png": "[encoded data removed]"
          },
          "metadata": {}
        }
      ],
      "source": [
        "plt.figure(figsize = (10,5))\n",
        "plt.hist(df['Engagement_Score'], width = .65)\n",
        "plt.xlabel('Score')\n",
        "plt.ylabel('Frequency')\n",
        "plt.title(\"Distribution of Engagement Score\")\n",
        "plt.show()"
      ]
    },
    {
      "cell_type": "markdown",
      "id": "93f2d51e",
      "metadata": {
        "id": "93f2d51e"
      },
      "source": [
        "# Model Building: Random forest regression"
      ]
    },
    {
      "cell_type": "code",
      "execution_count": 66,
      "id": "23092c0a",
      "metadata": {
        "id": "23092c0a"
      },
      "outputs": [],
      "source": [
        "features = ['Total_Donation', 'Frequency_Donation', 'Recency', 'Special_Events','Last_2_Years']\n",
        "target = 'Donation_Score' #Donation_Score"
      ]
    },
    {
      "cell_type": "code",
      "execution_count": 67,
      "id": "de25a5f7",
      "metadata": {
        "id": "de25a5f7"
      },
      "outputs": [],
      "source": [
        "# Split the data into training and testing sets\n",
        "X_train, X_test, y_train, y_test = train_test_split(df[features],df[target],train_size=0.7,test_size=0.3, random_state=42)"
      ]
    },
    {
      "cell_type": "code",
      "execution_count": 68,
      "id": "61c3dd1f",
      "metadata": {
        "id": "61c3dd1f"
      },
      "outputs": [],
      "source": [
        "#train_data[features]"
      ]
    },
    {
      "cell_type": "code",
      "execution_count": 69,
      "id": "3c4e4115",
      "metadata": {
        "id": "3c4e4115"
      },
      "outputs": [],
      "source": [
        "# Define the random forest regression model\n",
        "# max_features - to subset the variables, n_estimators - number of trees\n",
        "rf_model = RandomForestRegressor(max_features= 3,n_estimators= 500, random_state=42) "
      ]
    },
    {
      "cell_type": "code",
      "execution_count": 70,
      "id": "93ce783d",
      "metadata": {
        "id": "93ce783d",
        "colab": {
          "base_uri": "https://localhost:8080/",
          "height": 74
        },
        "outputId": "ff1490cf-2628-4935-fc86-e9e6f4735421"
      },
      "outputs": [
        {
          "output_type": "execute_result",
          "data": {
            "text/plain": [
              "RandomForestRegressor(max_features=3, n_estimators=500, random_state=42)"
            ],
            "text/html": [
              "<style>#sk-container-id-2 {color: black;background-color: white;}#sk-container-id-2 pre{padding: 0;}#sk-container-id-2 div.sk-toggleable {background-color: white;}#sk-container-id-2 label.sk-toggleable__label {cursor: pointer;display: block;width: 100%;margin-bottom: 0;padding: 0.3em;box-sizing: border-box;text-align: center;}#sk-container-id-2 label.sk-toggleable__label-arrow:before {content: \"▸\";float: left;margin-right: 0.25em;color: #696969;}#sk-container-id-2 label.sk-toggleable__label-arrow:hover:before {color: black;}#sk-container-id-2 div.sk-estimator:hover label.sk-toggleable__label-arrow:before {color: black;}#sk-container-id-2 div.sk-toggleable__content {max-height: 0;max-width: 0;overflow: hidden;text-align: left;background-color: #f0f8ff;}#sk-container-id-2 div.sk-toggleable__content pre {margin: 0.2em;color: black;border-radius: 0.25em;background-color: #f0f8ff;}#sk-container-id-2 input.sk-toggleable__control:checked~div.sk-toggleable__content {max-height: 200px;max-width: 100%;overflow: auto;}#sk-container-id-2 input.sk-toggleable__control:checked~label.sk-toggleable__label-arrow:before {content: \"▾\";}#sk-container-id-2 div.sk-estimator input.sk-toggleable__control:checked~label.sk-toggleable__label {background-color: #d4ebff;}#sk-container-id-2 div.sk-label input.sk-toggleable__control:checked~label.sk-toggleable__label {background-color: #d4ebff;}#sk-container-id-2 input.sk-hidden--visually {border: 0;clip: rect(1px 1px 1px 1px);clip: rect(1px, 1px, 1px, 1px);height: 1px;margin: -1px;overflow: hidden;padding: 0;position: absolute;width: 1px;}#sk-container-id-2 div.sk-estimator {font-family: monospace;background-color: #f0f8ff;border: 1px dotted black;border-radius: 0.25em;box-sizing: border-box;margin-bottom: 0.5em;}#sk-container-id-2 div.sk-estimator:hover {background-color: #d4ebff;}#sk-container-id-2 div.sk-parallel-item::after {content: \"\";width: 100%;border-bottom: 1px solid gray;flex-grow: 1;}#sk-container-id-2 div.sk-label:hover label.sk-toggleable__label {background-color: #d4ebff;}#sk-container-id-2 div.sk-serial::before {content: \"\";position: absolute;border-left: 1px solid gray;box-sizing: border-box;top: 0;bottom: 0;left: 50%;z-index: 0;}#sk-container-id-2 div.sk-serial {display: flex;flex-direction: column;align-items: center;background-color: white;padding-right: 0.2em;padding-left: 0.2em;position: relative;}#sk-container-id-2 div.sk-item {position: relative;z-index: 1;}#sk-container-id-2 div.sk-parallel {display: flex;align-items: stretch;justify-content: center;background-color: white;position: relative;}#sk-container-id-2 div.sk-item::before, #sk-container-id-2 div.sk-parallel-item::before {content: \"\";position: absolute;border-left: 1px solid gray;box-sizing: border-box;top: 0;bottom: 0;left: 50%;z-index: -1;}#sk-container-id-2 div.sk-parallel-item {display: flex;flex-direction: column;z-index: 1;position: relative;background-color: white;}#sk-container-id-2 div.sk-parallel-item:first-child::after {align-self: flex-end;width: 50%;}#sk-container-id-2 div.sk-parallel-item:last-child::after {align-self: flex-start;width: 50%;}#sk-container-id-2 div.sk-parallel-item:only-child::after {width: 0;}#sk-container-id-2 div.sk-dashed-wrapped {border: 1px dashed gray;margin: 0 0.4em 0.5em 0.4em;box-sizing: border-box;padding-bottom: 0.4em;background-color: white;}#sk-container-id-2 div.sk-label label {font-family: monospace;font-weight: bold;display: inline-block;line-height: 1.2em;}#sk-container-id-2 div.sk-label-container {text-align: center;}#sk-container-id-2 div.sk-container {/* jupyter's `normalize.less` sets `[hidden] { display: none; }` but bootstrap.min.css set `[hidden] { display: none !important; }` so we also need the `!important` here to be able to override the default hidden behavior on the sphinx rendered scikit-learn.org. See: https://github.com/scikit-learn/scikit-learn/issues/21755 */display: inline-block !important;position: relative;}#sk-container-id-2 div.sk-text-repr-fallback {display: none;}</style><div id=\"sk-container-id-2\" class=\"sk-top-container\"><div class=\"sk-text-repr-fallback\"><pre>RandomForestRegressor(max_features=3, n_estimators=500, random_state=42)</pre><b>In a Jupyter environment, please rerun this cell to show the HTML representation or trust the notebook. <br />On GitHub, the HTML representation is unable to render, please try loading this page with nbviewer.org.</b></div><div class=\"sk-container\" hidden><div class=\"sk-item\"><div class=\"sk-estimator sk-toggleable\"><input class=\"sk-toggleable__control sk-hidden--visually\" id=\"sk-estimator-id-2\" type=\"checkbox\" checked><label for=\"sk-estimator-id-2\" class=\"sk-toggleable__label sk-toggleable__label-arrow\">RandomForestRegressor</label><div class=\"sk-toggleable__content\"><pre>RandomForestRegressor(max_features=3, n_estimators=500, random_state=42)</pre></div></div></div></div></div>"
            ]
          },
          "metadata": {},
          "execution_count": 70
        }
      ],
      "source": [
        "# Train the model on the training data\n",
        "rf_model.fit(X_train,y_train)"
      ]
    },
    {
      "cell_type": "code",
      "execution_count": 71,
      "id": "9cf63487",
      "metadata": {
        "id": "9cf63487"
      },
      "outputs": [],
      "source": [
        "# Predict engagement scores for the test data\n",
        "y_pred = rf_model.predict(X_test) #X_test"
      ]
    },
    {
      "cell_type": "code",
      "execution_count": 72,
      "id": "g2JxZFFD43_4",
      "metadata": {
        "id": "g2JxZFFD43_4",
        "colab": {
          "base_uri": "https://localhost:8080/"
        },
        "outputId": "bbb9ab79-cec8-4861-8b88-a8e51b198611"
      },
      "outputs": [
        {
          "output_type": "stream",
          "name": "stderr",
          "text": [
            "<ipython-input-72-1ddffe11183f>:1: FutureWarning: The default value of numeric_only in DataFrame.skew is deprecated. In a future version, it will default to False. In addition, specifying 'numeric_only=None' is deprecated. Select only valid columns or specify the value of numeric_only to silence this warning.\n",
            "  df.skew().sort_values(ascending=False)\n"
          ]
        },
        {
          "output_type": "execute_result",
          "data": {
            "text/plain": [
              "Total_Donation        11.167949\n",
              "Total_Donation.1      11.167947\n",
              "Frequency_Donation     5.839929\n",
              "Volunteering_Score     4.115263\n",
              "Recency                1.159205\n",
              "Engagement_Score       0.878975\n",
              "Last_2_Years           0.388466\n",
              "Special_Events         0.182361\n",
              "Donation_Score        -0.168231\n",
              "Gf_CnBio_ID           -0.943131\n",
              "donated_year          -1.744731\n",
              "dtype: float64"
            ]
          },
          "metadata": {},
          "execution_count": 72
        }
      ],
      "source": [
        "df.skew().sort_values(ascending=False)"
      ]
    },
    {
      "cell_type": "markdown",
      "id": "0CZ1K13l43gz",
      "metadata": {
        "id": "0CZ1K13l43gz"
      },
      "source": []
    },
    {
      "cell_type": "markdown",
      "id": "d4ca2453",
      "metadata": {
        "id": "d4ca2453"
      },
      "source": [
        "# Model Evaluation "
      ]
    },
    {
      "cell_type": "code",
      "execution_count": 73,
      "id": "8972fa0e",
      "metadata": {
        "id": "8972fa0e",
        "colab": {
          "base_uri": "https://localhost:8080/"
        },
        "outputId": "b796ba6e-fb7f-4a1a-b56c-6a80bab47613"
      },
      "outputs": [
        {
          "output_type": "stream",
          "name": "stdout",
          "text": [
            "Mean Squared Error: 3.740070570310434\n"
          ]
        }
      ],
      "source": [
        "# Calculate the mean squared error of the model\n",
        "mse = mean_squared_error(y_test, y_pred) #y_test, y_pred\n",
        "print('Mean Squared Error:', mse)"
      ]
    },
    {
      "cell_type": "code",
      "source": [
        "import math\n",
        "\n",
        "rmse = math.sqrt(mse)\n",
        "print('Root Mean Squared Error for Random Forest Model:', rmse)"
      ],
      "metadata": {
        "colab": {
          "base_uri": "https://localhost:8080/"
        },
        "id": "enU2R6K9Crpp",
        "outputId": "79e90eb9-9c27-4a0a-afea-aaedc9878fed"
      },
      "id": "enU2R6K9Crpp",
      "execution_count": 74,
      "outputs": [
        {
          "output_type": "stream",
          "name": "stdout",
          "text": [
            "Root Mean Squared Error for Random Forest Model: 1.9339262060147058\n"
          ]
        }
      ]
    },
    {
      "cell_type": "code",
      "execution_count": 75,
      "id": "f86b964c",
      "metadata": {
        "id": "f86b964c",
        "colab": {
          "base_uri": "https://localhost:8080/"
        },
        "outputId": "0a6332b1-b289-43d5-b8da-8bccacba587a"
      },
      "outputs": [
        {
          "output_type": "execute_result",
          "data": {
            "text/plain": [
              "0.8658799999999927"
            ]
          },
          "metadata": {},
          "execution_count": 75
        }
      ],
      "source": [
        "min(y_pred)"
      ]
    },
    {
      "cell_type": "code",
      "execution_count": 76,
      "id": "c1596bb8",
      "metadata": {
        "id": "c1596bb8",
        "colab": {
          "base_uri": "https://localhost:8080/"
        },
        "outputId": "788b4cdf-7d40-4b2e-fa16-39acb2f7004d"
      },
      "outputs": [
        {
          "output_type": "execute_result",
          "data": {
            "text/plain": [
              "8.595000000000002"
            ]
          },
          "metadata": {},
          "execution_count": 76
        }
      ],
      "source": [
        "max(y_pred)"
      ]
    },
    {
      "cell_type": "code",
      "execution_count": 77,
      "id": "26361a5f",
      "metadata": {
        "id": "26361a5f",
        "colab": {
          "base_uri": "https://localhost:8080/",
          "height": 487
        },
        "outputId": "963fc481-ab48-42ec-a644-f0c4ff173537"
      },
      "outputs": [
        {
          "output_type": "display_data",
          "data": {
            "text/plain": [
              "<Figure size 1000x500 with 1 Axes>"
            ],
            "image/png": "[encoded data removed]"
          },
          "metadata": {}
        }
      ],
      "source": [
        "plt.figure(figsize = (10,5))\n",
        "plt.scatter(y_pred,y_test, label='Comparison b/w Actual and Predicted ES')\n",
        "plt.plot([min(y_pred), max(y_pred)], [min(y_pred), max(y_pred)], 'r--')\n",
        "plt.legend()\n",
        "plt.grid()\n",
        "plt.xlabel('Predicted ES')\n",
        "plt.ylabel('Actual ES')\n",
        "plt.title(\"RF Model results\")\n",
        "plt.show()"
      ]
    },
    {
      "cell_type": "code",
      "execution_count": 78,
      "id": "02218743",
      "metadata": {
        "id": "02218743"
      },
      "outputs": [],
      "source": [
        "# Access the actual engagement scores of the test data\n",
        "test_actual_engagement_scores = y_test"
      ]
    },
    {
      "cell_type": "code",
      "execution_count": 79,
      "id": "29550e34",
      "metadata": {
        "id": "29550e34",
        "colab": {
          "base_uri": "https://localhost:8080/"
        },
        "outputId": "ea5fead7-3309-43f7-b7cf-536ad981ca7c"
      },
      "outputs": [
        {
          "output_type": "stream",
          "name": "stdout",
          "text": [
            "Actual Engagement Score: 5.10 | Predicted Engagement Score: 4.10\n",
            "Actual Engagement Score: 5.40 | Predicted Engagement Score: 5.18\n",
            "Actual Engagement Score: 2.60 | Predicted Engagement Score: 5.77\n",
            "Actual Engagement Score: 5.40 | Predicted Engagement Score: 5.97\n",
            "Actual Engagement Score: 8.40 | Predicted Engagement Score: 6.03\n",
            "Actual Engagement Score: 6.50 | Predicted Engagement Score: 6.85\n",
            "Actual Engagement Score: 5.40 | Predicted Engagement Score: 6.70\n",
            "Actual Engagement Score: 8.20 | Predicted Engagement Score: 7.96\n",
            "Actual Engagement Score: 3.50 | Predicted Engagement Score: 4.92\n",
            "Actual Engagement Score: 4.80 | Predicted Engagement Score: 2.19\n",
            "Actual Engagement Score: 5.00 | Predicted Engagement Score: 6.28\n",
            "Actual Engagement Score: 7.70 | Predicted Engagement Score: 7.31\n",
            "Actual Engagement Score: 0.00 | Predicted Engagement Score: 3.57\n",
            "Actual Engagement Score: 3.30 | Predicted Engagement Score: 4.70\n",
            "Actual Engagement Score: 1.60 | Predicted Engagement Score: 3.17\n",
            "Actual Engagement Score: 6.90 | Predicted Engagement Score: 4.50\n",
            "Actual Engagement Score: 6.40 | Predicted Engagement Score: 4.86\n",
            "Actual Engagement Score: 9.20 | Predicted Engagement Score: 7.66\n",
            "Actual Engagement Score: 7.00 | Predicted Engagement Score: 6.58\n",
            "Actual Engagement Score: 5.60 | Predicted Engagement Score: 4.99\n",
            "Actual Engagement Score: 0.70 | Predicted Engagement Score: 3.58\n",
            "Actual Engagement Score: 7.50 | Predicted Engagement Score: 7.90\n",
            "Actual Engagement Score: 6.20 | Predicted Engagement Score: 4.48\n",
            "Actual Engagement Score: 6.70 | Predicted Engagement Score: 7.85\n",
            "Actual Engagement Score: 5.20 | Predicted Engagement Score: 7.08\n",
            "Actual Engagement Score: 5.10 | Predicted Engagement Score: 6.92\n",
            "Actual Engagement Score: 8.00 | Predicted Engagement Score: 6.11\n",
            "Actual Engagement Score: 2.50 | Predicted Engagement Score: 3.80\n",
            "Actual Engagement Score: 2.50 | Predicted Engagement Score: 2.37\n",
            "Actual Engagement Score: 6.90 | Predicted Engagement Score: 6.13\n",
            "Actual Engagement Score: 5.00 | Predicted Engagement Score: 5.12\n",
            "Actual Engagement Score: 0.00 | Predicted Engagement Score: 5.16\n",
            "Actual Engagement Score: 4.40 | Predicted Engagement Score: 5.13\n",
            "Actual Engagement Score: 5.60 | Predicted Engagement Score: 3.60\n",
            "Actual Engagement Score: 8.00 | Predicted Engagement Score: 8.02\n",
            "Actual Engagement Score: 6.40 | Predicted Engagement Score: 7.25\n",
            "Actual Engagement Score: 1.20 | Predicted Engagement Score: 3.99\n",
            "Actual Engagement Score: 5.40 | Predicted Engagement Score: 7.18\n",
            "Actual Engagement Score: 8.50 | Predicted Engagement Score: 7.10\n",
            "Actual Engagement Score: 7.80 | Predicted Engagement Score: 8.13\n",
            "Actual Engagement Score: 3.40 | Predicted Engagement Score: 3.14\n",
            "Actual Engagement Score: 2.60 | Predicted Engagement Score: 2.14\n",
            "Actual Engagement Score: 4.80 | Predicted Engagement Score: 2.40\n",
            "Actual Engagement Score: 7.20 | Predicted Engagement Score: 6.27\n",
            "Actual Engagement Score: 6.30 | Predicted Engagement Score: 2.33\n",
            "Actual Engagement Score: 8.20 | Predicted Engagement Score: 7.07\n",
            "Actual Engagement Score: 7.50 | Predicted Engagement Score: 5.29\n",
            "Actual Engagement Score: 6.20 | Predicted Engagement Score: 5.31\n",
            "Actual Engagement Score: 5.30 | Predicted Engagement Score: 5.61\n",
            "Actual Engagement Score: 0.90 | Predicted Engagement Score: 6.07\n",
            "Actual Engagement Score: 5.00 | Predicted Engagement Score: 3.68\n",
            "Actual Engagement Score: 3.30 | Predicted Engagement Score: 2.38\n",
            "Actual Engagement Score: 6.20 | Predicted Engagement Score: 2.38\n",
            "Actual Engagement Score: 8.40 | Predicted Engagement Score: 5.91\n",
            "Actual Engagement Score: 8.20 | Predicted Engagement Score: 7.03\n",
            "Actual Engagement Score: 2.20 | Predicted Engagement Score: 5.77\n",
            "Actual Engagement Score: 5.30 | Predicted Engagement Score: 4.90\n",
            "Actual Engagement Score: 2.40 | Predicted Engagement Score: 4.99\n",
            "Actual Engagement Score: 2.80 | Predicted Engagement Score: 5.82\n",
            "Actual Engagement Score: 4.80 | Predicted Engagement Score: 4.23\n",
            "Actual Engagement Score: 3.60 | Predicted Engagement Score: 5.23\n",
            "Actual Engagement Score: 8.20 | Predicted Engagement Score: 6.92\n",
            "Actual Engagement Score: 5.90 | Predicted Engagement Score: 3.50\n",
            "Actual Engagement Score: 4.80 | Predicted Engagement Score: 4.49\n",
            "Actual Engagement Score: 5.10 | Predicted Engagement Score: 6.21\n",
            "Actual Engagement Score: 5.90 | Predicted Engagement Score: 5.85\n",
            "Actual Engagement Score: 4.50 | Predicted Engagement Score: 3.17\n",
            "Actual Engagement Score: 6.90 | Predicted Engagement Score: 7.18\n",
            "Actual Engagement Score: 7.10 | Predicted Engagement Score: 6.08\n",
            "Actual Engagement Score: 2.60 | Predicted Engagement Score: 4.30\n",
            "Actual Engagement Score: 1.60 | Predicted Engagement Score: 3.29\n",
            "Actual Engagement Score: 0.00 | Predicted Engagement Score: 3.39\n",
            "Actual Engagement Score: 1.20 | Predicted Engagement Score: 3.35\n",
            "Actual Engagement Score: 5.40 | Predicted Engagement Score: 6.13\n",
            "Actual Engagement Score: 6.90 | Predicted Engagement Score: 6.27\n",
            "Actual Engagement Score: 2.20 | Predicted Engagement Score: 0.87\n",
            "Actual Engagement Score: 3.40 | Predicted Engagement Score: 4.79\n",
            "Actual Engagement Score: 4.40 | Predicted Engagement Score: 4.49\n",
            "Actual Engagement Score: 6.20 | Predicted Engagement Score: 6.00\n",
            "Actual Engagement Score: 1.40 | Predicted Engagement Score: 3.93\n",
            "Actual Engagement Score: 8.00 | Predicted Engagement Score: 8.60\n",
            "Actual Engagement Score: 3.60 | Predicted Engagement Score: 5.94\n",
            "Actual Engagement Score: 4.30 | Predicted Engagement Score: 6.48\n",
            "Actual Engagement Score: 5.10 | Predicted Engagement Score: 4.35\n",
            "Actual Engagement Score: 4.50 | Predicted Engagement Score: 1.87\n",
            "Actual Engagement Score: 8.60 | Predicted Engagement Score: 6.15\n",
            "Actual Engagement Score: 5.10 | Predicted Engagement Score: 3.57\n",
            "Actual Engagement Score: 2.20 | Predicted Engagement Score: 1.67\n",
            "Actual Engagement Score: 4.60 | Predicted Engagement Score: 5.10\n",
            "Actual Engagement Score: 3.70 | Predicted Engagement Score: 4.55\n",
            "Actual Engagement Score: 1.60 | Predicted Engagement Score: 5.22\n",
            "Actual Engagement Score: 4.80 | Predicted Engagement Score: 4.49\n",
            "Actual Engagement Score: 3.40 | Predicted Engagement Score: 6.11\n",
            "Actual Engagement Score: 5.40 | Predicted Engagement Score: 4.90\n",
            "Actual Engagement Score: 2.70 | Predicted Engagement Score: 5.19\n",
            "Actual Engagement Score: 6.40 | Predicted Engagement Score: 5.39\n",
            "Actual Engagement Score: 8.00 | Predicted Engagement Score: 5.05\n",
            "Actual Engagement Score: 2.50 | Predicted Engagement Score: 2.35\n",
            "Actual Engagement Score: 5.60 | Predicted Engagement Score: 5.13\n",
            "Actual Engagement Score: 5.60 | Predicted Engagement Score: 6.11\n",
            "Actual Engagement Score: 4.20 | Predicted Engagement Score: 5.44\n",
            "Actual Engagement Score: 3.00 | Predicted Engagement Score: 4.76\n",
            "Actual Engagement Score: 4.70 | Predicted Engagement Score: 6.26\n",
            "Actual Engagement Score: 4.20 | Predicted Engagement Score: 5.93\n",
            "Actual Engagement Score: 3.20 | Predicted Engagement Score: 3.86\n",
            "Actual Engagement Score: 4.60 | Predicted Engagement Score: 5.42\n",
            "Actual Engagement Score: 2.80 | Predicted Engagement Score: 4.05\n",
            "Actual Engagement Score: 8.00 | Predicted Engagement Score: 6.12\n",
            "Actual Engagement Score: 8.20 | Predicted Engagement Score: 4.86\n",
            "Actual Engagement Score: 5.80 | Predicted Engagement Score: 5.37\n",
            "Actual Engagement Score: 5.10 | Predicted Engagement Score: 2.33\n",
            "Actual Engagement Score: 3.50 | Predicted Engagement Score: 4.97\n",
            "Actual Engagement Score: 5.00 | Predicted Engagement Score: 2.95\n",
            "Actual Engagement Score: 5.00 | Predicted Engagement Score: 5.64\n",
            "Actual Engagement Score: 7.70 | Predicted Engagement Score: 3.83\n",
            "Actual Engagement Score: 4.50 | Predicted Engagement Score: 4.41\n",
            "Actual Engagement Score: 5.40 | Predicted Engagement Score: 7.34\n",
            "Actual Engagement Score: 6.80 | Predicted Engagement Score: 7.30\n",
            "Actual Engagement Score: 6.40 | Predicted Engagement Score: 4.06\n",
            "Actual Engagement Score: 4.50 | Predicted Engagement Score: 6.26\n",
            "Actual Engagement Score: 6.20 | Predicted Engagement Score: 4.90\n",
            "Actual Engagement Score: 5.10 | Predicted Engagement Score: 1.67\n",
            "Actual Engagement Score: 1.80 | Predicted Engagement Score: 4.03\n",
            "Actual Engagement Score: 2.70 | Predicted Engagement Score: 4.32\n",
            "Actual Engagement Score: 5.80 | Predicted Engagement Score: 4.86\n",
            "Actual Engagement Score: 4.80 | Predicted Engagement Score: 6.86\n",
            "Actual Engagement Score: 1.20 | Predicted Engagement Score: 4.07\n",
            "Actual Engagement Score: 4.40 | Predicted Engagement Score: 4.27\n",
            "Actual Engagement Score: 5.40 | Predicted Engagement Score: 7.29\n",
            "Actual Engagement Score: 6.00 | Predicted Engagement Score: 4.79\n",
            "Actual Engagement Score: 2.50 | Predicted Engagement Score: 4.10\n",
            "Actual Engagement Score: 1.10 | Predicted Engagement Score: 6.91\n",
            "Actual Engagement Score: 5.60 | Predicted Engagement Score: 4.40\n"
          ]
        }
      ],
      "source": [
        "# Print actual and predicted engagement scores\n",
        "# print('Actual Engagement Scores vs. Predicted Engagement Scores:\\n')\n",
        "for i in range(len(y_pred)):\n",
        "    print('Actual Engagement Score: {:.2f} | Predicted Engagement Score: {:.2f}'.format(y_test.iloc[i],y_pred[i]))"
      ]
    },
    {
      "cell_type": "code",
      "execution_count": 80,
      "id": "ca003892",
      "metadata": {
        "id": "ca003892",
        "colab": {
          "base_uri": "https://localhost:8080/"
        },
        "outputId": "75d0d08b-dc1e-4bd2-9376-d147dc86d6af"
      },
      "outputs": [
        {
          "output_type": "execute_result",
          "data": {
            "text/plain": [
              "0.18518837616034822"
            ]
          },
          "metadata": {},
          "execution_count": 80
        }
      ],
      "source": [
        "rsquare = metrics.r2_score(test_actual_engagement_scores, y_pred)\n",
        "rsquare"
      ]
    },
    {
      "cell_type": "code",
      "execution_count": 81,
      "id": "f19bae77",
      "metadata": {
        "id": "f19bae77",
        "colab": {
          "base_uri": "https://localhost:8080/"
        },
        "outputId": "15f3538e-6e43-49d0-ba10-4135c1e1ea63"
      },
      "outputs": [
        {
          "output_type": "stream",
          "name": "stdout",
          "text": [
            "              Feature  Importance\n",
            "0      Total_Donation    0.443707\n",
            "1             Recency    0.267903\n",
            "2  Frequency_Donation    0.154839\n",
            "3      Special_Events    0.103337\n",
            "4        Last_2_Years    0.030214\n"
          ]
        }
      ],
      "source": [
        "# create a dataframe of feature importances and their corresponding column names\n",
        "importances_df_rf = pd.DataFrame({'Feature': X_train.columns, 'Importance': rf_model.feature_importances_})\n",
        "importances_df_rf = importances_df_rf.sort_values('Importance', ascending=False).reset_index(drop=True)\n",
        "\n",
        "# display the table\n",
        "print(importances_df_rf)"
      ]
    },
    {
      "cell_type": "markdown",
      "id": "e9e02e65",
      "metadata": {
        "id": "e9e02e65"
      },
      "source": [
        "Linear Regression Model"
      ]
    },
    {
      "cell_type": "code",
      "execution_count": 82,
      "id": "d0d51e6a",
      "metadata": {
        "id": "d0d51e6a",
        "colab": {
          "base_uri": "https://localhost:8080/"
        },
        "outputId": "2bf8b268-54b0-4bb2-aa6c-bfb22775f980"
      },
      "outputs": [
        {
          "output_type": "stream",
          "name": "stdout",
          "text": [
            "Mean squared Error:  3.740070570310434\n"
          ]
        }
      ],
      "source": [
        "# Fit linear regression model on train set\n",
        "model = LinearRegression()\n",
        "lfit = model.fit(X_train, y_train)\n",
        "\n",
        "# Predict on test set and calculate mean absolute error\n",
        "lpred = lfit.predict(X_test)\n",
        "mae = mean_squared_error(lpred , y_test)\n",
        "\n",
        "print(\"Mean squared Error: \",mse)"
      ]
    },
    {
      "cell_type": "code",
      "source": [],
      "metadata": {
        "id": "LGyWJF3cbeDJ"
      },
      "id": "LGyWJF3cbeDJ",
      "execution_count": 82,
      "outputs": []
    },
    {
      "cell_type": "markdown",
      "source": [
        "### Neural Network Model"
      ],
      "metadata": {
        "id": "98XHKw27bgcw"
      },
      "id": "98XHKw27bgcw"
    },
    {
      "cell_type": "code",
      "source": [
        "# Scale the data and save as DataFrame\n",
        "scaler = StandardScaler()\n",
        "X_train_scaled = pd.DataFrame(scaler.fit_transform(X_train),columns=X_train.columns)\n",
        "X_test_scaled = pd.DataFrame(scaler.transform(X_test), columns=X_test.columns)\n"
      ],
      "metadata": {
        "id": "IOl5XfU6Ykwf"
      },
      "id": "IOl5XfU6Ykwf",
      "execution_count": 83,
      "outputs": []
    },
    {
      "cell_type": "code",
      "execution_count": 84,
      "id": "81fbc776",
      "metadata": {
        "id": "81fbc776"
      },
      "outputs": [],
      "source": [
        "# define a neural network model \n",
        "\n",
        "modnn = Sequential(\n",
        "    [\n",
        "    Dense(units=64, activation='relu', input_shape=(X_train.shape[1],)),\n",
        "    Dropout(rate=0.4),\n",
        "    Dense(units=32, activation='relu'),\n",
        "    Dropout(rate=0.2),\n",
        "    Dense(units=16, activation='relu'),\n",
        "    Dense(units=1)\n",
        "    ])\n",
        "\n"
      ]
    },
    {
      "cell_type": "code",
      "source": [
        "# compiling the neural network model \n",
        "modnn.compile(loss='mean_squared_error',\n",
        "              optimizer='rmsprop',\n",
        "              metrics=['mean_squared_error'])"
      ],
      "metadata": {
        "id": "FamwfYGoWo2k"
      },
      "id": "FamwfYGoWo2k",
      "execution_count": 85,
      "outputs": []
    },
    {
      "cell_type": "code",
      "source": [
        "history = modnn.fit(X_train_scaled, y_train,\n",
        "                    epochs=100,\n",
        "                    batch_size= 25,\n",
        "                    validation_data=(X_test_scaled, y_test))"
      ],
      "metadata": {
        "id": "Wvr-vannWtN1",
        "colab": {
          "base_uri": "https://localhost:8080/"
        },
        "outputId": "5c751141-a0c7-4e88-a897-13d109320b0e"
      },
      "id": "Wvr-vannWtN1",
      "execution_count": 86,
      "outputs": [
        {
          "output_type": "stream",
          "name": "stdout",
          "text": [
            "Epoch 1/100\n",
            "13/13 [==============================] - 1s 17ms/step - loss: 32.7798 - mean_squared_error: 32.7798 - val_loss: 27.8790 - val_mean_squared_error: 27.8790\n",
            "Epoch 2/100\n",
            "13/13 [==============================] - 0s 6ms/step - loss: 30.0353 - mean_squared_error: 30.0353 - val_loss: 26.2301 - val_mean_squared_error: 26.2301\n",
            "Epoch 3/100\n",
            "13/13 [==============================] - 0s 6ms/step - loss: 27.9981 - mean_squared_error: 27.9981 - val_loss: 24.3058 - val_mean_squared_error: 24.3058\n",
            "Epoch 4/100\n",
            "13/13 [==============================] - 0s 6ms/step - loss: 25.7633 - mean_squared_error: 25.7633 - val_loss: 21.6046 - val_mean_squared_error: 21.6046\n",
            "Epoch 5/100\n",
            "13/13 [==============================] - 0s 6ms/step - loss: 22.7051 - mean_squared_error: 22.7051 - val_loss: 18.2717 - val_mean_squared_error: 18.2717\n",
            "Epoch 6/100\n",
            "13/13 [==============================] - 0s 6ms/step - loss: 18.8277 - mean_squared_error: 18.8277 - val_loss: 14.5224 - val_mean_squared_error: 14.5224\n",
            "Epoch 7/100\n",
            "13/13 [==============================] - 0s 5ms/step - loss: 14.5810 - mean_squared_error: 14.5810 - val_loss: 10.9865 - val_mean_squared_error: 10.9865\n",
            "Epoch 8/100\n",
            "13/13 [==============================] - 0s 5ms/step - loss: 10.8894 - mean_squared_error: 10.8894 - val_loss: 8.1877 - val_mean_squared_error: 8.1877\n",
            "Epoch 9/100\n",
            "13/13 [==============================] - 0s 5ms/step - loss: 8.0704 - mean_squared_error: 8.0704 - val_loss: 6.9189 - val_mean_squared_error: 6.9189\n",
            "Epoch 10/100\n",
            "13/13 [==============================] - 0s 6ms/step - loss: 6.6694 - mean_squared_error: 6.6694 - val_loss: 6.6661 - val_mean_squared_error: 6.6661\n",
            "Epoch 11/100\n",
            "13/13 [==============================] - 0s 6ms/step - loss: 6.6206 - mean_squared_error: 6.6206 - val_loss: 6.5526 - val_mean_squared_error: 6.5526\n",
            "Epoch 12/100\n",
            "13/13 [==============================] - 0s 6ms/step - loss: 6.3334 - mean_squared_error: 6.3334 - val_loss: 6.0797 - val_mean_squared_error: 6.0797\n",
            "Epoch 13/100\n",
            "13/13 [==============================] - 0s 5ms/step - loss: 6.3205 - mean_squared_error: 6.3205 - val_loss: 5.8775 - val_mean_squared_error: 5.8775\n",
            "Epoch 14/100\n",
            "13/13 [==============================] - 0s 6ms/step - loss: 5.7199 - mean_squared_error: 5.7199 - val_loss: 5.8933 - val_mean_squared_error: 5.8933\n",
            "Epoch 15/100\n",
            "13/13 [==============================] - 0s 6ms/step - loss: 5.8710 - mean_squared_error: 5.8710 - val_loss: 5.8711 - val_mean_squared_error: 5.8711\n",
            "Epoch 16/100\n",
            "13/13 [==============================] - 0s 6ms/step - loss: 5.6475 - mean_squared_error: 5.6475 - val_loss: 5.6658 - val_mean_squared_error: 5.6658\n",
            "Epoch 17/100\n",
            "13/13 [==============================] - 0s 6ms/step - loss: 5.4078 - mean_squared_error: 5.4078 - val_loss: 5.7470 - val_mean_squared_error: 5.7470\n",
            "Epoch 18/100\n",
            "13/13 [==============================] - 0s 7ms/step - loss: 5.5994 - mean_squared_error: 5.5994 - val_loss: 5.6300 - val_mean_squared_error: 5.6300\n",
            "Epoch 19/100\n",
            "13/13 [==============================] - 0s 5ms/step - loss: 5.4913 - mean_squared_error: 5.4913 - val_loss: 5.5908 - val_mean_squared_error: 5.5908\n",
            "Epoch 20/100\n",
            "13/13 [==============================] - 0s 5ms/step - loss: 5.6306 - mean_squared_error: 5.6306 - val_loss: 5.2786 - val_mean_squared_error: 5.2786\n",
            "Epoch 21/100\n",
            "13/13 [==============================] - 0s 6ms/step - loss: 5.2245 - mean_squared_error: 5.2245 - val_loss: 5.3042 - val_mean_squared_error: 5.3042\n",
            "Epoch 22/100\n",
            "13/13 [==============================] - 0s 5ms/step - loss: 5.4017 - mean_squared_error: 5.4017 - val_loss: 5.4261 - val_mean_squared_error: 5.4261\n",
            "Epoch 23/100\n",
            "13/13 [==============================] - 0s 6ms/step - loss: 5.6681 - mean_squared_error: 5.6681 - val_loss: 5.2685 - val_mean_squared_error: 5.2685\n",
            "Epoch 24/100\n",
            "13/13 [==============================] - 0s 6ms/step - loss: 5.8441 - mean_squared_error: 5.8441 - val_loss: 5.2265 - val_mean_squared_error: 5.2265\n",
            "Epoch 25/100\n",
            "13/13 [==============================] - 0s 6ms/step - loss: 4.7698 - mean_squared_error: 4.7698 - val_loss: 5.1591 - val_mean_squared_error: 5.1591\n",
            "Epoch 26/100\n",
            "13/13 [==============================] - 0s 6ms/step - loss: 5.2357 - mean_squared_error: 5.2357 - val_loss: 5.2134 - val_mean_squared_error: 5.2134\n",
            "Epoch 27/100\n",
            "13/13 [==============================] - 0s 6ms/step - loss: 5.3484 - mean_squared_error: 5.3484 - val_loss: 5.1966 - val_mean_squared_error: 5.1966\n",
            "Epoch 28/100\n",
            "13/13 [==============================] - 0s 6ms/step - loss: 5.0359 - mean_squared_error: 5.0359 - val_loss: 5.3313 - val_mean_squared_error: 5.3313\n",
            "Epoch 29/100\n",
            "13/13 [==============================] - 0s 5ms/step - loss: 5.0511 - mean_squared_error: 5.0511 - val_loss: 5.2254 - val_mean_squared_error: 5.2254\n",
            "Epoch 30/100\n",
            "13/13 [==============================] - 0s 5ms/step - loss: 5.0955 - mean_squared_error: 5.0955 - val_loss: 5.6090 - val_mean_squared_error: 5.6090\n",
            "Epoch 31/100\n",
            "13/13 [==============================] - 0s 6ms/step - loss: 5.0149 - mean_squared_error: 5.0149 - val_loss: 5.3726 - val_mean_squared_error: 5.3726\n",
            "Epoch 32/100\n",
            "13/13 [==============================] - 0s 6ms/step - loss: 5.2719 - mean_squared_error: 5.2719 - val_loss: 5.2173 - val_mean_squared_error: 5.2173\n",
            "Epoch 33/100\n",
            "13/13 [==============================] - 0s 6ms/step - loss: 5.2696 - mean_squared_error: 5.2696 - val_loss: 5.3012 - val_mean_squared_error: 5.3012\n",
            "Epoch 34/100\n",
            "13/13 [==============================] - 0s 5ms/step - loss: 5.2319 - mean_squared_error: 5.2319 - val_loss: 5.2220 - val_mean_squared_error: 5.2220\n",
            "Epoch 35/100\n",
            "13/13 [==============================] - 0s 7ms/step - loss: 5.0883 - mean_squared_error: 5.0883 - val_loss: 5.2088 - val_mean_squared_error: 5.2088\n",
            "Epoch 36/100\n",
            "13/13 [==============================] - 0s 6ms/step - loss: 5.1136 - mean_squared_error: 5.1136 - val_loss: 5.1755 - val_mean_squared_error: 5.1755\n",
            "Epoch 37/100\n",
            "13/13 [==============================] - 0s 5ms/step - loss: 5.1860 - mean_squared_error: 5.1860 - val_loss: 5.2190 - val_mean_squared_error: 5.2190\n",
            "Epoch 38/100\n",
            "13/13 [==============================] - 0s 6ms/step - loss: 4.6544 - mean_squared_error: 4.6544 - val_loss: 5.2155 - val_mean_squared_error: 5.2155\n",
            "Epoch 39/100\n",
            "13/13 [==============================] - 0s 8ms/step - loss: 4.8323 - mean_squared_error: 4.8323 - val_loss: 5.1196 - val_mean_squared_error: 5.1196\n",
            "Epoch 40/100\n",
            "13/13 [==============================] - 0s 6ms/step - loss: 4.8368 - mean_squared_error: 4.8368 - val_loss: 5.2811 - val_mean_squared_error: 5.2811\n",
            "Epoch 41/100\n",
            "13/13 [==============================] - 0s 5ms/step - loss: 4.8346 - mean_squared_error: 4.8346 - val_loss: 5.3436 - val_mean_squared_error: 5.3436\n",
            "Epoch 42/100\n",
            "13/13 [==============================] - 0s 5ms/step - loss: 5.1865 - mean_squared_error: 5.1865 - val_loss: 5.0046 - val_mean_squared_error: 5.0046\n",
            "Epoch 43/100\n",
            "13/13 [==============================] - 0s 6ms/step - loss: 4.7863 - mean_squared_error: 4.7863 - val_loss: 5.1878 - val_mean_squared_error: 5.1878\n",
            "Epoch 44/100\n",
            "13/13 [==============================] - 0s 6ms/step - loss: 4.7821 - mean_squared_error: 4.7821 - val_loss: 5.3843 - val_mean_squared_error: 5.3843\n",
            "Epoch 45/100\n",
            "13/13 [==============================] - 0s 6ms/step - loss: 4.7777 - mean_squared_error: 4.7777 - val_loss: 5.4140 - val_mean_squared_error: 5.4140\n",
            "Epoch 46/100\n",
            "13/13 [==============================] - 0s 6ms/step - loss: 4.6761 - mean_squared_error: 4.6761 - val_loss: 5.2401 - val_mean_squared_error: 5.2401\n",
            "Epoch 47/100\n",
            "13/13 [==============================] - 0s 7ms/step - loss: 4.5432 - mean_squared_error: 4.5432 - val_loss: 5.1892 - val_mean_squared_error: 5.1892\n",
            "Epoch 48/100\n",
            "13/13 [==============================] - 0s 6ms/step - loss: 5.0769 - mean_squared_error: 5.0769 - val_loss: 5.0374 - val_mean_squared_error: 5.0374\n",
            "Epoch 49/100\n",
            "13/13 [==============================] - 0s 6ms/step - loss: 4.7119 - mean_squared_error: 4.7119 - val_loss: 5.0753 - val_mean_squared_error: 5.0753\n",
            "Epoch 50/100\n",
            "13/13 [==============================] - 0s 5ms/step - loss: 4.7305 - mean_squared_error: 4.7305 - val_loss: 5.0731 - val_mean_squared_error: 5.0731\n",
            "Epoch 51/100\n",
            "13/13 [==============================] - 0s 6ms/step - loss: 4.5852 - mean_squared_error: 4.5852 - val_loss: 5.2330 - val_mean_squared_error: 5.2330\n",
            "Epoch 52/100\n",
            "13/13 [==============================] - 0s 6ms/step - loss: 4.5206 - mean_squared_error: 4.5206 - val_loss: 5.0654 - val_mean_squared_error: 5.0654\n",
            "Epoch 53/100\n",
            "13/13 [==============================] - 0s 5ms/step - loss: 4.5317 - mean_squared_error: 4.5317 - val_loss: 5.3216 - val_mean_squared_error: 5.3216\n",
            "Epoch 54/100\n",
            "13/13 [==============================] - 0s 6ms/step - loss: 4.3350 - mean_squared_error: 4.3350 - val_loss: 5.2647 - val_mean_squared_error: 5.2647\n",
            "Epoch 55/100\n",
            "13/13 [==============================] - 0s 6ms/step - loss: 4.9115 - mean_squared_error: 4.9115 - val_loss: 5.3871 - val_mean_squared_error: 5.3871\n",
            "Epoch 56/100\n",
            "13/13 [==============================] - 0s 5ms/step - loss: 5.0930 - mean_squared_error: 5.0930 - val_loss: 5.4317 - val_mean_squared_error: 5.4317\n",
            "Epoch 57/100\n",
            "13/13 [==============================] - 0s 5ms/step - loss: 4.7695 - mean_squared_error: 4.7695 - val_loss: 5.3208 - val_mean_squared_error: 5.3208\n",
            "Epoch 58/100\n",
            "13/13 [==============================] - 0s 5ms/step - loss: 4.6387 - mean_squared_error: 4.6387 - val_loss: 5.3541 - val_mean_squared_error: 5.3541\n",
            "Epoch 59/100\n",
            "13/13 [==============================] - 0s 5ms/step - loss: 5.0561 - mean_squared_error: 5.0561 - val_loss: 5.0298 - val_mean_squared_error: 5.0298\n",
            "Epoch 60/100\n",
            "13/13 [==============================] - 0s 6ms/step - loss: 4.5244 - mean_squared_error: 4.5244 - val_loss: 5.2137 - val_mean_squared_error: 5.2137\n",
            "Epoch 61/100\n",
            "13/13 [==============================] - 0s 5ms/step - loss: 4.8959 - mean_squared_error: 4.8959 - val_loss: 5.1912 - val_mean_squared_error: 5.1912\n",
            "Epoch 62/100\n",
            "13/13 [==============================] - 0s 6ms/step - loss: 4.7559 - mean_squared_error: 4.7559 - val_loss: 5.2435 - val_mean_squared_error: 5.2435\n",
            "Epoch 63/100\n",
            "13/13 [==============================] - 0s 5ms/step - loss: 4.8801 - mean_squared_error: 4.8801 - val_loss: 5.4661 - val_mean_squared_error: 5.4661\n",
            "Epoch 64/100\n",
            "13/13 [==============================] - 0s 7ms/step - loss: 4.4750 - mean_squared_error: 4.4750 - val_loss: 5.3598 - val_mean_squared_error: 5.3598\n",
            "Epoch 65/100\n",
            "13/13 [==============================] - 0s 6ms/step - loss: 4.4488 - mean_squared_error: 4.4488 - val_loss: 5.1586 - val_mean_squared_error: 5.1586\n",
            "Epoch 66/100\n",
            "13/13 [==============================] - 0s 6ms/step - loss: 4.3887 - mean_squared_error: 4.3887 - val_loss: 5.1967 - val_mean_squared_error: 5.1967\n",
            "Epoch 67/100\n",
            "13/13 [==============================] - 0s 6ms/step - loss: 4.9654 - mean_squared_error: 4.9654 - val_loss: 5.1967 - val_mean_squared_error: 5.1967\n",
            "Epoch 68/100\n",
            "13/13 [==============================] - 0s 7ms/step - loss: 4.7949 - mean_squared_error: 4.7949 - val_loss: 5.2974 - val_mean_squared_error: 5.2974\n",
            "Epoch 69/100\n",
            "13/13 [==============================] - 0s 6ms/step - loss: 4.8051 - mean_squared_error: 4.8051 - val_loss: 5.2060 - val_mean_squared_error: 5.2060\n",
            "Epoch 70/100\n",
            "13/13 [==============================] - 0s 6ms/step - loss: 4.5778 - mean_squared_error: 4.5778 - val_loss: 5.5392 - val_mean_squared_error: 5.5392\n",
            "Epoch 71/100\n",
            "13/13 [==============================] - 0s 5ms/step - loss: 4.6680 - mean_squared_error: 4.6680 - val_loss: 5.1781 - val_mean_squared_error: 5.1781\n",
            "Epoch 72/100\n",
            "13/13 [==============================] - 0s 6ms/step - loss: 4.5397 - mean_squared_error: 4.5397 - val_loss: 5.1739 - val_mean_squared_error: 5.1739\n",
            "Epoch 73/100\n",
            "13/13 [==============================] - 0s 6ms/step - loss: 4.8605 - mean_squared_error: 4.8605 - val_loss: 5.0360 - val_mean_squared_error: 5.0360\n",
            "Epoch 74/100\n",
            "13/13 [==============================] - 0s 6ms/step - loss: 4.7440 - mean_squared_error: 4.7440 - val_loss: 5.0520 - val_mean_squared_error: 5.0520\n",
            "Epoch 75/100\n",
            "13/13 [==============================] - 0s 6ms/step - loss: 4.6089 - mean_squared_error: 4.6089 - val_loss: 5.0149 - val_mean_squared_error: 5.0149\n",
            "Epoch 76/100\n",
            "13/13 [==============================] - 0s 7ms/step - loss: 4.7943 - mean_squared_error: 4.7943 - val_loss: 5.1341 - val_mean_squared_error: 5.1341\n",
            "Epoch 77/100\n",
            "13/13 [==============================] - 0s 5ms/step - loss: 4.3761 - mean_squared_error: 4.3761 - val_loss: 5.2421 - val_mean_squared_error: 5.2421\n",
            "Epoch 78/100\n",
            "13/13 [==============================] - 0s 6ms/step - loss: 4.7146 - mean_squared_error: 4.7146 - val_loss: 5.3095 - val_mean_squared_error: 5.3095\n",
            "Epoch 79/100\n",
            "13/13 [==============================] - 0s 9ms/step - loss: 4.4731 - mean_squared_error: 4.4731 - val_loss: 5.1614 - val_mean_squared_error: 5.1614\n",
            "Epoch 80/100\n",
            "13/13 [==============================] - 0s 8ms/step - loss: 4.6566 - mean_squared_error: 4.6566 - val_loss: 5.0824 - val_mean_squared_error: 5.0824\n",
            "Epoch 81/100\n",
            "13/13 [==============================] - 0s 9ms/step - loss: 4.6132 - mean_squared_error: 4.6132 - val_loss: 5.3395 - val_mean_squared_error: 5.3395\n",
            "Epoch 82/100\n",
            "13/13 [==============================] - 0s 9ms/step - loss: 4.3414 - mean_squared_error: 4.3414 - val_loss: 5.4156 - val_mean_squared_error: 5.4156\n",
            "Epoch 83/100\n",
            "13/13 [==============================] - 0s 8ms/step - loss: 4.4442 - mean_squared_error: 4.4442 - val_loss: 5.5682 - val_mean_squared_error: 5.5682\n",
            "Epoch 84/100\n",
            "13/13 [==============================] - 0s 7ms/step - loss: 4.8546 - mean_squared_error: 4.8546 - val_loss: 5.3387 - val_mean_squared_error: 5.3387\n",
            "Epoch 85/100\n",
            "13/13 [==============================] - 0s 7ms/step - loss: 4.9092 - mean_squared_error: 4.9092 - val_loss: 5.2886 - val_mean_squared_error: 5.2886\n",
            "Epoch 86/100\n",
            "13/13 [==============================] - 0s 9ms/step - loss: 4.5969 - mean_squared_error: 4.5969 - val_loss: 5.4217 - val_mean_squared_error: 5.4217\n",
            "Epoch 87/100\n",
            "13/13 [==============================] - 0s 8ms/step - loss: 4.6161 - mean_squared_error: 4.6161 - val_loss: 5.2852 - val_mean_squared_error: 5.2852\n",
            "Epoch 88/100\n",
            "13/13 [==============================] - 0s 8ms/step - loss: 4.6204 - mean_squared_error: 4.6204 - val_loss: 5.4828 - val_mean_squared_error: 5.4828\n",
            "Epoch 89/100\n",
            "13/13 [==============================] - 0s 9ms/step - loss: 4.5845 - mean_squared_error: 4.5845 - val_loss: 5.6030 - val_mean_squared_error: 5.6030\n",
            "Epoch 90/100\n",
            "13/13 [==============================] - 0s 7ms/step - loss: 4.3727 - mean_squared_error: 4.3727 - val_loss: 5.2431 - val_mean_squared_error: 5.2431\n",
            "Epoch 91/100\n",
            "13/13 [==============================] - 0s 9ms/step - loss: 4.6796 - mean_squared_error: 4.6796 - val_loss: 5.1793 - val_mean_squared_error: 5.1793\n",
            "Epoch 92/100\n",
            "13/13 [==============================] - 0s 9ms/step - loss: 4.4469 - mean_squared_error: 4.4469 - val_loss: 5.4119 - val_mean_squared_error: 5.4119\n",
            "Epoch 93/100\n",
            "13/13 [==============================] - 0s 8ms/step - loss: 4.5951 - mean_squared_error: 4.5951 - val_loss: 5.1730 - val_mean_squared_error: 5.1730\n",
            "Epoch 94/100\n",
            "13/13 [==============================] - 0s 9ms/step - loss: 4.7333 - mean_squared_error: 4.7333 - val_loss: 5.4923 - val_mean_squared_error: 5.4923\n",
            "Epoch 95/100\n",
            "13/13 [==============================] - 0s 9ms/step - loss: 4.5299 - mean_squared_error: 4.5299 - val_loss: 5.3174 - val_mean_squared_error: 5.3174\n",
            "Epoch 96/100\n",
            "13/13 [==============================] - 0s 7ms/step - loss: 4.6350 - mean_squared_error: 4.6350 - val_loss: 5.3042 - val_mean_squared_error: 5.3042\n",
            "Epoch 97/100\n",
            "13/13 [==============================] - 0s 7ms/step - loss: 4.3298 - mean_squared_error: 4.3298 - val_loss: 5.2967 - val_mean_squared_error: 5.2967\n",
            "Epoch 98/100\n",
            "13/13 [==============================] - 0s 8ms/step - loss: 4.5576 - mean_squared_error: 4.5576 - val_loss: 5.3875 - val_mean_squared_error: 5.3875\n",
            "Epoch 99/100\n",
            "13/13 [==============================] - 0s 7ms/step - loss: 4.7412 - mean_squared_error: 4.7412 - val_loss: 5.3253 - val_mean_squared_error: 5.3253\n",
            "Epoch 100/100\n",
            "13/13 [==============================] - 0s 10ms/step - loss: 4.1044 - mean_squared_error: 4.1044 - val_loss: 5.3794 - val_mean_squared_error: 5.3794\n"
          ]
        }
      ]
    },
    {
      "cell_type": "code",
      "source": [
        "# Make predictions on test set\n",
        "nn_pred = modnn.predict(X_test_scaled)\n",
        "mse = mean_squared_error(y_test, nn_pred)\n",
        "\n",
        "print(\"Mean squared Error: \",mse)"
      ],
      "metadata": {
        "id": "F-sSfDwGcSkV",
        "colab": {
          "base_uri": "https://localhost:8080/"
        },
        "outputId": "ef600138-70d4-42b5-e39f-771a56af2a4b"
      },
      "id": "F-sSfDwGcSkV",
      "execution_count": 87,
      "outputs": [
        {
          "output_type": "stream",
          "name": "stdout",
          "text": [
            "5/5 [==============================] - 0s 2ms/step\n",
            "Mean squared Error:  5.379362492915702\n"
          ]
        }
      ]
    },
    {
      "cell_type": "code",
      "source": [
        "rmse = math.sqrt(mse)\n",
        "print('Root Mean Squared Error for Neural Network :', rmse)"
      ],
      "metadata": {
        "colab": {
          "base_uri": "https://localhost:8080/"
        },
        "id": "IPyvy4IRDi95",
        "outputId": "15ce2b39-83af-4270-c884-3331e909da93"
      },
      "id": "IPyvy4IRDi95",
      "execution_count": 88,
      "outputs": [
        {
          "output_type": "stream",
          "name": "stdout",
          "text": [
            "Root Mean Squared Error for Neural Network : 2.3193452724671464\n"
          ]
        }
      ]
    },
    {
      "cell_type": "code",
      "source": [
        "plt.plot(history.history['loss'])\n",
        "plt.plot(history.history['val_loss'])\n",
        "plt.ylabel('Loss')\n",
        "plt.xlabel('Epoch')\n",
        "plt.legend(['loss', 'val_loss'], loc='upper right')\n",
        "plt.show();\n",
        "\n",
        "plt.plot(history.history['mean_squared_error'])\n",
        "plt.plot(history.history['val_mean_squared_error'])\n",
        "plt.ylabel('Mean  Squared Error')\n",
        "plt.xlabel('Epoch')\n",
        "plt.legend(['mean_squared_error', 'val_mean_squared_error'], loc='upper right')\n",
        "plt.show();\n"
      ],
      "metadata": {
        "id": "y5bEvzRVayWu",
        "colab": {
          "base_uri": "https://localhost:8080/",
          "height": 881
        },
        "outputId": "5c6b327b-d169-4368-c590-3be6ec6dc033"
      },
      "id": "y5bEvzRVayWu",
      "execution_count": 89,
      "outputs": [
        {
          "output_type": "display_data",
          "data": {
            "text/plain": [
              "<Figure size 640x480 with 1 Axes>"
            ],
            "image/png": "[encoded data removed]"
          },
          "metadata": {}
        },
        {
          "output_type": "display_data",
          "data": {
            "text/plain": [
              "<Figure size 640x480 with 1 Axes>"
            ],
            "image/png": "[encoded data removed]"
          },
          "metadata": {}
        }
      ]
    },
    {
      "cell_type": "code",
      "source": [
        "for i in range(5):\n",
        "  print(i)\n",
        "  print(y_test.iloc[i])\n",
        "  print(nn_pred[i][0])"
      ],
      "metadata": {
        "id": "KSxmPjn5gj5L",
        "colab": {
          "base_uri": "https://localhost:8080/"
        },
        "outputId": "5d3a421f-6401-4ed1-b077-345891fb077d"
      },
      "id": "KSxmPjn5gj5L",
      "execution_count": 90,
      "outputs": [
        {
          "output_type": "stream",
          "name": "stdout",
          "text": [
            "0\n",
            "5.1000000000000005\n",
            "3.4368134\n",
            "1\n",
            "5.4\n",
            "4.097676\n",
            "2\n",
            "2.6\n",
            "3.5141172\n",
            "3\n",
            "5.4\n",
            "5.4422026\n",
            "4\n",
            "8.4\n",
            "6.781746\n"
          ]
        }
      ]
    },
    {
      "cell_type": "code",
      "source": [
        "# Print actual and predicted engagement scores\n",
        "# print('Actual Engagement Scores vs. Predicted Engagement Scores:\\n')\n",
        "for i in range(len(nn_pred)):\n",
        "    print(\"Actual value: {:.1f}, Predicted value: {:.2f}\".format(y_test.iloc[i], nn_pred[i][0]))"
      ],
      "metadata": {
        "id": "u_aTz_RQcHSB",
        "colab": {
          "base_uri": "https://localhost:8080/"
        },
        "outputId": "75a239e0-8d16-41d6-faf4-51d6cdadedf5"
      },
      "id": "u_aTz_RQcHSB",
      "execution_count": 91,
      "outputs": [
        {
          "output_type": "stream",
          "name": "stdout",
          "text": [
            "Actual value: 5.1, Predicted value: 3.44\n",
            "Actual value: 5.4, Predicted value: 4.10\n",
            "Actual value: 2.6, Predicted value: 3.51\n",
            "Actual value: 5.4, Predicted value: 5.44\n",
            "Actual value: 8.4, Predicted value: 6.78\n",
            "Actual value: 6.5, Predicted value: 6.19\n",
            "Actual value: 5.4, Predicted value: 6.26\n",
            "Actual value: 8.2, Predicted value: 6.66\n",
            "Actual value: 3.5, Predicted value: 5.51\n",
            "Actual value: 4.8, Predicted value: 4.13\n",
            "Actual value: 5.0, Predicted value: 4.40\n",
            "Actual value: 7.7, Predicted value: 6.19\n",
            "Actual value: 0.0, Predicted value: 4.88\n",
            "Actual value: 3.3, Predicted value: 3.87\n",
            "Actual value: 1.6, Predicted value: 3.95\n",
            "Actual value: 6.9, Predicted value: 3.94\n",
            "Actual value: 6.4, Predicted value: 3.40\n",
            "Actual value: 9.2, Predicted value: 6.86\n",
            "Actual value: 7.0, Predicted value: 5.56\n",
            "Actual value: 5.6, Predicted value: 4.44\n",
            "Actual value: 0.7, Predicted value: 4.16\n",
            "Actual value: 7.5, Predicted value: 7.32\n",
            "Actual value: 6.2, Predicted value: 4.36\n",
            "Actual value: 6.7, Predicted value: 6.39\n",
            "Actual value: 5.2, Predicted value: 6.96\n",
            "Actual value: 5.1, Predicted value: 6.59\n",
            "Actual value: 8.0, Predicted value: 6.51\n",
            "Actual value: 2.5, Predicted value: 5.53\n",
            "Actual value: 2.5, Predicted value: 3.43\n",
            "Actual value: 6.9, Predicted value: 6.34\n",
            "Actual value: 5.0, Predicted value: 3.48\n",
            "Actual value: 0.0, Predicted value: 5.51\n",
            "Actual value: 4.4, Predicted value: 5.54\n",
            "Actual value: 5.6, Predicted value: 4.03\n",
            "Actual value: 8.0, Predicted value: 6.84\n",
            "Actual value: 6.4, Predicted value: 6.49\n",
            "Actual value: 1.2, Predicted value: 3.69\n",
            "Actual value: 5.4, Predicted value: 5.75\n",
            "Actual value: 8.5, Predicted value: 5.31\n",
            "Actual value: 7.8, Predicted value: 6.76\n",
            "Actual value: 3.4, Predicted value: 3.60\n",
            "Actual value: 2.6, Predicted value: 3.56\n",
            "Actual value: 4.8, Predicted value: 3.48\n",
            "Actual value: 7.2, Predicted value: 6.22\n",
            "Actual value: 6.3, Predicted value: 3.51\n",
            "Actual value: 8.2, Predicted value: 7.09\n",
            "Actual value: 7.5, Predicted value: 4.20\n",
            "Actual value: 6.2, Predicted value: 3.67\n",
            "Actual value: 5.3, Predicted value: 4.29\n",
            "Actual value: 0.9, Predicted value: 6.34\n",
            "Actual value: 5.0, Predicted value: 4.36\n",
            "Actual value: 3.3, Predicted value: 3.43\n",
            "Actual value: 6.2, Predicted value: 4.33\n",
            "Actual value: 8.4, Predicted value: 5.37\n",
            "Actual value: 8.2, Predicted value: 6.72\n",
            "Actual value: 2.2, Predicted value: 3.51\n",
            "Actual value: 5.3, Predicted value: 4.36\n",
            "Actual value: 2.4, Predicted value: 3.88\n",
            "Actual value: 2.8, Predicted value: 5.71\n",
            "Actual value: 4.8, Predicted value: 3.43\n",
            "Actual value: 3.6, Predicted value: 4.54\n",
            "Actual value: 8.2, Predicted value: 6.70\n",
            "Actual value: 5.9, Predicted value: 3.98\n",
            "Actual value: 4.8, Predicted value: 3.43\n",
            "Actual value: 5.1, Predicted value: 5.84\n",
            "Actual value: 5.9, Predicted value: 4.44\n",
            "Actual value: 4.5, Predicted value: 4.13\n",
            "Actual value: 6.9, Predicted value: 6.72\n",
            "Actual value: 7.1, Predicted value: 5.68\n",
            "Actual value: 2.6, Predicted value: 4.03\n",
            "Actual value: 1.6, Predicted value: 4.36\n",
            "Actual value: 0.0, Predicted value: 5.04\n",
            "Actual value: 1.2, Predicted value: 4.41\n",
            "Actual value: 5.4, Predicted value: 4.15\n",
            "Actual value: 6.9, Predicted value: 4.28\n",
            "Actual value: 2.2, Predicted value: 3.44\n",
            "Actual value: 3.4, Predicted value: 4.11\n",
            "Actual value: 4.4, Predicted value: 3.43\n",
            "Actual value: 6.2, Predicted value: 6.22\n",
            "Actual value: 1.4, Predicted value: 3.69\n",
            "Actual value: 8.0, Predicted value: 21.31\n",
            "Actual value: 3.6, Predicted value: 5.01\n",
            "Actual value: 4.3, Predicted value: 4.46\n",
            "Actual value: 5.1, Predicted value: 3.85\n",
            "Actual value: 4.5, Predicted value: 3.65\n",
            "Actual value: 8.6, Predicted value: 6.63\n",
            "Actual value: 5.1, Predicted value: 4.36\n",
            "Actual value: 2.2, Predicted value: 3.58\n",
            "Actual value: 4.6, Predicted value: 7.43\n",
            "Actual value: 3.7, Predicted value: 5.10\n",
            "Actual value: 1.6, Predicted value: 4.89\n",
            "Actual value: 4.8, Predicted value: 3.75\n",
            "Actual value: 3.4, Predicted value: 4.62\n",
            "Actual value: 5.4, Predicted value: 4.42\n",
            "Actual value: 2.7, Predicted value: 4.33\n",
            "Actual value: 6.4, Predicted value: 4.14\n",
            "Actual value: 8.0, Predicted value: 3.43\n",
            "Actual value: 2.5, Predicted value: 3.44\n",
            "Actual value: 5.6, Predicted value: 4.11\n",
            "Actual value: 5.6, Predicted value: 4.89\n",
            "Actual value: 4.2, Predicted value: 5.84\n",
            "Actual value: 3.0, Predicted value: 4.91\n",
            "Actual value: 4.7, Predicted value: 5.62\n",
            "Actual value: 4.2, Predicted value: 5.46\n",
            "Actual value: 3.2, Predicted value: 4.25\n",
            "Actual value: 4.6, Predicted value: 3.53\n",
            "Actual value: 2.8, Predicted value: 4.03\n",
            "Actual value: 8.0, Predicted value: 5.54\n",
            "Actual value: 8.2, Predicted value: 4.89\n",
            "Actual value: 5.8, Predicted value: 4.12\n",
            "Actual value: 5.1, Predicted value: 3.43\n",
            "Actual value: 3.5, Predicted value: 3.40\n",
            "Actual value: 5.0, Predicted value: 4.13\n",
            "Actual value: 5.0, Predicted value: 5.84\n",
            "Actual value: 7.7, Predicted value: 5.35\n",
            "Actual value: 4.5, Predicted value: 4.45\n",
            "Actual value: 5.4, Predicted value: 5.72\n",
            "Actual value: 6.8, Predicted value: 6.96\n",
            "Actual value: 6.4, Predicted value: 5.52\n",
            "Actual value: 4.5, Predicted value: 6.13\n",
            "Actual value: 6.2, Predicted value: 5.37\n",
            "Actual value: 5.1, Predicted value: 4.89\n",
            "Actual value: 1.8, Predicted value: 4.44\n",
            "Actual value: 2.7, Predicted value: 5.33\n",
            "Actual value: 5.8, Predicted value: 4.89\n",
            "Actual value: 4.8, Predicted value: 10.06\n",
            "Actual value: 1.2, Predicted value: 5.53\n",
            "Actual value: 4.4, Predicted value: 3.46\n",
            "Actual value: 5.4, Predicted value: 6.20\n",
            "Actual value: 6.0, Predicted value: 4.42\n",
            "Actual value: 2.5, Predicted value: 3.43\n",
            "Actual value: 1.1, Predicted value: 6.08\n",
            "Actual value: 5.6, Predicted value: 3.65\n"
          ]
        }
      ]
    }
  ],
  "metadata": {
    "colab": {
      "provenance": []
    },
    "kernelspec": {
      "display_name": "Python 3",
      "language": "python",
      "name": "python3"
    },
    "language_info": {
      "codemirror_mode": {
        "name": "ipython",
        "version": 3
      },
      "file_extension": ".py",
      "mimetype": "text/x-python",
      "name": "python",
      "nbconvert_exporter": "python",
      "pygments_lexer": "ipython3",
      "version": "3.8.8"
    }
  },
  "nbformat": 4,
  "nbformat_minor": 5
}