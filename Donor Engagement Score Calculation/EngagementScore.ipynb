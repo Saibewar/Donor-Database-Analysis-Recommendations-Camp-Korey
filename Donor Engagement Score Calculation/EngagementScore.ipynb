{
 "cells": [
  {
   "cell_type": "markdown",
   "id": "c8a12d96",
   "metadata": {},
   "source": [
    "## DONOR ENGAGEMENT SCORE"
   ]
  },
  {
   "cell_type": "code",
   "execution_count": 9,
   "id": "3a9bdcf5",
   "metadata": {},
   "outputs": [],
   "source": [
    "import pandas as pd\n",
    "import matplotlib.pyplot as plt\n",
    "import numpy as np"
   ]
  },
  {
   "cell_type": "code",
   "execution_count": 10,
   "id": "cd814b87",
   "metadata": {},
   "outputs": [],
   "source": [
    "donation_data = pd.read_csv('Engagement_score_dataset.csv')"
   ]
  },
  {
   "cell_type": "code",
   "execution_count": 11,
   "id": "2102834b",
   "metadata": {
    "scrolled": true
   },
   "outputs": [
    {
     "data": {
      "text/html": [
       "<div>\n",
       "<style scoped>\n",
       "    .dataframe tbody tr th:only-of-type {\n",
       "        vertical-align: middle;\n",
       "    }\n",
       "\n",
       "    .dataframe tbody tr th {\n",
       "        vertical-align: top;\n",
       "    }\n",
       "\n",
       "    .dataframe thead th {\n",
       "        text-align: right;\n",
       "    }\n",
       "</style>\n",
       "<table border=\"1\" class=\"dataframe\">\n",
       "  <thead>\n",
       "    <tr style=\"text-align: right;\">\n",
       "      <th></th>\n",
       "      <th>Gf_CnBio_ID</th>\n",
       "      <th>Special_Events</th>\n",
       "      <th>Total_Donation</th>\n",
       "      <th>Frequency_Donation</th>\n",
       "      <th>Recent_Donated_Date</th>\n",
       "      <th>Recency</th>\n",
       "      <th>Last_2_Years</th>\n",
       "    </tr>\n",
       "  </thead>\n",
       "  <tbody>\n",
       "    <tr>\n",
       "      <th>0</th>\n",
       "      <td>202130356</td>\n",
       "      <td>0</td>\n",
       "      <td>26.90</td>\n",
       "      <td>1</td>\n",
       "      <td>8/22/21</td>\n",
       "      <td>603</td>\n",
       "      <td>0</td>\n",
       "    </tr>\n",
       "    <tr>\n",
       "      <th>1</th>\n",
       "      <td>202130376</td>\n",
       "      <td>0</td>\n",
       "      <td>26.90</td>\n",
       "      <td>1</td>\n",
       "      <td>8/24/21</td>\n",
       "      <td>601</td>\n",
       "      <td>0</td>\n",
       "    </tr>\n",
       "    <tr>\n",
       "      <th>2</th>\n",
       "      <td>201927004</td>\n",
       "      <td>0</td>\n",
       "      <td>106.70</td>\n",
       "      <td>1</td>\n",
       "      <td>8/25/21</td>\n",
       "      <td>600</td>\n",
       "      <td>0</td>\n",
       "    </tr>\n",
       "    <tr>\n",
       "      <th>3</th>\n",
       "      <td>202029293</td>\n",
       "      <td>1</td>\n",
       "      <td>1115.41</td>\n",
       "      <td>6</td>\n",
       "      <td>9/26/21</td>\n",
       "      <td>568</td>\n",
       "      <td>Yes</td>\n",
       "    </tr>\n",
       "    <tr>\n",
       "      <th>4</th>\n",
       "      <td>201311492</td>\n",
       "      <td>1</td>\n",
       "      <td>500.00</td>\n",
       "      <td>1</td>\n",
       "      <td>9/10/22</td>\n",
       "      <td>219</td>\n",
       "      <td>0</td>\n",
       "    </tr>\n",
       "    <tr>\n",
       "      <th>...</th>\n",
       "      <td>...</td>\n",
       "      <td>...</td>\n",
       "      <td>...</td>\n",
       "      <td>...</td>\n",
       "      <td>...</td>\n",
       "      <td>...</td>\n",
       "      <td>...</td>\n",
       "    </tr>\n",
       "    <tr>\n",
       "      <th>2210</th>\n",
       "      <td>202332234</td>\n",
       "      <td>0</td>\n",
       "      <td>10.00</td>\n",
       "      <td>1</td>\n",
       "      <td>11/28/22</td>\n",
       "      <td>140</td>\n",
       "      <td>0</td>\n",
       "    </tr>\n",
       "    <tr>\n",
       "      <th>2211</th>\n",
       "      <td>202029527</td>\n",
       "      <td>0</td>\n",
       "      <td>50.00</td>\n",
       "      <td>1</td>\n",
       "      <td>11/1/20</td>\n",
       "      <td>897</td>\n",
       "      <td>0</td>\n",
       "    </tr>\n",
       "    <tr>\n",
       "      <th>2212</th>\n",
       "      <td>201412271</td>\n",
       "      <td>1</td>\n",
       "      <td>25.00</td>\n",
       "      <td>1</td>\n",
       "      <td>1/7/20</td>\n",
       "      <td>1196</td>\n",
       "      <td>0</td>\n",
       "    </tr>\n",
       "    <tr>\n",
       "      <th>2213</th>\n",
       "      <td>201517696</td>\n",
       "      <td>1</td>\n",
       "      <td>1400.00</td>\n",
       "      <td>1</td>\n",
       "      <td>6/30/20</td>\n",
       "      <td>1021</td>\n",
       "      <td>0</td>\n",
       "    </tr>\n",
       "    <tr>\n",
       "      <th>2214</th>\n",
       "      <td>202029200</td>\n",
       "      <td>0</td>\n",
       "      <td>6736.75</td>\n",
       "      <td>1</td>\n",
       "      <td>6/1/20</td>\n",
       "      <td>1050</td>\n",
       "      <td>0</td>\n",
       "    </tr>\n",
       "  </tbody>\n",
       "</table>\n",
       "<p>2215 rows × 7 columns</p>\n",
       "</div>"
      ],
      "text/plain": [
       "      Gf_CnBio_ID  Special_Events  Total_Donation  Frequency_Donation  \\\n",
       "0       202130356               0           26.90                   1   \n",
       "1       202130376               0           26.90                   1   \n",
       "2       201927004               0          106.70                   1   \n",
       "3       202029293               1         1115.41                   6   \n",
       "4       201311492               1          500.00                   1   \n",
       "...           ...             ...             ...                 ...   \n",
       "2210    202332234               0           10.00                   1   \n",
       "2211    202029527               0           50.00                   1   \n",
       "2212    201412271               1           25.00                   1   \n",
       "2213    201517696               1         1400.00                   1   \n",
       "2214    202029200               0         6736.75                   1   \n",
       "\n",
       "     Recent_Donated_Date  Recency Last_2_Years  \n",
       "0                8/22/21      603            0  \n",
       "1                8/24/21      601            0  \n",
       "2                8/25/21      600            0  \n",
       "3                9/26/21      568          Yes  \n",
       "4                9/10/22      219            0  \n",
       "...                  ...      ...          ...  \n",
       "2210            11/28/22      140            0  \n",
       "2211             11/1/20      897            0  \n",
       "2212              1/7/20     1196            0  \n",
       "2213             6/30/20     1021            0  \n",
       "2214              6/1/20     1050            0  \n",
       "\n",
       "[2215 rows x 7 columns]"
      ]
     },
     "execution_count": 11,
     "metadata": {},
     "output_type": "execute_result"
    }
   ],
   "source": [
    "donation_data"
   ]
  },
  {
   "cell_type": "code",
   "execution_count": 12,
   "id": "7ae935d0",
   "metadata": {},
   "outputs": [
    {
     "data": {
      "text/plain": [
       "2215"
      ]
     },
     "execution_count": 12,
     "metadata": {},
     "output_type": "execute_result"
    }
   ],
   "source": [
    "len(donation_data.Gf_CnBio_ID.unique())"
   ]
  },
  {
   "cell_type": "markdown",
   "id": "81a1ff98",
   "metadata": {},
   "source": [
    "Only 2215 donors appear in the above dataset (donated since 2020)"
   ]
  },
  {
   "cell_type": "code",
   "execution_count": 13,
   "id": "460a1aeb",
   "metadata": {},
   "outputs": [],
   "source": [
    "all_donors = pd.read_csv('Cleaned_Donor_bio.csv')"
   ]
  },
  {
   "cell_type": "code",
   "execution_count": 14,
   "id": "ce890b4b",
   "metadata": {},
   "outputs": [
    {
     "data": {
      "text/plain": [
       "22227"
      ]
     },
     "execution_count": 14,
     "metadata": {},
     "output_type": "execute_result"
    }
   ],
   "source": [
    "len(all_donors.CnBio_ID.unique())"
   ]
  },
  {
   "cell_type": "code",
   "execution_count": null,
   "id": "58a76862",
   "metadata": {},
   "outputs": [],
   "source": [
    "all_donors[all_donors]"
   ]
  },
  {
   "cell_type": "code",
   "execution_count": 15,
   "id": "6b979a95",
   "metadata": {},
   "outputs": [
    {
     "data": {
      "text/html": [
       "<div>\n",
       "<style scoped>\n",
       "    .dataframe tbody tr th:only-of-type {\n",
       "        vertical-align: middle;\n",
       "    }\n",
       "\n",
       "    .dataframe tbody tr th {\n",
       "        vertical-align: top;\n",
       "    }\n",
       "\n",
       "    .dataframe thead th {\n",
       "        text-align: right;\n",
       "    }\n",
       "</style>\n",
       "<table border=\"1\" class=\"dataframe\">\n",
       "  <thead>\n",
       "    <tr style=\"text-align: right;\">\n",
       "      <th></th>\n",
       "      <th>CnBio_Name</th>\n",
       "      <th>CnBio_Last_Name</th>\n",
       "      <th>CnBio_First_Name</th>\n",
       "      <th>CnBio_ID</th>\n",
       "      <th>CnBio_SortKey</th>\n",
       "      <th>CnBio_Age</th>\n",
       "      <th>CnBio_Constit_Code</th>\n",
       "      <th>CnBio_Gender</th>\n",
       "      <th>CnBio_Marital_status</th>\n",
       "      <th>CnBio_No_Valid_Addresses</th>\n",
       "      <th>...</th>\n",
       "      <th>CnSolCd_1_01_Solicit_Code</th>\n",
       "      <th>CnSolCd_1_02_Solicit_Code</th>\n",
       "      <th>CnSolCd_1_03_Solicit_Code</th>\n",
       "      <th>CnSolCd_1_04_Solicit_Code</th>\n",
       "      <th>CnSolCd_1_05_Solicit_Code</th>\n",
       "      <th>dne</th>\n",
       "      <th>dnc</th>\n",
       "      <th>dnm</th>\n",
       "      <th>invalid_email</th>\n",
       "      <th>prim_email</th>\n",
       "    </tr>\n",
       "  </thead>\n",
       "  <tbody>\n",
       "    <tr>\n",
       "      <th>0</th>\n",
       "      <td>. Beckham</td>\n",
       "      <td>Beckham</td>\n",
       "      <td>.</td>\n",
       "      <td>201925935</td>\n",
       "      <td>Beckham,.,,00001-593-0000034171</td>\n",
       "      <td>0</td>\n",
       "      <td>Individual</td>\n",
       "      <td>Unknown</td>\n",
       "      <td>NaN</td>\n",
       "      <td>Yes</td>\n",
       "      <td>...</td>\n",
       "      <td>NaN</td>\n",
       "      <td>NaN</td>\n",
       "      <td>NaN</td>\n",
       "      <td>NaN</td>\n",
       "      <td>NaN</td>\n",
       "      <td>False</td>\n",
       "      <td>False</td>\n",
       "      <td>False</td>\n",
       "      <td>False</td>\n",
       "      <td>NaN</td>\n",
       "    </tr>\n",
       "    <tr>\n",
       "      <th>1</th>\n",
       "      <td>. Kataoka</td>\n",
       "      <td>Kataoka</td>\n",
       "      <td>.</td>\n",
       "      <td>201927130</td>\n",
       "      <td>Kataoka,.,,00001-593-0000036073</td>\n",
       "      <td>0</td>\n",
       "      <td>Individual</td>\n",
       "      <td>Unknown</td>\n",
       "      <td>NaN</td>\n",
       "      <td>Yes</td>\n",
       "      <td>...</td>\n",
       "      <td>Do Not Email</td>\n",
       "      <td>NaN</td>\n",
       "      <td>NaN</td>\n",
       "      <td>NaN</td>\n",
       "      <td>NaN</td>\n",
       "      <td>True</td>\n",
       "      <td>False</td>\n",
       "      <td>False</td>\n",
       "      <td>False</td>\n",
       "      <td>NaN</td>\n",
       "    </tr>\n",
       "    <tr>\n",
       "      <th>2</th>\n",
       "      <td>. Marji</td>\n",
       "      <td>Marji</td>\n",
       "      <td>.</td>\n",
       "      <td>201927129</td>\n",
       "      <td>Marji,.,,00001-593-0000036072</td>\n",
       "      <td>0</td>\n",
       "      <td>Individual</td>\n",
       "      <td>Unknown</td>\n",
       "      <td>NaN</td>\n",
       "      <td>Yes</td>\n",
       "      <td>...</td>\n",
       "      <td>NaN</td>\n",
       "      <td>NaN</td>\n",
       "      <td>NaN</td>\n",
       "      <td>NaN</td>\n",
       "      <td>NaN</td>\n",
       "      <td>False</td>\n",
       "      <td>False</td>\n",
       "      <td>False</td>\n",
       "      <td>False</td>\n",
       "      <td>NaN</td>\n",
       "    </tr>\n",
       "    <tr>\n",
       "      <th>3</th>\n",
       "      <td>Bill Miles W. Bruce</td>\n",
       "      <td>Bruce</td>\n",
       "      <td>Bill Miles</td>\n",
       "      <td>201721483</td>\n",
       "      <td>Bruce,\"Bill\" Miles,Willet,00001-593-0000028659</td>\n",
       "      <td>0</td>\n",
       "      <td>Individual</td>\n",
       "      <td>Unknown</td>\n",
       "      <td>NaN</td>\n",
       "      <td>Yes</td>\n",
       "      <td>...</td>\n",
       "      <td>NaN</td>\n",
       "      <td>NaN</td>\n",
       "      <td>NaN</td>\n",
       "      <td>NaN</td>\n",
       "      <td>NaN</td>\n",
       "      <td>False</td>\n",
       "      <td>False</td>\n",
       "      <td>False</td>\n",
       "      <td>False</td>\n",
       "      <td>NaN</td>\n",
       "    </tr>\n",
       "    <tr>\n",
       "      <th>4</th>\n",
       "      <td>`Heldana Daniel</td>\n",
       "      <td>Daniel</td>\n",
       "      <td>`Heldana</td>\n",
       "      <td>201515380</td>\n",
       "      <td>Daniel,`Heldana,,00001-593-0000020219</td>\n",
       "      <td>0</td>\n",
       "      <td>Individual</td>\n",
       "      <td>Unknown</td>\n",
       "      <td>NaN</td>\n",
       "      <td>Yes</td>\n",
       "      <td>...</td>\n",
       "      <td>NaN</td>\n",
       "      <td>NaN</td>\n",
       "      <td>NaN</td>\n",
       "      <td>NaN</td>\n",
       "      <td>NaN</td>\n",
       "      <td>False</td>\n",
       "      <td>False</td>\n",
       "      <td>False</td>\n",
       "      <td>False</td>\n",
       "      <td>NaN</td>\n",
       "    </tr>\n",
       "  </tbody>\n",
       "</table>\n",
       "<p>5 rows × 29 columns</p>\n",
       "</div>"
      ],
      "text/plain": [
       "            CnBio_Name CnBio_Last_Name CnBio_First_Name   CnBio_ID  \\\n",
       "0            . Beckham         Beckham                .  201925935   \n",
       "1            . Kataoka         Kataoka                .  201927130   \n",
       "2              . Marji           Marji                .  201927129   \n",
       "3  Bill Miles W. Bruce           Bruce       Bill Miles  201721483   \n",
       "4      `Heldana Daniel          Daniel         `Heldana  201515380   \n",
       "\n",
       "                                    CnBio_SortKey  CnBio_Age  \\\n",
       "0                 Beckham,.,,00001-593-0000034171          0   \n",
       "1                 Kataoka,.,,00001-593-0000036073          0   \n",
       "2                   Marji,.,,00001-593-0000036072          0   \n",
       "3  Bruce,\"Bill\" Miles,Willet,00001-593-0000028659          0   \n",
       "4           Daniel,`Heldana,,00001-593-0000020219          0   \n",
       "\n",
       "  CnBio_Constit_Code CnBio_Gender CnBio_Marital_status  \\\n",
       "0         Individual      Unknown                  NaN   \n",
       "1         Individual      Unknown                  NaN   \n",
       "2         Individual      Unknown                  NaN   \n",
       "3         Individual      Unknown                  NaN   \n",
       "4         Individual      Unknown                  NaN   \n",
       "\n",
       "  CnBio_No_Valid_Addresses  ... CnSolCd_1_01_Solicit_Code  \\\n",
       "0                      Yes  ...                       NaN   \n",
       "1                      Yes  ...              Do Not Email   \n",
       "2                      Yes  ...                       NaN   \n",
       "3                      Yes  ...                       NaN   \n",
       "4                      Yes  ...                       NaN   \n",
       "\n",
       "  CnSolCd_1_02_Solicit_Code CnSolCd_1_03_Solicit_Code  \\\n",
       "0                       NaN                       NaN   \n",
       "1                       NaN                       NaN   \n",
       "2                       NaN                       NaN   \n",
       "3                       NaN                       NaN   \n",
       "4                       NaN                       NaN   \n",
       "\n",
       "  CnSolCd_1_04_Solicit_Code CnSolCd_1_05_Solicit_Code    dne    dnc    dnm  \\\n",
       "0                       NaN                       NaN  False  False  False   \n",
       "1                       NaN                       NaN   True  False  False   \n",
       "2                       NaN                       NaN  False  False  False   \n",
       "3                       NaN                       NaN  False  False  False   \n",
       "4                       NaN                       NaN  False  False  False   \n",
       "\n",
       "  invalid_email prim_email  \n",
       "0         False        NaN  \n",
       "1         False        NaN  \n",
       "2         False        NaN  \n",
       "3         False        NaN  \n",
       "4         False        NaN  \n",
       "\n",
       "[5 rows x 29 columns]"
      ]
     },
     "execution_count": 15,
     "metadata": {},
     "output_type": "execute_result"
    }
   ],
   "source": [
    "all_donors.head()"
   ]
  },
  {
   "cell_type": "markdown",
   "id": "2bbf4db1",
   "metadata": {},
   "source": [
    "## Donation Score Calculation"
   ]
  },
  {
   "cell_type": "markdown",
   "id": "bccf8c74",
   "metadata": {},
   "source": [
    "### Last 2 Years"
   ]
  },
  {
   "cell_type": "code",
   "execution_count": 9,
   "id": "63ab9d7f",
   "metadata": {},
   "outputs": [
    {
     "data": {
      "text/plain": [
       "array(['0', 'Yes'], dtype=object)"
      ]
     },
     "execution_count": 9,
     "metadata": {},
     "output_type": "execute_result"
    }
   ],
   "source": [
    "#If donated in the last 2 years\n",
    "Last_2_Years_values = donation_data['Last_2_Years'].unique()\n",
    "Last_2_Years_values"
   ]
  },
  {
   "cell_type": "code",
   "execution_count": 10,
   "id": "b75afb4d",
   "metadata": {},
   "outputs": [],
   "source": [
    "#Replace the 'Yes' values in 'Last_2_Years' with 10. \n",
    "donation_data['Last_2_Years'] = donation_data['Last_2_Years'].replace('Yes', 10)"
   ]
  },
  {
   "cell_type": "code",
   "execution_count": 11,
   "id": "f486c91c",
   "metadata": {},
   "outputs": [],
   "source": [
    "#Create a new dataframe \n",
    "donation_score = donation_data.Gf_CnBio_ID.to_frame()"
   ]
  },
  {
   "cell_type": "markdown",
   "id": "3b85f6fb",
   "metadata": {},
   "source": [
    "### Special Events"
   ]
  },
  {
   "cell_type": "markdown",
   "id": "774e4b49",
   "metadata": {},
   "source": [
    "Special events score is assigned as, \n",
    "* 0 if the person has not attended any special event\n",
    "* 10 if the person has attended a special event."
   ]
  },
  {
   "cell_type": "code",
   "execution_count": 12,
   "id": "de9332dc",
   "metadata": {},
   "outputs": [],
   "source": [
    "#If attended any Special events\n",
    "donation_score['special_events_score'] =  donation_data['Special_Events']"
   ]
  },
  {
   "cell_type": "code",
   "execution_count": 13,
   "id": "3673e9d0",
   "metadata": {},
   "outputs": [],
   "source": [
    "donation_score['special_events_score'] = donation_score['special_events_score'].replace(1, 10)"
   ]
  },
  {
   "cell_type": "markdown",
   "id": "240d178e",
   "metadata": {},
   "source": [
    "### Total Donation Amount"
   ]
  },
  {
   "cell_type": "markdown",
   "id": "da71092e",
   "metadata": {},
   "source": [
    "* Percentile ranking for total donation amount"
   ]
  },
  {
   "cell_type": "code",
   "execution_count": 14,
   "id": "37d1482f",
   "metadata": {},
   "outputs": [
    {
     "data": {
      "text/plain": [
       "array([2.5000000e+00, 2.6600000e+01, 5.0000000e+01, 5.3500000e+01,\n",
       "       1.0000000e+02, 1.0670000e+02, 2.0000000e+02, 2.8000000e+02,\n",
       "       5.2980000e+02, 1.6726720e+03, 6.4328326e+05])"
      ]
     },
     "execution_count": 14,
     "metadata": {},
     "output_type": "execute_result"
    }
   ],
   "source": [
    "total_donation_split = np.percentile(donation_data[donation_data.Total_Donation > 0]['Total_Donation'], \n",
    "                                     [0, 10, 20, 30, 40, 50, 60, 70, 80, 90, 100])\n",
    "total_donation_split"
   ]
  },
  {
   "cell_type": "code",
   "execution_count": 15,
   "id": "9749d045",
   "metadata": {},
   "outputs": [
    {
     "data": {
      "text/plain": [
       "array([-1.0000000e+00,  2.5000000e+00,  2.6600000e+01,  5.0000000e+01,\n",
       "        5.3500000e+01,  1.0000000e+02,  1.0670000e+02,  2.0000000e+02,\n",
       "        2.8000000e+02,  5.2980000e+02,  1.6726720e+03,  6.4328326e+05])"
      ]
     },
     "execution_count": 15,
     "metadata": {},
     "output_type": "execute_result"
    }
   ],
   "source": [
    "total_donation_split = np.insert(total_donation_split, 0, -1)\n",
    "total_donation_split"
   ]
  },
  {
   "cell_type": "markdown",
   "id": "46765a1e",
   "metadata": {},
   "source": [
    "The total donation points would be assigned as follows:\n",
    "\n",
    "- -1 to 2.50 = 0 points\n",
    "- 2.51 to 26.60 = 1 points\n",
    "- 26.61 to 50.00 = 2 points\n",
    "- 50.01 to 53.50 = 3 points\n",
    "- 53.51 to 100.00 = 4 points\n",
    "- 100.01 to 106.70 = 5 points\n",
    "- 106.71 to 200.00 = 6 points\n",
    "- 200.01 to 280.00 = 7 points\n",
    "- 280.01 to 529.80 = 8 points\n",
    "- 529.81 to 1672.67 = 9 points\n",
    "- 1672.68 or more = 10 points"
   ]
  },
  {
   "cell_type": "code",
   "execution_count": 16,
   "id": "06c8c7f2",
   "metadata": {},
   "outputs": [],
   "source": [
    "# points for Total donation\n",
    "donation_score['total_donation_score'] = pd.cut(\n",
    "    donation_data['Total_Donation'], \n",
    "    total_donation_split, \n",
    "    labels = [0, 1, 2, 3, 4, 5, 6, 7, 8, 9, 10])"
   ]
  },
  {
   "cell_type": "code",
   "execution_count": 17,
   "id": "4c05a593",
   "metadata": {},
   "outputs": [
    {
     "data": {
      "text/plain": [
       "(array([224., 281., 220., 252., 230., 163., 180., 226., 216., 222.]),\n",
       " array([ 1. ,  1.9,  2.8,  3.7,  4.6,  5.5,  6.4,  7.3,  8.2,  9.1, 10. ]),\n",
       " <BarContainer object of 10 artists>)"
      ]
     },
     "execution_count": 17,
     "metadata": {},
     "output_type": "execute_result"
    },
    {
     "data": {
      "image/png": "[encoded data removed]",
      "text/plain": [
       "<Figure size 640x480 with 1 Axes>"
      ]
     },
     "metadata": {},
     "output_type": "display_data"
    }
   ],
   "source": [
    "plt.hist(donation_score.total_donation_score, range = (1, 10))"
   ]
  },
  {
   "cell_type": "code",
   "execution_count": 18,
   "id": "5ebf34a1",
   "metadata": {},
   "outputs": [
    {
     "data": {
      "text/plain": [
       "10"
      ]
     },
     "execution_count": 18,
     "metadata": {},
     "output_type": "execute_result"
    }
   ],
   "source": [
    "#total_donation max\n",
    "totaldonation_max = donation_score['total_donation_score'].max()\n",
    "totaldonation_max"
   ]
  },
  {
   "cell_type": "code",
   "execution_count": 19,
   "id": "c70b7a69",
   "metadata": {},
   "outputs": [
    {
     "data": {
      "text/plain": [
       "0"
      ]
     },
     "execution_count": 19,
     "metadata": {},
     "output_type": "execute_result"
    }
   ],
   "source": [
    "#total_donation min\n",
    "totaldonation_min = donation_score['total_donation_score'].min()\n",
    "totaldonation_min"
   ]
  },
  {
   "cell_type": "markdown",
   "id": "333ce1a8",
   "metadata": {},
   "source": [
    "### Frequency of donations"
   ]
  },
  {
   "cell_type": "code",
   "execution_count": 20,
   "id": "cf965322",
   "metadata": {},
   "outputs": [
    {
     "data": {
      "text/plain": [
       "1.0"
      ]
     },
     "execution_count": 20,
     "metadata": {},
     "output_type": "execute_result"
    }
   ],
   "source": [
    "median = donation_data['Frequency_Donation'].median()\n",
    "median"
   ]
  },
  {
   "cell_type": "code",
   "execution_count": 21,
   "id": "cbc15486",
   "metadata": {},
   "outputs": [
    {
     "data": {
      "text/plain": [
       "98"
      ]
     },
     "execution_count": 21,
     "metadata": {},
     "output_type": "execute_result"
    }
   ],
   "source": [
    "# Frequency of Donations\n",
    "freqDonation_max = donation_data['Frequency_Donation'].max()\n",
    "freqDonation_max"
   ]
  },
  {
   "cell_type": "code",
   "execution_count": 22,
   "id": "5e3e1958",
   "metadata": {},
   "outputs": [
    {
     "data": {
      "text/plain": [
       "1"
      ]
     },
     "execution_count": 22,
     "metadata": {},
     "output_type": "execute_result"
    }
   ],
   "source": [
    "freqDonation_min = donation_data['Frequency_Donation'].min()\n",
    "freqDonation_min"
   ]
  },
  {
   "cell_type": "code",
   "execution_count": 23,
   "id": "7fb1b41d",
   "metadata": {},
   "outputs": [
    {
     "data": {
      "text/plain": [
       "(array([2.157e+03, 3.900e+01, 8.000e+00, 5.000e+00, 2.000e+00, 3.000e+00,\n",
       "        0.000e+00, 0.000e+00, 0.000e+00, 1.000e+00]),\n",
       " array([  1. ,  10.9,  20.8,  30.7,  40.6,  50.5,  60.4,  70.3,  80.2,\n",
       "         90.1, 100. ]),\n",
       " <BarContainer object of 10 artists>)"
      ]
     },
     "execution_count": 23,
     "metadata": {},
     "output_type": "execute_result"
    },
    {
     "data": {
      "image/png": "[encoded data removed]",
      "text/plain": [
       "<Figure size 640x480 with 1 Axes>"
      ]
     },
     "metadata": {},
     "output_type": "display_data"
    }
   ],
   "source": [
    "plt.hist(donation_data.Frequency_Donation, range = (1, 100))"
   ]
  },
  {
   "cell_type": "code",
   "execution_count": 24,
   "id": "2d4ad6bd",
   "metadata": {},
   "outputs": [],
   "source": [
    "# Creating buckets for frequency of donations and assigning score to it\n",
    "# 0 if x == 0\n",
    "# 1 if 1<= x <= 3\n",
    "# 2 if 4 <= x <= 7 \n",
    "# 3 if 8 <= x <= 12 \n",
    "# 4 if 12 <= x <= 18 \n",
    "# 5 if 19 <= x <= 25\n",
    "# 6 if 26 <= x <= 35\n",
    "# 7 if 36 <= x <= 45\n",
    "# 8 if 46 <= x <= 55\n",
    "# 9 if 56 <= x <= 65\n",
    "# 10 if x >= 66\n",
    "\n",
    "\n",
    "donation_score['frequency_donation_score'] =  donation_data['Frequency_Donation'].apply(lambda x: 0 if x == 0 \n",
    "                                              else (1 if 1<= x <= 3 \n",
    "                                              else (2 if 4 <= x <= 7 \n",
    "                                              else (3 if 8 <= x <= 12 \n",
    "                                              else (4 if 12 <= x <= 18  \n",
    "                                              else (5 if 19 <= x <= 25\n",
    "                                              else (6 if 26 <= x <= 35\n",
    "                                              else (7 if 36 <= x <= 45\n",
    "                                              else (8 if 46 <= x <= 55\n",
    "                                              else (9 if 56 <= x <= 65\n",
    "                                              else 10 ))))))))))"
   ]
  },
  {
   "cell_type": "code",
   "execution_count": 25,
   "id": "37c010a8",
   "metadata": {},
   "outputs": [
    {
     "data": {
      "text/plain": [
       "10"
      ]
     },
     "execution_count": 25,
     "metadata": {},
     "output_type": "execute_result"
    }
   ],
   "source": [
    "#frequency\n",
    "frequency_max = donation_score['frequency_donation_score'].max()\n",
    "frequency_max"
   ]
  },
  {
   "cell_type": "code",
   "execution_count": 26,
   "id": "0f21af43",
   "metadata": {},
   "outputs": [
    {
     "data": {
      "text/plain": [
       "1"
      ]
     },
     "execution_count": 26,
     "metadata": {},
     "output_type": "execute_result"
    }
   ],
   "source": [
    "#frequency\n",
    "frequency_min = donation_score['frequency_donation_score'].min()\n",
    "frequency_min"
   ]
  },
  {
   "cell_type": "markdown",
   "id": "dc3dc68a",
   "metadata": {},
   "source": [
    "### Recency"
   ]
  },
  {
   "cell_type": "markdown",
   "id": "26bdb20a",
   "metadata": {},
   "source": [
    "The number of days since the donor's most recent gift is Recency"
   ]
  },
  {
   "cell_type": "code",
   "execution_count": 27,
   "id": "25c303b5",
   "metadata": {},
   "outputs": [
    {
     "data": {
      "text/plain": [
       "array([ 107. ,  140. ,  206.6,  227.2,  308. ,  524. ,  574.4,  613. ,\n",
       "        713. ,  950.6, 1196. ])"
      ]
     },
     "execution_count": 27,
     "metadata": {},
     "output_type": "execute_result"
    }
   ],
   "source": [
    "recency_split = np.percentile(donation_data[donation_data.Recency > 0]['Recency'], \n",
    "                                     [0, 10, 20, 30, 40, 50, 60, 70, 80, 90, 100])\n",
    "recency_split"
   ]
  },
  {
   "cell_type": "code",
   "execution_count": 28,
   "id": "db69b6da",
   "metadata": {},
   "outputs": [
    {
     "data": {
      "text/plain": [
       "array([-1.000e+00,  1.070e+02,  1.400e+02,  2.066e+02,  2.272e+02,\n",
       "        3.080e+02,  5.240e+02,  5.744e+02,  6.130e+02,  7.130e+02,\n",
       "        9.506e+02,  1.196e+03])"
      ]
     },
     "execution_count": 28,
     "metadata": {},
     "output_type": "execute_result"
    }
   ],
   "source": [
    "recency_split = np.insert(recency_split, 0, -1)\n",
    "recency_split"
   ]
  },
  {
   "cell_type": "code",
   "execution_count": 29,
   "id": "630396f9",
   "metadata": {},
   "outputs": [],
   "source": [
    "donation_score['recency_score'] = pd.cut(\n",
    "    donation_data['Recency'], \n",
    "    recency_split, \n",
    "    labels = [0, 10, 9, 8, 7, 6, 5, 4, 3, 2, 1])"
   ]
  },
  {
   "cell_type": "code",
   "execution_count": 30,
   "id": "35304832",
   "metadata": {},
   "outputs": [
    {
     "data": {
      "text/html": [
       "<div>\n",
       "<style scoped>\n",
       "    .dataframe tbody tr th:only-of-type {\n",
       "        vertical-align: middle;\n",
       "    }\n",
       "\n",
       "    .dataframe tbody tr th {\n",
       "        vertical-align: top;\n",
       "    }\n",
       "\n",
       "    .dataframe thead th {\n",
       "        text-align: right;\n",
       "    }\n",
       "</style>\n",
       "<table border=\"1\" class=\"dataframe\">\n",
       "  <thead>\n",
       "    <tr style=\"text-align: right;\">\n",
       "      <th></th>\n",
       "      <th>Gf_CnBio_ID</th>\n",
       "      <th>special_events_score</th>\n",
       "      <th>total_donation_score</th>\n",
       "      <th>frequency_donation_score</th>\n",
       "      <th>recency_score</th>\n",
       "    </tr>\n",
       "  </thead>\n",
       "  <tbody>\n",
       "    <tr>\n",
       "      <th>0</th>\n",
       "      <td>202130356</td>\n",
       "      <td>0</td>\n",
       "      <td>2</td>\n",
       "      <td>1</td>\n",
       "      <td>4</td>\n",
       "    </tr>\n",
       "    <tr>\n",
       "      <th>1</th>\n",
       "      <td>202130376</td>\n",
       "      <td>0</td>\n",
       "      <td>2</td>\n",
       "      <td>1</td>\n",
       "      <td>4</td>\n",
       "    </tr>\n",
       "    <tr>\n",
       "      <th>2</th>\n",
       "      <td>201927004</td>\n",
       "      <td>0</td>\n",
       "      <td>5</td>\n",
       "      <td>1</td>\n",
       "      <td>4</td>\n",
       "    </tr>\n",
       "    <tr>\n",
       "      <th>3</th>\n",
       "      <td>202029293</td>\n",
       "      <td>10</td>\n",
       "      <td>9</td>\n",
       "      <td>2</td>\n",
       "      <td>5</td>\n",
       "    </tr>\n",
       "    <tr>\n",
       "      <th>4</th>\n",
       "      <td>201311492</td>\n",
       "      <td>10</td>\n",
       "      <td>8</td>\n",
       "      <td>1</td>\n",
       "      <td>8</td>\n",
       "    </tr>\n",
       "    <tr>\n",
       "      <th>...</th>\n",
       "      <td>...</td>\n",
       "      <td>...</td>\n",
       "      <td>...</td>\n",
       "      <td>...</td>\n",
       "      <td>...</td>\n",
       "    </tr>\n",
       "    <tr>\n",
       "      <th>2210</th>\n",
       "      <td>202332234</td>\n",
       "      <td>0</td>\n",
       "      <td>1</td>\n",
       "      <td>1</td>\n",
       "      <td>10</td>\n",
       "    </tr>\n",
       "    <tr>\n",
       "      <th>2211</th>\n",
       "      <td>202029527</td>\n",
       "      <td>0</td>\n",
       "      <td>2</td>\n",
       "      <td>1</td>\n",
       "      <td>2</td>\n",
       "    </tr>\n",
       "    <tr>\n",
       "      <th>2212</th>\n",
       "      <td>201412271</td>\n",
       "      <td>10</td>\n",
       "      <td>1</td>\n",
       "      <td>1</td>\n",
       "      <td>1</td>\n",
       "    </tr>\n",
       "    <tr>\n",
       "      <th>2213</th>\n",
       "      <td>201517696</td>\n",
       "      <td>10</td>\n",
       "      <td>9</td>\n",
       "      <td>1</td>\n",
       "      <td>1</td>\n",
       "    </tr>\n",
       "    <tr>\n",
       "      <th>2214</th>\n",
       "      <td>202029200</td>\n",
       "      <td>0</td>\n",
       "      <td>10</td>\n",
       "      <td>1</td>\n",
       "      <td>1</td>\n",
       "    </tr>\n",
       "  </tbody>\n",
       "</table>\n",
       "<p>2215 rows × 5 columns</p>\n",
       "</div>"
      ],
      "text/plain": [
       "      Gf_CnBio_ID  special_events_score total_donation_score  \\\n",
       "0       202130356                     0                    2   \n",
       "1       202130376                     0                    2   \n",
       "2       201927004                     0                    5   \n",
       "3       202029293                    10                    9   \n",
       "4       201311492                    10                    8   \n",
       "...           ...                   ...                  ...   \n",
       "2210    202332234                     0                    1   \n",
       "2211    202029527                     0                    2   \n",
       "2212    201412271                    10                    1   \n",
       "2213    201517696                    10                    9   \n",
       "2214    202029200                     0                   10   \n",
       "\n",
       "      frequency_donation_score recency_score  \n",
       "0                            1             4  \n",
       "1                            1             4  \n",
       "2                            1             4  \n",
       "3                            2             5  \n",
       "4                            1             8  \n",
       "...                        ...           ...  \n",
       "2210                         1            10  \n",
       "2211                         1             2  \n",
       "2212                         1             1  \n",
       "2213                         1             1  \n",
       "2214                         1             1  \n",
       "\n",
       "[2215 rows x 5 columns]"
      ]
     },
     "execution_count": 30,
     "metadata": {},
     "output_type": "execute_result"
    }
   ],
   "source": [
    "donation_score"
   ]
  },
  {
   "cell_type": "code",
   "execution_count": 31,
   "id": "744524fa",
   "metadata": {},
   "outputs": [
    {
     "data": {
      "text/plain": [
       "(array([222., 216., 225., 223., 218., 217., 229., 222., 218., 211.]),\n",
       " array([ 1. ,  1.9,  2.8,  3.7,  4.6,  5.5,  6.4,  7.3,  8.2,  9.1, 10. ]),\n",
       " <BarContainer object of 10 artists>)"
      ]
     },
     "execution_count": 31,
     "metadata": {},
     "output_type": "execute_result"
    },
    {
     "data": {
      "image/png": "[encoded data removed]",
      "text/plain": [
       "<Figure size 640x480 with 1 Axes>"
      ]
     },
     "metadata": {},
     "output_type": "display_data"
    }
   ],
   "source": [
    "plt.hist(donation_score.recency_score, range = (1, 10))"
   ]
  },
  {
   "cell_type": "code",
   "execution_count": 32,
   "id": "d3d63941",
   "metadata": {},
   "outputs": [
    {
     "data": {
      "text/plain": [
       "1"
      ]
     },
     "execution_count": 32,
     "metadata": {},
     "output_type": "execute_result"
    }
   ],
   "source": [
    "#Recency\n",
    "recency_max = donation_score['recency_score'].max()\n",
    "recency_max"
   ]
  },
  {
   "cell_type": "code",
   "execution_count": 33,
   "id": "2202e86d",
   "metadata": {},
   "outputs": [
    {
     "data": {
      "text/plain": [
       "0"
      ]
     },
     "execution_count": 33,
     "metadata": {},
     "output_type": "execute_result"
    }
   ],
   "source": [
    "#Recency\n",
    "recency_min = donation_score['recency_score'].min()\n",
    "recency_min"
   ]
  },
  {
   "cell_type": "markdown",
   "id": "ae064af7",
   "metadata": {},
   "source": [
    "### Donated in the last two years"
   ]
  },
  {
   "cell_type": "markdown",
   "id": "1b8fa0f5",
   "metadata": {},
   "source": [
    "Donated in the last 2 years score is assigned as, \n",
    "* 0 if the person has not donated in the last 2 years\n",
    "* 10 if the person has donated in the last 2 years"
   ]
  },
  {
   "cell_type": "code",
   "execution_count": 34,
   "id": "d727f575",
   "metadata": {},
   "outputs": [],
   "source": [
    "donation_score['donated_last_2_years_score'] = donation_data['Last_2_Years']"
   ]
  },
  {
   "cell_type": "markdown",
   "id": "c735580c",
   "metadata": {},
   "source": [
    "### Alter data types"
   ]
  },
  {
   "cell_type": "code",
   "execution_count": 35,
   "id": "303f04d3",
   "metadata": {},
   "outputs": [
    {
     "data": {
      "text/plain": [
       "Gf_CnBio_ID                      int64\n",
       "special_events_score             int64\n",
       "total_donation_score          category\n",
       "frequency_donation_score         int64\n",
       "recency_score                 category\n",
       "donated_last_2_years_score      object\n",
       "dtype: object"
      ]
     },
     "execution_count": 35,
     "metadata": {},
     "output_type": "execute_result"
    }
   ],
   "source": [
    "donation_score.dtypes"
   ]
  },
  {
   "cell_type": "code",
   "execution_count": 36,
   "id": "6715cd24",
   "metadata": {},
   "outputs": [],
   "source": [
    "# Convert datatypes of all columns to interger datatype\n",
    "donation_score['total_donation_score'] = donation_score['total_donation_score'].astype(int)\n",
    "#donation_score['frequency_donation_score'] = donation_score['frequency_donation_score'].astype(int)\n",
    "donation_score['recency_score'] = donation_score['recency_score'].astype(int)\n",
    "donation_score['donated_last_2_years_score'] = donation_score['donated_last_2_years_score'].astype(int)\n"
   ]
  },
  {
   "cell_type": "markdown",
   "id": "0f3025e8",
   "metadata": {},
   "source": [
    "### Donor Score calculation"
   ]
  },
  {
   "cell_type": "code",
   "execution_count": 54,
   "id": "69771ef5",
   "metadata": {},
   "outputs": [],
   "source": [
    "#The equation for the donation score is,\n",
    "#Donation Score= 0.2*(Special Events)+ 0.3*(Total Donation)+ 0.2*(Frequency of donations)+ 0.2*(Recency)+ 0.1*(Donated in the last two years) \n",
    "\n",
    "donation_score['Donation_Score']= (0.2*(donation_score['special_events_score']))+ (0.3*(donation_score['total_donation_score']))+ (0.2*(donation_score['frequency_donation_score']))+ (0.2*(donation_score['recency_score']))+ (0.1*(donation_score['donated_last_2_years_score']))\n",
    "\n"
   ]
  },
  {
   "cell_type": "code",
   "execution_count": 55,
   "id": "e2e6e493",
   "metadata": {},
   "outputs": [
    {
     "data": {
      "text/html": [
       "<div>\n",
       "<style scoped>\n",
       "    .dataframe tbody tr th:only-of-type {\n",
       "        vertical-align: middle;\n",
       "    }\n",
       "\n",
       "    .dataframe tbody tr th {\n",
       "        vertical-align: top;\n",
       "    }\n",
       "\n",
       "    .dataframe thead th {\n",
       "        text-align: right;\n",
       "    }\n",
       "</style>\n",
       "<table border=\"1\" class=\"dataframe\">\n",
       "  <thead>\n",
       "    <tr style=\"text-align: right;\">\n",
       "      <th></th>\n",
       "      <th>Gf_CnBio_ID</th>\n",
       "      <th>special_events_score</th>\n",
       "      <th>total_donation_score</th>\n",
       "      <th>frequency_donation_score</th>\n",
       "      <th>recency_score</th>\n",
       "      <th>donated_last_2_years_score</th>\n",
       "      <th>Donation_Score</th>\n",
       "    </tr>\n",
       "  </thead>\n",
       "  <tbody>\n",
       "    <tr>\n",
       "      <th>0</th>\n",
       "      <td>202130356</td>\n",
       "      <td>0</td>\n",
       "      <td>2</td>\n",
       "      <td>1</td>\n",
       "      <td>4</td>\n",
       "      <td>0</td>\n",
       "      <td>1.6</td>\n",
       "    </tr>\n",
       "    <tr>\n",
       "      <th>1</th>\n",
       "      <td>202130376</td>\n",
       "      <td>0</td>\n",
       "      <td>2</td>\n",
       "      <td>1</td>\n",
       "      <td>4</td>\n",
       "      <td>0</td>\n",
       "      <td>1.6</td>\n",
       "    </tr>\n",
       "    <tr>\n",
       "      <th>2</th>\n",
       "      <td>201927004</td>\n",
       "      <td>0</td>\n",
       "      <td>5</td>\n",
       "      <td>1</td>\n",
       "      <td>4</td>\n",
       "      <td>0</td>\n",
       "      <td>2.5</td>\n",
       "    </tr>\n",
       "    <tr>\n",
       "      <th>3</th>\n",
       "      <td>202029293</td>\n",
       "      <td>10</td>\n",
       "      <td>9</td>\n",
       "      <td>2</td>\n",
       "      <td>5</td>\n",
       "      <td>10</td>\n",
       "      <td>7.1</td>\n",
       "    </tr>\n",
       "    <tr>\n",
       "      <th>4</th>\n",
       "      <td>201311492</td>\n",
       "      <td>10</td>\n",
       "      <td>8</td>\n",
       "      <td>1</td>\n",
       "      <td>8</td>\n",
       "      <td>0</td>\n",
       "      <td>6.2</td>\n",
       "    </tr>\n",
       "    <tr>\n",
       "      <th>...</th>\n",
       "      <td>...</td>\n",
       "      <td>...</td>\n",
       "      <td>...</td>\n",
       "      <td>...</td>\n",
       "      <td>...</td>\n",
       "      <td>...</td>\n",
       "      <td>...</td>\n",
       "    </tr>\n",
       "    <tr>\n",
       "      <th>2210</th>\n",
       "      <td>202332234</td>\n",
       "      <td>0</td>\n",
       "      <td>1</td>\n",
       "      <td>1</td>\n",
       "      <td>10</td>\n",
       "      <td>0</td>\n",
       "      <td>2.5</td>\n",
       "    </tr>\n",
       "    <tr>\n",
       "      <th>2211</th>\n",
       "      <td>202029527</td>\n",
       "      <td>0</td>\n",
       "      <td>2</td>\n",
       "      <td>1</td>\n",
       "      <td>2</td>\n",
       "      <td>0</td>\n",
       "      <td>1.2</td>\n",
       "    </tr>\n",
       "    <tr>\n",
       "      <th>2212</th>\n",
       "      <td>201412271</td>\n",
       "      <td>10</td>\n",
       "      <td>1</td>\n",
       "      <td>1</td>\n",
       "      <td>1</td>\n",
       "      <td>0</td>\n",
       "      <td>2.7</td>\n",
       "    </tr>\n",
       "    <tr>\n",
       "      <th>2213</th>\n",
       "      <td>201517696</td>\n",
       "      <td>10</td>\n",
       "      <td>9</td>\n",
       "      <td>1</td>\n",
       "      <td>1</td>\n",
       "      <td>0</td>\n",
       "      <td>5.1</td>\n",
       "    </tr>\n",
       "    <tr>\n",
       "      <th>2214</th>\n",
       "      <td>202029200</td>\n",
       "      <td>0</td>\n",
       "      <td>10</td>\n",
       "      <td>1</td>\n",
       "      <td>1</td>\n",
       "      <td>0</td>\n",
       "      <td>3.4</td>\n",
       "    </tr>\n",
       "  </tbody>\n",
       "</table>\n",
       "<p>2215 rows × 7 columns</p>\n",
       "</div>"
      ],
      "text/plain": [
       "      Gf_CnBio_ID  special_events_score  total_donation_score  \\\n",
       "0       202130356                     0                     2   \n",
       "1       202130376                     0                     2   \n",
       "2       201927004                     0                     5   \n",
       "3       202029293                    10                     9   \n",
       "4       201311492                    10                     8   \n",
       "...           ...                   ...                   ...   \n",
       "2210    202332234                     0                     1   \n",
       "2211    202029527                     0                     2   \n",
       "2212    201412271                    10                     1   \n",
       "2213    201517696                    10                     9   \n",
       "2214    202029200                     0                    10   \n",
       "\n",
       "      frequency_donation_score  recency_score  donated_last_2_years_score  \\\n",
       "0                            1              4                           0   \n",
       "1                            1              4                           0   \n",
       "2                            1              4                           0   \n",
       "3                            2              5                          10   \n",
       "4                            1              8                           0   \n",
       "...                        ...            ...                         ...   \n",
       "2210                         1             10                           0   \n",
       "2211                         1              2                           0   \n",
       "2212                         1              1                           0   \n",
       "2213                         1              1                           0   \n",
       "2214                         1              1                           0   \n",
       "\n",
       "      Donation_Score  \n",
       "0                1.6  \n",
       "1                1.6  \n",
       "2                2.5  \n",
       "3                7.1  \n",
       "4                6.2  \n",
       "...              ...  \n",
       "2210             2.5  \n",
       "2211             1.2  \n",
       "2212             2.7  \n",
       "2213             5.1  \n",
       "2214             3.4  \n",
       "\n",
       "[2215 rows x 7 columns]"
      ]
     },
     "execution_count": 55,
     "metadata": {},
     "output_type": "execute_result"
    }
   ],
   "source": [
    "donation_score"
   ]
  },
  {
   "cell_type": "code",
   "execution_count": 56,
   "id": "e26488e4",
   "metadata": {},
   "outputs": [
    {
     "data": {
      "text/plain": [
       "9.2"
      ]
     },
     "execution_count": 56,
     "metadata": {},
     "output_type": "execute_result"
    }
   ],
   "source": [
    "donationscore_max = donation_score['Donation_Score'].max()\n",
    "donationscore_max"
   ]
  },
  {
   "cell_type": "code",
   "execution_count": 57,
   "id": "6a144640",
   "metadata": {},
   "outputs": [
    {
     "data": {
      "text/plain": [
       "0.7"
      ]
     },
     "execution_count": 57,
     "metadata": {},
     "output_type": "execute_result"
    }
   ],
   "source": [
    "donationscore_min = donation_score['Donation_Score'].min()\n",
    "donationscore_min"
   ]
  },
  {
   "cell_type": "code",
   "execution_count": 80,
   "id": "6d58ccfb",
   "metadata": {},
   "outputs": [
    {
     "data": {
      "text/html": [
       "<div>\n",
       "<style scoped>\n",
       "    .dataframe tbody tr th:only-of-type {\n",
       "        vertical-align: middle;\n",
       "    }\n",
       "\n",
       "    .dataframe tbody tr th {\n",
       "        vertical-align: top;\n",
       "    }\n",
       "\n",
       "    .dataframe thead th {\n",
       "        text-align: right;\n",
       "    }\n",
       "</style>\n",
       "<table border=\"1\" class=\"dataframe\">\n",
       "  <thead>\n",
       "    <tr style=\"text-align: right;\">\n",
       "      <th></th>\n",
       "      <th>CnBio_ID</th>\n",
       "      <th>Donation_Score</th>\n",
       "    </tr>\n",
       "  </thead>\n",
       "  <tbody>\n",
       "    <tr>\n",
       "      <th>0</th>\n",
       "      <td>201925935</td>\n",
       "      <td>0.0</td>\n",
       "    </tr>\n",
       "    <tr>\n",
       "      <th>1</th>\n",
       "      <td>201927130</td>\n",
       "      <td>0.0</td>\n",
       "    </tr>\n",
       "    <tr>\n",
       "      <th>2</th>\n",
       "      <td>201927129</td>\n",
       "      <td>0.0</td>\n",
       "    </tr>\n",
       "    <tr>\n",
       "      <th>3</th>\n",
       "      <td>201721483</td>\n",
       "      <td>0.0</td>\n",
       "    </tr>\n",
       "    <tr>\n",
       "      <th>4</th>\n",
       "      <td>201515380</td>\n",
       "      <td>0.0</td>\n",
       "    </tr>\n",
       "  </tbody>\n",
       "</table>\n",
       "</div>"
      ],
      "text/plain": [
       "    CnBio_ID  Donation_Score\n",
       "0  201925935             0.0\n",
       "1  201927130             0.0\n",
       "2  201927129             0.0\n",
       "3  201721483             0.0\n",
       "4  201515380             0.0"
      ]
     },
     "execution_count": 80,
     "metadata": {},
     "output_type": "execute_result"
    }
   ],
   "source": [
    "#keeping all donors, joining in the calculated donation score where we have it\n",
    "full = all_donors.merge(donation_score, how = 'left', left_on = 'CnBio_ID', right_on = 'Gf_CnBio_ID')\n",
    "\n",
    "#only the two columns we need\n",
    "full = full[['CnBio_ID', 'Donation_Score']]\n",
    "\n",
    "#filling in na values with 0 \n",
    "full['Donation_Score'] = full['Donation_Score'].fillna(0)\n",
    "\n",
    "full.head()"
   ]
  },
  {
   "cell_type": "code",
   "execution_count": 52,
   "id": "d8273e0e",
   "metadata": {},
   "outputs": [
    {
     "data": {
      "text/plain": [
       "8.2"
      ]
     },
     "execution_count": 52,
     "metadata": {},
     "output_type": "execute_result"
    }
   ],
   "source": [
    "max(full['Donation_Score'])"
   ]
  },
  {
   "cell_type": "markdown",
   "id": "e87b219d",
   "metadata": {},
   "source": [
    "## Volunteering Score Calculation"
   ]
  },
  {
   "cell_type": "code",
   "execution_count": 59,
   "id": "4818c4bf",
   "metadata": {},
   "outputs": [
    {
     "data": {
      "text/html": [
       "<div>\n",
       "<style scoped>\n",
       "    .dataframe tbody tr th:only-of-type {\n",
       "        vertical-align: middle;\n",
       "    }\n",
       "\n",
       "    .dataframe tbody tr th {\n",
       "        vertical-align: top;\n",
       "    }\n",
       "\n",
       "    .dataframe thead th {\n",
       "        text-align: right;\n",
       "    }\n",
       "</style>\n",
       "<table border=\"1\" class=\"dataframe\">\n",
       "  <thead>\n",
       "    <tr style=\"text-align: right;\">\n",
       "      <th></th>\n",
       "      <th>Constituent_ID</th>\n",
       "      <th>YEAR</th>\n",
       "      <th>Frequency</th>\n",
       "      <th>Total_Hours</th>\n",
       "    </tr>\n",
       "  </thead>\n",
       "  <tbody>\n",
       "    <tr>\n",
       "      <th>0</th>\n",
       "      <td>202231075</td>\n",
       "      <td>2022</td>\n",
       "      <td>63</td>\n",
       "      <td>313</td>\n",
       "    </tr>\n",
       "    <tr>\n",
       "      <th>1</th>\n",
       "      <td>202231160</td>\n",
       "      <td>2022</td>\n",
       "      <td>10</td>\n",
       "      <td>279</td>\n",
       "    </tr>\n",
       "    <tr>\n",
       "      <th>2</th>\n",
       "      <td>201516049</td>\n",
       "      <td>2022</td>\n",
       "      <td>12</td>\n",
       "      <td>263</td>\n",
       "    </tr>\n",
       "    <tr>\n",
       "      <th>3</th>\n",
       "      <td>202130627</td>\n",
       "      <td>2022</td>\n",
       "      <td>5</td>\n",
       "      <td>220</td>\n",
       "    </tr>\n",
       "    <tr>\n",
       "      <th>4</th>\n",
       "      <td>201619686</td>\n",
       "      <td>2022</td>\n",
       "      <td>4</td>\n",
       "      <td>220</td>\n",
       "    </tr>\n",
       "    <tr>\n",
       "      <th>...</th>\n",
       "      <td>...</td>\n",
       "      <td>...</td>\n",
       "      <td>...</td>\n",
       "      <td>...</td>\n",
       "    </tr>\n",
       "    <tr>\n",
       "      <th>474</th>\n",
       "      <td>202332039</td>\n",
       "      <td>2022</td>\n",
       "      <td>1</td>\n",
       "      <td>1</td>\n",
       "    </tr>\n",
       "    <tr>\n",
       "      <th>475</th>\n",
       "      <td>202332033</td>\n",
       "      <td>2022</td>\n",
       "      <td>1</td>\n",
       "      <td>1</td>\n",
       "    </tr>\n",
       "    <tr>\n",
       "      <th>476</th>\n",
       "      <td>202332016</td>\n",
       "      <td>2022</td>\n",
       "      <td>1</td>\n",
       "      <td>1</td>\n",
       "    </tr>\n",
       "    <tr>\n",
       "      <th>477</th>\n",
       "      <td>202332053</td>\n",
       "      <td>2022</td>\n",
       "      <td>1</td>\n",
       "      <td>1</td>\n",
       "    </tr>\n",
       "    <tr>\n",
       "      <th>478</th>\n",
       "      <td>202331968</td>\n",
       "      <td>2022</td>\n",
       "      <td>1</td>\n",
       "      <td>1</td>\n",
       "    </tr>\n",
       "  </tbody>\n",
       "</table>\n",
       "<p>479 rows × 4 columns</p>\n",
       "</div>"
      ],
      "text/plain": [
       "     Constituent_ID  YEAR  Frequency  Total_Hours\n",
       "0         202231075  2022         63          313\n",
       "1         202231160  2022         10          279\n",
       "2         201516049  2022         12          263\n",
       "3         202130627  2022          5          220\n",
       "4         201619686  2022          4          220\n",
       "..              ...   ...        ...          ...\n",
       "474       202332039  2022          1            1\n",
       "475       202332033  2022          1            1\n",
       "476       202332016  2022          1            1\n",
       "477       202332053  2022          1            1\n",
       "478       202331968  2022          1            1\n",
       "\n",
       "[479 rows x 4 columns]"
      ]
     },
     "execution_count": 59,
     "metadata": {},
     "output_type": "execute_result"
    }
   ],
   "source": [
    "volunteering_data = pd.read_csv('Volunteer_engagement_data.csv')\n",
    "volunteering_data"
   ]
  },
  {
   "cell_type": "markdown",
   "id": "80a8e63e",
   "metadata": {},
   "source": [
    "### Frequency of volunteering"
   ]
  },
  {
   "cell_type": "code",
   "execution_count": 60,
   "id": "12adf3f5",
   "metadata": {},
   "outputs": [
    {
     "data": {
      "text/plain": [
       "1.0"
      ]
     },
     "execution_count": 60,
     "metadata": {},
     "output_type": "execute_result"
    }
   ],
   "source": [
    "median = volunteering_data['Frequency'].median()\n",
    "median"
   ]
  },
  {
   "cell_type": "code",
   "execution_count": 61,
   "id": "00e598b2",
   "metadata": {},
   "outputs": [
    {
     "data": {
      "text/plain": [
       "63"
      ]
     },
     "execution_count": 61,
     "metadata": {},
     "output_type": "execute_result"
    }
   ],
   "source": [
    "# Frequency of Volunteering\n",
    "freqVolunteering_max = volunteering_data['Frequency'].max()\n",
    "freqVolunteering_max"
   ]
  },
  {
   "cell_type": "code",
   "execution_count": 62,
   "id": "df635a20",
   "metadata": {},
   "outputs": [
    {
     "data": {
      "text/plain": [
       "1"
      ]
     },
     "execution_count": 62,
     "metadata": {},
     "output_type": "execute_result"
    }
   ],
   "source": [
    "freqVolunteering_min = volunteering_data['Frequency'].min()\n",
    "freqVolunteering_min"
   ]
  },
  {
   "cell_type": "code",
   "execution_count": 63,
   "id": "b1709080",
   "metadata": {},
   "outputs": [
    {
     "data": {
      "text/plain": [
       "(array([472.,   6.,   0.,   0.,   0.,   0.,   1.,   0.,   0.,   0.]),\n",
       " array([  1. ,  10.9,  20.8,  30.7,  40.6,  50.5,  60.4,  70.3,  80.2,\n",
       "         90.1, 100. ]),\n",
       " <BarContainer object of 10 artists>)"
      ]
     },
     "execution_count": 63,
     "metadata": {},
     "output_type": "execute_result"
    },
    {
     "data": {
      "image/png": "[encoded data removed]",
      "text/plain": [
       "<Figure size 640x480 with 1 Axes>"
      ]
     },
     "metadata": {},
     "output_type": "display_data"
    }
   ],
   "source": [
    "plt.hist(volunteering_data.Frequency, range = (1, 100))"
   ]
  },
  {
   "cell_type": "code",
   "execution_count": 64,
   "id": "385fc0f7",
   "metadata": {},
   "outputs": [],
   "source": [
    "#Create a new dataframe \n",
    "volunteering_score = volunteering_data.Constituent_ID.to_frame()"
   ]
  },
  {
   "cell_type": "code",
   "execution_count": 65,
   "id": "b32dc012",
   "metadata": {},
   "outputs": [],
   "source": [
    "# Creating buckets for frequency of volunteering and assigning score to it\n",
    "# 0 if x == 0\n",
    "# 1 if 1<= x <= 3\n",
    "# 2 if 4 <= x <= 7 \n",
    "# 3 if 8 <= x <= 12 \n",
    "# 4 if 12 <= x <= 18 \n",
    "# 5 if 19 <= x <= 25\n",
    "# 6 if 26 <= x <= 35\n",
    "# 7 if 36 <= x <= 45\n",
    "# 8 if 46 <= x <= 55\n",
    "# 9 if 56 <= x <= 65\n",
    "# 10 if x >= 66\n",
    "\n",
    "\n",
    "volunteering_score['frequency_volunteering_score'] =  volunteering_data['Frequency'].apply(lambda x: 0 if x == 0 \n",
    "                                              else (1 if 1<= x <= 3 \n",
    "                                              else (2 if 4 <= x <= 7 \n",
    "                                              else (3 if 8 <= x <= 12 \n",
    "                                              else (4 if 12 <= x <= 18  \n",
    "                                              else (5 if 19 <= x <= 25\n",
    "                                              else (6 if 26 <= x <= 35\n",
    "                                              else (7 if 36 <= x <= 45\n",
    "                                              else (8 if 46 <= x <= 55\n",
    "                                              else (9 if 56 <= x <= 65\n",
    "                                              else 10 ))))))))))"
   ]
  },
  {
   "cell_type": "code",
   "execution_count": 66,
   "id": "eb90b62b",
   "metadata": {},
   "outputs": [
    {
     "data": {
      "text/html": [
       "<div>\n",
       "<style scoped>\n",
       "    .dataframe tbody tr th:only-of-type {\n",
       "        vertical-align: middle;\n",
       "    }\n",
       "\n",
       "    .dataframe tbody tr th {\n",
       "        vertical-align: top;\n",
       "    }\n",
       "\n",
       "    .dataframe thead th {\n",
       "        text-align: right;\n",
       "    }\n",
       "</style>\n",
       "<table border=\"1\" class=\"dataframe\">\n",
       "  <thead>\n",
       "    <tr style=\"text-align: right;\">\n",
       "      <th></th>\n",
       "      <th>Constituent_ID</th>\n",
       "      <th>frequency_volunteering_score</th>\n",
       "    </tr>\n",
       "  </thead>\n",
       "  <tbody>\n",
       "    <tr>\n",
       "      <th>0</th>\n",
       "      <td>202231075</td>\n",
       "      <td>9</td>\n",
       "    </tr>\n",
       "    <tr>\n",
       "      <th>1</th>\n",
       "      <td>202231160</td>\n",
       "      <td>3</td>\n",
       "    </tr>\n",
       "    <tr>\n",
       "      <th>2</th>\n",
       "      <td>201516049</td>\n",
       "      <td>3</td>\n",
       "    </tr>\n",
       "    <tr>\n",
       "      <th>3</th>\n",
       "      <td>202130627</td>\n",
       "      <td>2</td>\n",
       "    </tr>\n",
       "    <tr>\n",
       "      <th>4</th>\n",
       "      <td>201619686</td>\n",
       "      <td>2</td>\n",
       "    </tr>\n",
       "    <tr>\n",
       "      <th>...</th>\n",
       "      <td>...</td>\n",
       "      <td>...</td>\n",
       "    </tr>\n",
       "    <tr>\n",
       "      <th>474</th>\n",
       "      <td>202332039</td>\n",
       "      <td>1</td>\n",
       "    </tr>\n",
       "    <tr>\n",
       "      <th>475</th>\n",
       "      <td>202332033</td>\n",
       "      <td>1</td>\n",
       "    </tr>\n",
       "    <tr>\n",
       "      <th>476</th>\n",
       "      <td>202332016</td>\n",
       "      <td>1</td>\n",
       "    </tr>\n",
       "    <tr>\n",
       "      <th>477</th>\n",
       "      <td>202332053</td>\n",
       "      <td>1</td>\n",
       "    </tr>\n",
       "    <tr>\n",
       "      <th>478</th>\n",
       "      <td>202331968</td>\n",
       "      <td>1</td>\n",
       "    </tr>\n",
       "  </tbody>\n",
       "</table>\n",
       "<p>479 rows × 2 columns</p>\n",
       "</div>"
      ],
      "text/plain": [
       "     Constituent_ID  frequency_volunteering_score\n",
       "0         202231075                             9\n",
       "1         202231160                             3\n",
       "2         201516049                             3\n",
       "3         202130627                             2\n",
       "4         201619686                             2\n",
       "..              ...                           ...\n",
       "474       202332039                             1\n",
       "475       202332033                             1\n",
       "476       202332016                             1\n",
       "477       202332053                             1\n",
       "478       202331968                             1\n",
       "\n",
       "[479 rows x 2 columns]"
      ]
     },
     "execution_count": 66,
     "metadata": {},
     "output_type": "execute_result"
    }
   ],
   "source": [
    "volunteering_score"
   ]
  },
  {
   "cell_type": "markdown",
   "id": "a0e1174e",
   "metadata": {},
   "source": [
    "### Total hours volunteered"
   ]
  },
  {
   "cell_type": "code",
   "execution_count": 67,
   "id": "070ee463",
   "metadata": {},
   "outputs": [
    {
     "data": {
      "text/plain": [
       "313"
      ]
     },
     "execution_count": 67,
     "metadata": {},
     "output_type": "execute_result"
    }
   ],
   "source": [
    "# Max hours volunteered\n",
    "Total_Hours_max = volunteering_data['Total_Hours'].max()\n",
    "Total_Hours_max"
   ]
  },
  {
   "cell_type": "code",
   "execution_count": 68,
   "id": "61d6a32b",
   "metadata": {},
   "outputs": [
    {
     "data": {
      "text/plain": [
       "1"
      ]
     },
     "execution_count": 68,
     "metadata": {},
     "output_type": "execute_result"
    }
   ],
   "source": [
    "# Min hours volunteered\n",
    "Total_Hours_min = volunteering_data['Total_Hours'].min()\n",
    "Total_Hours_min"
   ]
  },
  {
   "cell_type": "code",
   "execution_count": 69,
   "id": "7a62bc4b",
   "metadata": {},
   "outputs": [
    {
     "data": {
      "text/plain": [
       "(array([352.,  18.,  23.,   6.,  13.,  45.,   3.,   1.,   2.,   2.]),\n",
       " array([  1. ,  10.9,  20.8,  30.7,  40.6,  50.5,  60.4,  70.3,  80.2,\n",
       "         90.1, 100. ]),\n",
       " <BarContainer object of 10 artists>)"
      ]
     },
     "execution_count": 69,
     "metadata": {},
     "output_type": "execute_result"
    },
    {
     "data": {
      "image/png": "[encoded data removed]",
      "text/plain": [
       "<Figure size 640x480 with 1 Axes>"
      ]
     },
     "metadata": {},
     "output_type": "display_data"
    }
   ],
   "source": [
    "plt.hist(volunteering_data.Total_Hours, range = (1, 100))"
   ]
  },
  {
   "cell_type": "code",
   "execution_count": 70,
   "id": "ee57f8bb",
   "metadata": {
    "scrolled": true
   },
   "outputs": [
    {
     "data": {
      "text/plain": [
       "array([  1.,   1.,   2.,   3.,   5.,   7.,   8.,  10.,  25.,  55., 313.])"
      ]
     },
     "execution_count": 70,
     "metadata": {},
     "output_type": "execute_result"
    }
   ],
   "source": [
    "total_hours_volunteered_split = np.percentile(volunteering_data[volunteering_data.Total_Hours > 0]['Total_Hours'], \n",
    "                                     [0, 10, 20, 30, 40, 50, 60, 70, 80, 90, 100])\n",
    "total_hours_volunteered_split\n"
   ]
  },
  {
   "cell_type": "code",
   "execution_count": 71,
   "id": "b7091aa3",
   "metadata": {},
   "outputs": [
    {
     "data": {
      "text/plain": [
       "array([ -1.,   1.,   1.,   2.,   3.,   5.,   7.,   8.,  10.,  25.,  55.,\n",
       "       313.])"
      ]
     },
     "execution_count": 71,
     "metadata": {},
     "output_type": "execute_result"
    }
   ],
   "source": [
    "total_hours_volunteered_split = np.insert(total_hours_volunteered_split, 0, -1)\n",
    "total_hours_volunteered_split"
   ]
  },
  {
   "cell_type": "code",
   "execution_count": 72,
   "id": "10fcfd11",
   "metadata": {},
   "outputs": [
    {
     "data": {
      "text/plain": [
       "array([ -1.,   1.,   2.,   3.,   5.,   7.,   8.,  10.,  25.,  55., 313.])"
      ]
     },
     "execution_count": 72,
     "metadata": {},
     "output_type": "execute_result"
    }
   ],
   "source": [
    "total_hours_volunteered_split = np.delete(total_hours_volunteered_split, 1)\n",
    "total_hours_volunteered_split"
   ]
  },
  {
   "cell_type": "code",
   "execution_count": 73,
   "id": "cfe77d98",
   "metadata": {},
   "outputs": [],
   "source": [
    "# points for total_hours_volunteered\n",
    "volunteering_score['total_hours_volunteered_score'] = pd.cut(\n",
    "    volunteering_data['Total_Hours'], \n",
    "    total_hours_volunteered_split, \n",
    "    labels = [0, 2, 3, 4, 5, 6, 7, 8, 9, 10])"
   ]
  },
  {
   "cell_type": "code",
   "execution_count": 74,
   "id": "69cb957a",
   "metadata": {},
   "outputs": [
    {
     "data": {
      "text/html": [
       "<div>\n",
       "<style scoped>\n",
       "    .dataframe tbody tr th:only-of-type {\n",
       "        vertical-align: middle;\n",
       "    }\n",
       "\n",
       "    .dataframe tbody tr th {\n",
       "        vertical-align: top;\n",
       "    }\n",
       "\n",
       "    .dataframe thead th {\n",
       "        text-align: right;\n",
       "    }\n",
       "</style>\n",
       "<table border=\"1\" class=\"dataframe\">\n",
       "  <thead>\n",
       "    <tr style=\"text-align: right;\">\n",
       "      <th></th>\n",
       "      <th>Constituent_ID</th>\n",
       "      <th>frequency_volunteering_score</th>\n",
       "      <th>total_hours_volunteered_score</th>\n",
       "    </tr>\n",
       "  </thead>\n",
       "  <tbody>\n",
       "    <tr>\n",
       "      <th>0</th>\n",
       "      <td>202231075</td>\n",
       "      <td>9</td>\n",
       "      <td>10</td>\n",
       "    </tr>\n",
       "    <tr>\n",
       "      <th>1</th>\n",
       "      <td>202231160</td>\n",
       "      <td>3</td>\n",
       "      <td>10</td>\n",
       "    </tr>\n",
       "    <tr>\n",
       "      <th>2</th>\n",
       "      <td>201516049</td>\n",
       "      <td>3</td>\n",
       "      <td>10</td>\n",
       "    </tr>\n",
       "    <tr>\n",
       "      <th>3</th>\n",
       "      <td>202130627</td>\n",
       "      <td>2</td>\n",
       "      <td>10</td>\n",
       "    </tr>\n",
       "    <tr>\n",
       "      <th>4</th>\n",
       "      <td>201619686</td>\n",
       "      <td>2</td>\n",
       "      <td>10</td>\n",
       "    </tr>\n",
       "    <tr>\n",
       "      <th>...</th>\n",
       "      <td>...</td>\n",
       "      <td>...</td>\n",
       "      <td>...</td>\n",
       "    </tr>\n",
       "    <tr>\n",
       "      <th>474</th>\n",
       "      <td>202332039</td>\n",
       "      <td>1</td>\n",
       "      <td>0</td>\n",
       "    </tr>\n",
       "    <tr>\n",
       "      <th>475</th>\n",
       "      <td>202332033</td>\n",
       "      <td>1</td>\n",
       "      <td>0</td>\n",
       "    </tr>\n",
       "    <tr>\n",
       "      <th>476</th>\n",
       "      <td>202332016</td>\n",
       "      <td>1</td>\n",
       "      <td>0</td>\n",
       "    </tr>\n",
       "    <tr>\n",
       "      <th>477</th>\n",
       "      <td>202332053</td>\n",
       "      <td>1</td>\n",
       "      <td>0</td>\n",
       "    </tr>\n",
       "    <tr>\n",
       "      <th>478</th>\n",
       "      <td>202331968</td>\n",
       "      <td>1</td>\n",
       "      <td>0</td>\n",
       "    </tr>\n",
       "  </tbody>\n",
       "</table>\n",
       "<p>479 rows × 3 columns</p>\n",
       "</div>"
      ],
      "text/plain": [
       "     Constituent_ID  frequency_volunteering_score  \\\n",
       "0         202231075                             9   \n",
       "1         202231160                             3   \n",
       "2         201516049                             3   \n",
       "3         202130627                             2   \n",
       "4         201619686                             2   \n",
       "..              ...                           ...   \n",
       "474       202332039                             1   \n",
       "475       202332033                             1   \n",
       "476       202332016                             1   \n",
       "477       202332053                             1   \n",
       "478       202331968                             1   \n",
       "\n",
       "    total_hours_volunteered_score  \n",
       "0                              10  \n",
       "1                              10  \n",
       "2                              10  \n",
       "3                              10  \n",
       "4                              10  \n",
       "..                            ...  \n",
       "474                             0  \n",
       "475                             0  \n",
       "476                             0  \n",
       "477                             0  \n",
       "478                             0  \n",
       "\n",
       "[479 rows x 3 columns]"
      ]
     },
     "execution_count": 74,
     "metadata": {},
     "output_type": "execute_result"
    }
   ],
   "source": [
    "volunteering_score"
   ]
  },
  {
   "cell_type": "code",
   "execution_count": 75,
   "id": "8bc86914",
   "metadata": {},
   "outputs": [
    {
     "data": {
      "text/plain": [
       "Constituent_ID                      int64\n",
       "frequency_volunteering_score        int64\n",
       "total_hours_volunteered_score    category\n",
       "dtype: object"
      ]
     },
     "execution_count": 75,
     "metadata": {},
     "output_type": "execute_result"
    }
   ],
   "source": [
    "volunteering_score.dtypes"
   ]
  },
  {
   "cell_type": "code",
   "execution_count": 76,
   "id": "1fc29182",
   "metadata": {},
   "outputs": [],
   "source": [
    "volunteering_score['total_hours_volunteered_score'] = volunteering_score['total_hours_volunteered_score'].astype(int)"
   ]
  },
  {
   "cell_type": "code",
   "execution_count": 77,
   "id": "cf6da636",
   "metadata": {},
   "outputs": [
    {
     "data": {
      "text/html": [
       "<div>\n",
       "<style scoped>\n",
       "    .dataframe tbody tr th:only-of-type {\n",
       "        vertical-align: middle;\n",
       "    }\n",
       "\n",
       "    .dataframe tbody tr th {\n",
       "        vertical-align: top;\n",
       "    }\n",
       "\n",
       "    .dataframe thead th {\n",
       "        text-align: right;\n",
       "    }\n",
       "</style>\n",
       "<table border=\"1\" class=\"dataframe\">\n",
       "  <thead>\n",
       "    <tr style=\"text-align: right;\">\n",
       "      <th></th>\n",
       "      <th>Constituent_ID</th>\n",
       "      <th>frequency_volunteering_score</th>\n",
       "      <th>total_hours_volunteered_score</th>\n",
       "      <th>Volunteering_Score</th>\n",
       "    </tr>\n",
       "  </thead>\n",
       "  <tbody>\n",
       "    <tr>\n",
       "      <th>0</th>\n",
       "      <td>202231075</td>\n",
       "      <td>9</td>\n",
       "      <td>10</td>\n",
       "      <td>9.6</td>\n",
       "    </tr>\n",
       "    <tr>\n",
       "      <th>1</th>\n",
       "      <td>202231160</td>\n",
       "      <td>3</td>\n",
       "      <td>10</td>\n",
       "      <td>7.2</td>\n",
       "    </tr>\n",
       "    <tr>\n",
       "      <th>2</th>\n",
       "      <td>201516049</td>\n",
       "      <td>3</td>\n",
       "      <td>10</td>\n",
       "      <td>7.2</td>\n",
       "    </tr>\n",
       "    <tr>\n",
       "      <th>3</th>\n",
       "      <td>202130627</td>\n",
       "      <td>2</td>\n",
       "      <td>10</td>\n",
       "      <td>6.8</td>\n",
       "    </tr>\n",
       "    <tr>\n",
       "      <th>4</th>\n",
       "      <td>201619686</td>\n",
       "      <td>2</td>\n",
       "      <td>10</td>\n",
       "      <td>6.8</td>\n",
       "    </tr>\n",
       "    <tr>\n",
       "      <th>...</th>\n",
       "      <td>...</td>\n",
       "      <td>...</td>\n",
       "      <td>...</td>\n",
       "      <td>...</td>\n",
       "    </tr>\n",
       "    <tr>\n",
       "      <th>474</th>\n",
       "      <td>202332039</td>\n",
       "      <td>1</td>\n",
       "      <td>0</td>\n",
       "      <td>0.4</td>\n",
       "    </tr>\n",
       "    <tr>\n",
       "      <th>475</th>\n",
       "      <td>202332033</td>\n",
       "      <td>1</td>\n",
       "      <td>0</td>\n",
       "      <td>0.4</td>\n",
       "    </tr>\n",
       "    <tr>\n",
       "      <th>476</th>\n",
       "      <td>202332016</td>\n",
       "      <td>1</td>\n",
       "      <td>0</td>\n",
       "      <td>0.4</td>\n",
       "    </tr>\n",
       "    <tr>\n",
       "      <th>477</th>\n",
       "      <td>202332053</td>\n",
       "      <td>1</td>\n",
       "      <td>0</td>\n",
       "      <td>0.4</td>\n",
       "    </tr>\n",
       "    <tr>\n",
       "      <th>478</th>\n",
       "      <td>202331968</td>\n",
       "      <td>1</td>\n",
       "      <td>0</td>\n",
       "      <td>0.4</td>\n",
       "    </tr>\n",
       "  </tbody>\n",
       "</table>\n",
       "<p>479 rows × 4 columns</p>\n",
       "</div>"
      ],
      "text/plain": [
       "     Constituent_ID  frequency_volunteering_score  \\\n",
       "0         202231075                             9   \n",
       "1         202231160                             3   \n",
       "2         201516049                             3   \n",
       "3         202130627                             2   \n",
       "4         201619686                             2   \n",
       "..              ...                           ...   \n",
       "474       202332039                             1   \n",
       "475       202332033                             1   \n",
       "476       202332016                             1   \n",
       "477       202332053                             1   \n",
       "478       202331968                             1   \n",
       "\n",
       "     total_hours_volunteered_score  Volunteering_Score  \n",
       "0                               10                 9.6  \n",
       "1                               10                 7.2  \n",
       "2                               10                 7.2  \n",
       "3                               10                 6.8  \n",
       "4                               10                 6.8  \n",
       "..                             ...                 ...  \n",
       "474                              0                 0.4  \n",
       "475                              0                 0.4  \n",
       "476                              0                 0.4  \n",
       "477                              0                 0.4  \n",
       "478                              0                 0.4  \n",
       "\n",
       "[479 rows x 4 columns]"
      ]
     },
     "execution_count": 77,
     "metadata": {},
     "output_type": "execute_result"
    }
   ],
   "source": [
    "#The equation for the volunteering score is,\n",
    "#Volunteering score = 0.4*(Frequency of volunteering) + 0.6*(Total hours volunteered) \n",
    "\n",
    "volunteering_score['Volunteering_Score']= (0.4*(volunteering_score['frequency_volunteering_score']))+ (0.6*(volunteering_score['total_hours_volunteered_score']))\n",
    "\n",
    "volunteering_score\n"
   ]
  },
  {
   "cell_type": "code",
   "execution_count": 81,
   "id": "0b898f90",
   "metadata": {},
   "outputs": [
    {
     "data": {
      "text/html": [
       "<div>\n",
       "<style scoped>\n",
       "    .dataframe tbody tr th:only-of-type {\n",
       "        vertical-align: middle;\n",
       "    }\n",
       "\n",
       "    .dataframe tbody tr th {\n",
       "        vertical-align: top;\n",
       "    }\n",
       "\n",
       "    .dataframe thead th {\n",
       "        text-align: right;\n",
       "    }\n",
       "</style>\n",
       "<table border=\"1\" class=\"dataframe\">\n",
       "  <thead>\n",
       "    <tr style=\"text-align: right;\">\n",
       "      <th></th>\n",
       "      <th>CnBio_ID</th>\n",
       "      <th>Donation_Score</th>\n",
       "      <th>Volunteering_Score</th>\n",
       "    </tr>\n",
       "  </thead>\n",
       "  <tbody>\n",
       "    <tr>\n",
       "      <th>0</th>\n",
       "      <td>201925935</td>\n",
       "      <td>0.0</td>\n",
       "      <td>0.0</td>\n",
       "    </tr>\n",
       "    <tr>\n",
       "      <th>1</th>\n",
       "      <td>201927130</td>\n",
       "      <td>0.0</td>\n",
       "      <td>0.0</td>\n",
       "    </tr>\n",
       "    <tr>\n",
       "      <th>2</th>\n",
       "      <td>201927129</td>\n",
       "      <td>0.0</td>\n",
       "      <td>0.0</td>\n",
       "    </tr>\n",
       "    <tr>\n",
       "      <th>3</th>\n",
       "      <td>201721483</td>\n",
       "      <td>0.0</td>\n",
       "      <td>0.0</td>\n",
       "    </tr>\n",
       "    <tr>\n",
       "      <th>4</th>\n",
       "      <td>201515380</td>\n",
       "      <td>0.0</td>\n",
       "      <td>0.0</td>\n",
       "    </tr>\n",
       "  </tbody>\n",
       "</table>\n",
       "</div>"
      ],
      "text/plain": [
       "    CnBio_ID  Donation_Score  Volunteering_Score\n",
       "0  201925935             0.0                 0.0\n",
       "1  201927130             0.0                 0.0\n",
       "2  201927129             0.0                 0.0\n",
       "3  201721483             0.0                 0.0\n",
       "4  201515380             0.0                 0.0"
      ]
     },
     "execution_count": 81,
     "metadata": {},
     "output_type": "execute_result"
    }
   ],
   "source": [
    "#adding volunteer score to full df\n",
    "full = full.merge(volunteering_score, how = 'left', left_on = 'CnBio_ID', right_on = 'Constituent_ID')\n",
    "\n",
    "#limiting to needed columns\n",
    "full = full[['CnBio_ID', 'Donation_Score', 'Volunteering_Score']]\n",
    "\n",
    "#filling in na values with 0 \n",
    "full['Volunteering_Score'] = full['Volunteering_Score'].fillna(0)\n",
    "\n",
    "full.head()"
   ]
  },
  {
   "cell_type": "markdown",
   "id": "7b796692",
   "metadata": {},
   "source": [
    "## Calculating Donor Engagement Score"
   ]
  },
  {
   "cell_type": "code",
   "execution_count": 82,
   "id": "a38a2841",
   "metadata": {},
   "outputs": [],
   "source": [
    "full['Engagement_Score']= (0.5*(full['Donation_Score']))+ (0.5*(full['Volunteering_Score']))"
   ]
  },
  {
   "cell_type": "code",
   "execution_count": 83,
   "id": "bc99a9ba",
   "metadata": {},
   "outputs": [
    {
     "data": {
      "text/html": [
       "<div>\n",
       "<style scoped>\n",
       "    .dataframe tbody tr th:only-of-type {\n",
       "        vertical-align: middle;\n",
       "    }\n",
       "\n",
       "    .dataframe tbody tr th {\n",
       "        vertical-align: top;\n",
       "    }\n",
       "\n",
       "    .dataframe thead th {\n",
       "        text-align: right;\n",
       "    }\n",
       "</style>\n",
       "<table border=\"1\" class=\"dataframe\">\n",
       "  <thead>\n",
       "    <tr style=\"text-align: right;\">\n",
       "      <th></th>\n",
       "      <th>CnBio_ID</th>\n",
       "      <th>Donation_Score</th>\n",
       "      <th>Volunteering_Score</th>\n",
       "      <th>Engagement_Score</th>\n",
       "    </tr>\n",
       "  </thead>\n",
       "  <tbody>\n",
       "    <tr>\n",
       "      <th>0</th>\n",
       "      <td>201925935</td>\n",
       "      <td>0.0</td>\n",
       "      <td>0.0</td>\n",
       "      <td>0.0</td>\n",
       "    </tr>\n",
       "    <tr>\n",
       "      <th>1</th>\n",
       "      <td>201927130</td>\n",
       "      <td>0.0</td>\n",
       "      <td>0.0</td>\n",
       "      <td>0.0</td>\n",
       "    </tr>\n",
       "    <tr>\n",
       "      <th>2</th>\n",
       "      <td>201927129</td>\n",
       "      <td>0.0</td>\n",
       "      <td>0.0</td>\n",
       "      <td>0.0</td>\n",
       "    </tr>\n",
       "    <tr>\n",
       "      <th>3</th>\n",
       "      <td>201721483</td>\n",
       "      <td>0.0</td>\n",
       "      <td>0.0</td>\n",
       "      <td>0.0</td>\n",
       "    </tr>\n",
       "    <tr>\n",
       "      <th>4</th>\n",
       "      <td>201515380</td>\n",
       "      <td>0.0</td>\n",
       "      <td>0.0</td>\n",
       "      <td>0.0</td>\n",
       "    </tr>\n",
       "  </tbody>\n",
       "</table>\n",
       "</div>"
      ],
      "text/plain": [
       "    CnBio_ID  Donation_Score  Volunteering_Score  Engagement_Score\n",
       "0  201925935             0.0                 0.0               0.0\n",
       "1  201927130             0.0                 0.0               0.0\n",
       "2  201927129             0.0                 0.0               0.0\n",
       "3  201721483             0.0                 0.0               0.0\n",
       "4  201515380             0.0                 0.0               0.0"
      ]
     },
     "execution_count": 83,
     "metadata": {},
     "output_type": "execute_result"
    }
   ],
   "source": [
    "full.head()"
   ]
  },
  {
   "cell_type": "code",
   "execution_count": 87,
   "id": "c689add2",
   "metadata": {},
   "outputs": [
    {
     "data": {
      "text/plain": [
       "7.8999999999999995"
      ]
     },
     "execution_count": 87,
     "metadata": {},
     "output_type": "execute_result"
    }
   ],
   "source": [
    "full['Engagement_Score'].max()"
   ]
  },
  {
   "cell_type": "code",
   "execution_count": 88,
   "id": "27c3d517",
   "metadata": {},
   "outputs": [],
   "source": [
    "full.to_csv('EngagementScoreV2.csv',encoding='utf-8')"
   ]
  },
  {
   "cell_type": "code",
   "execution_count": null,
   "id": "3229d514",
   "metadata": {},
   "outputs": [],
   "source": []
  }
 ],
 "metadata": {
  "kernelspec": {
   "display_name": "Python 3 (ipykernel)",
   "language": "python",
   "name": "python3"
  },
  "language_info": {
   "codemirror_mode": {
    "name": "ipython",
    "version": 3
   },
   "file_extension": ".py",
   "mimetype": "text/x-python",
   "name": "python",
   "nbconvert_exporter": "python",
   "pygments_lexer": "ipython3",
   "version": "3.9.6"
  }
 },
 "nbformat": 4,
 "nbformat_minor": 5
}
